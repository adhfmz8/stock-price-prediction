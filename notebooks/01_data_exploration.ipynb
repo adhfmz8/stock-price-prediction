{
 "cells": [
  {
   "cell_type": "markdown",
   "metadata": {},
   "source": [
    "Put all imports up here"
   ]
  },
  {
   "cell_type": "code",
   "execution_count": null,
   "metadata": {},
   "outputs": [],
   "source": [
    "import pandas as pd\n",
    "import matplotlib.pyplot as plt\n",
    "import seaborn as sns\n",
    "from statsmodels.graphics.tsaplots import plot_acf, plot_pacf\n",
    "from statsmodels.tsa.stattools import adfuller"
   ]
  },
  {
   "cell_type": "markdown",
   "metadata": {},
   "source": [
    "# Data Exploration"
   ]
  },
  {
   "cell_type": "markdown",
   "metadata": {},
   "source": [
    "## The Purpose of this notebook\n",
    "\n",
    "The purpose of this notebooks is to explore the various datasets given from the yahoo finance API. Here are the stock tickers being analyzed: AAPL, MSFT, NVDA, JNJ, PFE, JPM, GS, XOM, CVX, TSLA, AMZN, NEE, CAT, BA\n",
    "\n",
    "Here are the datasets for each being analyzed: prices from 2020 Jan. 1st - 2025 Jan. 1st, balance sheet, cash flow, and income statement."
   ]
  },
  {
   "cell_type": "markdown",
   "metadata": {},
   "source": [
    "### Lets load the notebooks"
   ]
  },
  {
   "cell_type": "code",
   "execution_count": null,
   "metadata": {},
   "outputs": [],
   "source": [
    "AAPL_prices = pd.read_csv(\"../data/raw/yf_prices/AAPL.csv\")\n",
    "AAPL_balance_sheet = pd.read_csv(\"../data/raw/yf_fundimentals/AAPL/balance_sheet.csv\")\n",
    "AAPL_cash_flow = pd.read_csv(\"../data/raw/yf_fundimentals/AAPL/cash_flow.csv\")\n",
    "AAPL_income_statement = pd.read_csv(\n",
    "    \"../data/raw/yf_fundimentals/AAPL/income_statement.csv\"\n",
    ")\n",
    "AMZN_prices = pd.read_csv(\"../data/raw/yf_prices/AMZN.csv\")\n",
    "AMZN_balance_sheet = pd.read_csv(\"../data/raw/yf_fundimentals/AMZN/balance_sheet.csv\")\n",
    "AMZN_cash_flow = pd.read_csv(\"../data/raw/yf_fundimentals/AMZN/cash_flow.csv\")\n",
    "AMZN_income_statement = pd.read_csv(\n",
    "    \"../data/raw/yf_fundimentals/AMZN/income_statement.csv\"\n",
    ")\n",
    "BA_prices = pd.read_csv(\"../data/raw/yf_prices/BA.csv\")\n",
    "BA_balance_sheet = pd.read_csv(\"../data/raw/yf_fundimentals/BA/balance_sheet.csv\")\n",
    "BA_cash_flow = pd.read_csv(\"../data/raw/yf_fundimentals/BA/cash_flow.csv\")\n",
    "BA_income_statement = pd.read_csv(\"../data/raw/yf_fundimentals/BA/income_statement.csv\")\n",
    "CAT_prices = pd.read_csv(\"../data/raw/yf_prices/CAT.csv\")\n",
    "CAT_balance_sheet = pd.read_csv(\"../data/raw/yf_fundimentals/CAT/balance_sheet.csv\")\n",
    "CAT_cash_flow = pd.read_csv(\"../data/raw/yf_fundimentals/CAT/cash_flow.csv\")\n",
    "CAT_income_statement = pd.read_csv(\n",
    "    \"../data/raw/yf_fundimentals/CAT/income_statement.csv\"\n",
    ")\n",
    "CVX_prices = pd.read_csv(\"../data/raw/yf_prices/CVX.csv\")\n",
    "CVX_balance_sheet = pd.read_csv(\"../data/raw/yf_fundimentals/CVX/balance_sheet.csv\")\n",
    "CVX_cash_flow = pd.read_csv(\"../data/raw/yf_fundimentals/CVX/cash_flow.csv\")\n",
    "CVX_income_statement = pd.read_csv(\n",
    "    \"../data/raw/yf_fundimentals/CVX/income_statement.csv\"\n",
    ")\n",
    "GS_prices = pd.read_csv(\"../data/raw/yf_prices/GS.csv\")\n",
    "GS_balance_sheet = pd.read_csv(\"../data/raw/yf_fundimentals/GS/balance_sheet.csv\")\n",
    "GS_cash_flow = pd.read_csv(\"../data/raw/yf_fundimentals/GS/cash_flow.csv\")\n",
    "GS_income_statement = pd.read_csv(\"../data/raw/yf_fundimentals/GS/income_statement.csv\")\n",
    "JNJ_prices = pd.read_csv(\"../data/raw/yf_prices/JNJ.csv\")\n",
    "JNJ_balance_sheet = pd.read_csv(\"../data/raw/yf_fundimentals/JNJ/balance_sheet.csv\")\n",
    "JNJ_cash_flow = pd.read_csv(\"../data/raw/yf_fundimentals/JNJ/cash_flow.csv\")\n",
    "JNJ_income_statement = pd.read_csv(\n",
    "    \"../data/raw/yf_fundimentals/JNJ/income_statement.csv\"\n",
    ")\n",
    "JPM_prices = pd.read_csv(\"../data/raw/yf_prices/JPM.csv\")\n",
    "JPM_balance_sheet = pd.read_csv(\"../data/raw/yf_fundimentals/JPM/balance_sheet.csv\")\n",
    "JPM_cash_flow = pd.read_csv(\"../data/raw/yf_fundimentals/JPM/cash_flow.csv\")\n",
    "JPM_income_statement = pd.read_csv(\n",
    "    \"../data/raw/yf_fundimentals/JPM/income_statement.csv\"\n",
    ")\n",
    "MSFT_prices = pd.read_csv(\"../data/raw/yf_prices/MSFT.csv\")\n",
    "MSFT_balance_sheet = pd.read_csv(\"../data/raw/yf_fundimentals/MSFT/balance_sheet.csv\")\n",
    "MSFT_cash_flow = pd.read_csv(\"../data/raw/yf_fundimentals/MSFT/cash_flow.csv\")\n",
    "MSFT_income_statement = pd.read_csv(\n",
    "    \"../data/raw/yf_fundimentals/MSFT/income_statement.csv\"\n",
    ")\n",
    "NEE_prices = pd.read_csv(\"../data/raw/yf_prices/NEE.csv\")\n",
    "NEE_balance_sheet = pd.read_csv(\"../data/raw/yf_fundimentals/NEE/balance_sheet.csv\")\n",
    "NEE_cash_flow = pd.read_csv(\"../data/raw/yf_fundimentals/NEE/cash_flow.csv\")\n",
    "NEE_income_statement = pd.read_csv(\n",
    "    \"../data/raw/yf_fundimentals/NEE/income_statement.csv\"\n",
    ")\n",
    "NVDA_prices = pd.read_csv(\"../data/raw/yf_prices/NVDA.csv\")\n",
    "NVDA_balance_sheet = pd.read_csv(\"../data/raw/yf_fundimentals/NVDA/balance_sheet.csv\")\n",
    "NVDA_cash_flow = pd.read_csv(\"../data/raw/yf_fundimentals/NVDA/cash_flow.csv\")\n",
    "NVDA_income_statement = pd.read_csv(\n",
    "    \"../data/raw/yf_fundimentals/NVDA/income_statement.csv\"\n",
    ")\n",
    "PFE_prices = pd.read_csv(\"../data/raw/yf_prices/PFE.csv\")\n",
    "PFE_balance_sheet = pd.read_csv(\"../data/raw/yf_fundimentals/PFE/balance_sheet.csv\")\n",
    "PFE_cash_flow = pd.read_csv(\"../data/raw/yf_fundimentals/PFE/cash_flow.csv\")\n",
    "PFE_income_statement = pd.read_csv(\n",
    "    \"../data/raw/yf_fundimentals/PFE/income_statement.csv\"\n",
    ")\n",
    "TSLA_prices = pd.read_csv(\"../data/raw/yf_prices/TSLA.csv\")\n",
    "TSLA_balance_sheet = pd.read_csv(\"../data/raw/yf_fundimentals/TSLA/balance_sheet.csv\")\n",
    "TSLA_cash_flow = pd.read_csv(\"../data/raw/yf_fundimentals/TSLA/cash_flow.csv\")\n",
    "TSLA_income_statement = pd.read_csv(\n",
    "    \"../data/raw/yf_fundimentals/TSLA/income_statement.csv\"\n",
    ")\n",
    "XOM_prices = pd.read_csv(\"../data/raw/yf_prices/XOM.csv\")\n",
    "XOM_balance_sheet = pd.read_csv(\"../data/raw/yf_fundimentals/XOM/balance_sheet.csv\")\n",
    "XOM_cash_flow = pd.read_csv(\"../data/raw/yf_fundimentals/XOM/cash_flow.csv\")\n",
    "XOM_income_statement = pd.read_csv(\n",
    "    \"../data/raw/yf_fundimentals/XOM/income_statement.csv\"\n",
    ")"
   ]
  },
  {
   "cell_type": "markdown",
   "metadata": {},
   "source": [
    "Now lets take a look at the shape of the data"
   ]
  },
  {
   "cell_type": "markdown",
   "metadata": {},
   "source": [
    "### Prices DF"
   ]
  },
  {
   "cell_type": "code",
   "execution_count": null,
   "metadata": {},
   "outputs": [],
   "source": [
    "AAPL_prices.head()"
   ]
  },
  {
   "cell_type": "markdown",
   "metadata": {},
   "source": [
    "The Prices df has 2 useless rows, lets get rid of them, and make the columns numeric for analysis"
   ]
  },
  {
   "cell_type": "code",
   "execution_count": null,
   "metadata": {},
   "outputs": [],
   "source": [
    "AAPL_prices[\"Close\"] = pd.to_numeric(AAPL_prices[\"Close\"], errors=\"coerce\")\n",
    "AAPL_prices = AAPL_prices.dropna(subset=[\"Close\"]).reset_index(drop=True)\n",
    "AAPL_prices[\"High\"] = pd.to_numeric(AAPL_prices[\"High\"], errors=\"coerce\")\n",
    "AAPL_prices[\"Low\"] = pd.to_numeric(AAPL_prices[\"Low\"], errors=\"coerce\")\n",
    "AAPL_prices[\"Open\"] = pd.to_numeric(AAPL_prices[\"Open\"], errors=\"coerce\")\n",
    "AAPL_prices[\"Volume\"] = pd.to_numeric(AAPL_prices[\"Volume\"], errors=\"coerce\")"
   ]
  },
  {
   "cell_type": "code",
   "execution_count": null,
   "metadata": {},
   "outputs": [],
   "source": [
    "AAPL_prices.head()"
   ]
  },
  {
   "cell_type": "markdown",
   "metadata": {},
   "source": [
    "Much better."
   ]
  },
  {
   "cell_type": "markdown",
   "metadata": {},
   "source": [
    "### Balance Sheet DF"
   ]
  },
  {
   "cell_type": "code",
   "execution_count": null,
   "metadata": {},
   "outputs": [],
   "source": [
    "AAPL_balance_sheet.head()"
   ]
  },
  {
   "cell_type": "markdown",
   "metadata": {},
   "source": [
    "### Cash Flow DF"
   ]
  },
  {
   "cell_type": "code",
   "execution_count": null,
   "metadata": {},
   "outputs": [],
   "source": [
    "AAPL_cash_flow.head()"
   ]
  },
  {
   "cell_type": "markdown",
   "metadata": {},
   "source": [
    "### Income Statement DF"
   ]
  },
  {
   "cell_type": "code",
   "execution_count": null,
   "metadata": {},
   "outputs": [],
   "source": [
    "AAPL_income_statement.head()"
   ]
  },
  {
   "cell_type": "markdown",
   "metadata": {},
   "source": [
    "## Stock Price Data Exploration"
   ]
  },
  {
   "cell_type": "markdown",
   "metadata": {},
   "source": [
    "### Apple"
   ]
  },
  {
   "cell_type": "code",
   "execution_count": null,
   "metadata": {},
   "outputs": [],
   "source": [
    "AAPL_prices.info()"
   ]
  },
  {
   "cell_type": "code",
   "execution_count": null,
   "metadata": {},
   "outputs": [],
   "source": [
    "AAPL_prices.describe()"
   ]
  },
  {
   "cell_type": "code",
   "execution_count": null,
   "metadata": {},
   "outputs": [],
   "source": [
    "series = pd.Series(AAPL_prices[\"Close\"])\n",
    "plt.boxplot(series)"
   ]
  },
  {
   "cell_type": "markdown",
   "metadata": {},
   "source": [
    "Lets look for null values"
   ]
  },
  {
   "cell_type": "code",
   "execution_count": null,
   "metadata": {},
   "outputs": [],
   "source": [
    "AAPL_prices.isnull().sum()"
   ]
  },
  {
   "cell_type": "markdown",
   "metadata": {},
   "source": [
    "Set the prices to datetime"
   ]
  },
  {
   "cell_type": "code",
   "execution_count": null,
   "metadata": {},
   "outputs": [],
   "source": [
    "AAPL_prices[\"Price\"] = pd.to_datetime(AAPL_prices[\"Price\"])"
   ]
  },
  {
   "cell_type": "markdown",
   "metadata": {},
   "source": [
    "Check if dates in correct order -> should return True"
   ]
  },
  {
   "cell_type": "code",
   "execution_count": null,
   "metadata": {},
   "outputs": [],
   "source": [
    "print(AAPL_prices[\"Price\"].index.is_monotonic_increasing)"
   ]
  },
  {
   "cell_type": "code",
   "execution_count": null,
   "metadata": {},
   "outputs": [],
   "source": [
    "plt.plot(AAPL_prices[\"Price\"], AAPL_prices[\"Close\"])\n",
    "plt.xlabel(\"Date\")\n",
    "plt.ylabel(\"Closing Price of Apple\")"
   ]
  },
  {
   "cell_type": "code",
   "execution_count": null,
   "metadata": {},
   "outputs": [],
   "source": [
    "correlation_matrix = AAPL_prices.corr()\n",
    "sns.heatmap(correlation_matrix, annot=True)\n",
    "plt.title(\"Correlation of AAPL Prices to Volume\")\n",
    "plt.show()"
   ]
  },
  {
   "cell_type": "markdown",
   "metadata": {},
   "source": [
    "Notice that volume and price have a correlation of *-0.64*, this suggests a strong negative relationship."
   ]
  },
  {
   "cell_type": "markdown",
   "metadata": {},
   "source": [
    "Lets compute the 7 day SMA"
   ]
  },
  {
   "cell_type": "code",
   "execution_count": null,
   "metadata": {},
   "outputs": [],
   "source": [
    "AAPL_prices[\"Close\"] = pd.to_numeric(AAPL_prices[\"Close\"], errors=\"coerce\")\n",
    "AAPL_prices = AAPL_prices.dropna(subset=[\"Close\"]).reset_index(drop=True)\n",
    "\n",
    "AAPL_prices[\"close_7d_ma\"] = AAPL_prices[\"Close\"].rolling(window=7).mean()\n",
    "AAPL_prices[[\"Close\", \"close_7d_ma\"]].plot()\n",
    "plt.title(\"Closing Price of Apple with 7 Day SMA\")\n",
    "plt.show()"
   ]
  },
  {
   "cell_type": "markdown",
   "metadata": {},
   "source": [
    "Lets analyze the volatility"
   ]
  },
  {
   "cell_type": "code",
   "execution_count": null,
   "metadata": {},
   "outputs": [],
   "source": [
    "AAPL_prices[\"Returns\"] = AAPL_prices[\"Close\"].pct_change()\n",
    "AAPL_prices.hist(bins=50, figsize=(10, 7))\n",
    "plt.title(\"Distribution of Daily Returns of Apple\")\n",
    "plt.show()"
   ]
  },
  {
   "cell_type": "markdown",
   "metadata": {},
   "source": [
    "Notice the odd behavior of open and close, with many days returning much lower and much higher than normal, this suggests that the returns should be modeled with a fat tail distribution like Levy or students T."
   ]
  },
  {
   "cell_type": "code",
   "execution_count": null,
   "metadata": {},
   "outputs": [],
   "source": [
    "AAPL_prices[\"Volume\"].plot(kind=\"hist\", bins=50, figsize=(10, 5))\n",
    "plt.title(\"Trading Volume Distribution\")\n",
    "plt.show()"
   ]
  },
  {
   "cell_type": "markdown",
   "metadata": {},
   "source": [
    "Most trading days are low volume, as seen by the positive skew of the graph above"
   ]
  },
  {
   "cell_type": "code",
   "execution_count": null,
   "metadata": {},
   "outputs": [],
   "source": [
    "fig, axes = plt.subplots(1, 2, figsize=(12, 5))\n",
    "plot_acf(AAPL_prices[\"Returns\"].dropna(), lags=20, ax=axes[0])\n",
    "axes[0].set_title(\"Autocorrelation Function (ACF)\")\n",
    "\n",
    "plot_pacf(AAPL_prices[\"Returns\"], ax=axes[1], lags=40)\n",
    "axes[1].set_title(\"Partial Autocorrelation Function (PACF)\")\n",
    "\n",
    "plt.show()"
   ]
  },
  {
   "cell_type": "markdown",
   "metadata": {},
   "source": [
    "The ACF chart shows that past values have little correlation with future returns, the PACF chart says the same, but over a time lag. This should be somewhat expected, ARIMA is not a good choice, possible white noise process, daily returns seem to be independant."
   ]
  },
  {
   "cell_type": "code",
   "execution_count": null,
   "metadata": {},
   "outputs": [],
   "source": [
    "adf_result = adfuller(AAPL_prices[\"Returns\"].dropna())\n",
    "\n",
    "print(\"ADF Statistic:\", adf_result[0])\n",
    "print(\"p-value:\", adf_result[1])\n",
    "print(\"Critical Values:\", adf_result[4])"
   ]
  },
  {
   "cell_type": "markdown",
   "metadata": {},
   "source": [
    "The ADF results suggest that Apple stock is stationary, there is no trend that changes over time."
   ]
  },
  {
   "cell_type": "markdown",
   "metadata": {},
   "source": [
    "### Extracting column information for Apple"
   ]
  },
  {
   "cell_type": "code",
   "execution_count": null,
   "metadata": {},
   "outputs": [],
   "source": [
    "AAPL_balance_sheet.info()\n",
    "print(\"\\n\" + \"=\"*50 + \"\\n\")  # Separator for readability\n",
    "AAPL_cash_flow.info()\n",
    "print(\"\\n\" + \"=\"*50 + \"\\n\") \n",
    "AAPL_income_statement.info()\n"
   ]
  },
  {
   "cell_type": "markdown",
   "metadata": {},
   "source": [
    "### Data Transposition for Apple"
   ]
  },
  {
   "cell_type": "code",
   "execution_count": null,
   "metadata": {},
   "outputs": [],
   "source": [
    "# Dates from columns\n",
    "AAPL_balance_sheet_transposed = AAPL_balance_sheet.transpose()\n",
    "AAPL_cash_flow_transposed = AAPL_cash_flow.transpose()\n",
    "AAPL_income_statement_transposed = AAPL_income_statement.transpose()\n"
   ]
  },
  {
   "cell_type": "code",
   "execution_count": null,
   "metadata": {},
   "outputs": [],
   "source": [
    "# Display transposed columns\n",
    "AAPL_balance_sheet_transposed.columns = AAPL_balance_sheet_transposed.iloc[0]\n",
    "AAPL_income_statement_transposed.columns = AAPL_income_statement_transposed.iloc[0]\n",
    "AAPL_cash_flow_transposed.columns = AAPL_cash_flow_transposed.iloc[0]\n",
    "\n",
    "# Get specific column\n",
    "#print(AAPL_balance_sheet_transposed['Leases'])\n",
    "#print(AAPL_income_statement_transposed['Total Revenue'])\n",
    "#print(AAPL_cash_flow_transposed['Free Cash Flow'])\n",
    "AAPL_income_statement_transposed.head()"
   ]
  },
  {
   "cell_type": "markdown",
   "metadata": {},
   "source": [
    "### Missing Value Analysis for Apple"
   ]
  },
  {
   "cell_type": "code",
   "execution_count": null,
   "metadata": {},
   "outputs": [],
   "source": [
    "# Calculate missing values percentage\n",
    "missing_values_balance_sheet = AAPL_balance_sheet_transposed.isnull().sum() / len(AAPL_balance_sheet_transposed) * 100\n",
    "missing_values_cash_flow = AAPL_cash_flow_transposed.isnull().sum() / len(AAPL_cash_flow_transposed) * 100\n",
    "missing_values_income_statement = AAPL_income_statement_transposed.isnull().sum() / len(AAPL_income_statement_transposed) * 100\n",
    "\n",
    "# Create a DataFrame for better readability\n",
    "missing_values_df = pd.DataFrame({\n",
    "    \"Balance Sheet\": missing_values_balance_sheet,\n",
    "    \"Cash Flow\": missing_values_cash_flow,\n",
    "    \"Income Statement\": missing_values_income_statement\n",
    "})\n",
    "\n",
    "# Display only columns with missing values\n",
    "missing_values_df = missing_values_df[missing_values_df.sum(axis=1) > 0]\n",
    "\n",
    "# Print the missing values\n",
    "print(\"Missing Values Percentage:\")\n",
    "print(missing_values_df.round(2))\n"
   ]
  },
  {
   "cell_type": "markdown",
   "metadata": {},
   "source": [
    "### Trend Analysis for Apple"
   ]
  },
  {
   "cell_type": "code",
   "execution_count": null,
   "metadata": {},
   "outputs": [],
   "source": [
    "# Trend analysis for Apple\n",
    "revenue = pd.to_numeric(AAPL_income_statement_transposed['Total Revenue'], errors='coerce')\n",
    "net_income = pd.to_numeric(AAPL_income_statement_transposed['Net Income'], errors='coerce')\n",
    "total_assets = pd.to_numeric(AAPL_balance_sheet_transposed['Total Assets'], errors='coerce')\n",
    "total_liabilities = pd.to_numeric(AAPL_balance_sheet_transposed['Current Liabilities'], errors='coerce')\n",
    "cash_flow_from_operations = pd.to_numeric(AAPL_cash_flow_transposed['Operating Cash Flow'], errors='coerce')\n",
    "\n",
    "revenue.plot(label=\"Total Revenue\")\n",
    "net_income.plot(label=\"Net Income\")\n",
    "total_assets.plot(label=\"Total Assets\")\n",
    "total_liabilities.plot(label='Total Liabilities') \n",
    "cash_flow_from_operations.plot(label= \"Operating Cashflow\")\n",
    "plt.title(\"Trend Analysis for Apple\")\n",
    "plt.legend()\n",
    "plt.show()\n",
    "\n"
   ]
  },
  {
   "cell_type": "markdown",
   "metadata": {},
   "source": [
    "### Ratio Analysis for Apple"
   ]
  },
  {
   "cell_type": "code",
   "execution_count": null,
   "metadata": {},
   "outputs": [],
   "source": [
    "# Profit margins for Apple\n",
    "gross_profit_margin = (pd.to_numeric(AAPL_income_statement_transposed['Total Revenue'], errors='coerce') - pd.to_numeric(AAPL_income_statement_transposed['Cost Of Revenue'], errors='coerce')) / pd.to_numeric(AAPL_income_statement_transposed['Total Revenue'], errors='coerce')\n",
    "operating_profit_margin = (pd.to_numeric(AAPL_income_statement_transposed[\"Operating Income\"], errors='coerce') / pd.to_numeric(AAPL_income_statement_transposed[\"Total Revenue\"], errors='coerce'))\n",
    "net_profit_margin = (pd.to_numeric(AAPL_income_statement_transposed[\"Net Income\"], errors='coerce') / pd.to_numeric(AAPL_income_statement_transposed[\"Total Revenue\"], errors='coerce'))\n",
    "\n",
    "# Liquidity Ratios for Apple\n",
    "current_ratio = (pd.to_numeric(AAPL_balance_sheet_transposed[\"Current Assets\"], errors='coerce') / pd.to_numeric(AAPL_balance_sheet_transposed[\"Current Liabilities\"], errors='coerce'))\n",
    "quick_ratio = (pd.to_numeric(AAPL_balance_sheet_transposed[\"Current Assets\"], errors='coerce') - pd.to_numeric(AAPL_balance_sheet_transposed[\"Inventory\"], errors='coerce')) / pd.to_numeric(AAPL_balance_sheet_transposed[\"Current Liabilities\"], errors='coerce')\n",
    "\n",
    "# Solvency Ratios for Apple\n",
    "debt_to_equity = (pd.to_numeric(AAPL_balance_sheet_transposed[\"Total Debt\"], errors='coerce') / pd.to_numeric(AAPL_balance_sheet_transposed[\"Total Equity Gross Minority Interest\"], errors='coerce'))\n",
    "interest_coverage_ratio = (pd.to_numeric(AAPL_income_statement_transposed[\"EBIT\"], errors='coerce') / pd.to_numeric(AAPL_income_statement_transposed[\"Interest Expense\"], errors='coerce'))\n",
    "\n",
    "# Efficiency Ratios for Apple\n",
    "asset_turnover_ratio = (pd.to_numeric(AAPL_income_statement_transposed[\"Total Revenue\"], errors='coerce') / pd.to_numeric(AAPL_balance_sheet_transposed[\"Total Assets\"], errors='coerce'))\n",
    "inventory_turnover_ratio =(pd.to_numeric(AAPL_income_statement_transposed[\"Cost Of Revenue\"], errors='coerce') / pd.to_numeric(AAPL_balance_sheet_transposed[\"Inventory\"], errors='coerce'))\n",
    "\n",
    "# Valuation Ratios for Apple, needs to be calculated\n",
    "#AAPL_price_to_earnings = (pd.to_numeric(AAPL_prices[\"Close\"], errors='coerce') / pd.to_numeric(AAPL_income_statement_transposed[\"Basic EPS\"], errors='coerce'))\n",
    "#AAPL_price_to_book = (pd.to_numeric(AAPL_prices[\"Close\"], errors='coerce') / pd.to_numeric(AAPL_prices[\"Book Value Per Share\"], errors='coerce'))\n",
    "#fig, axes = plt.subplots(2, 2, figsize=(12, 8))\n",
    "#axes[0, 0].plot(AAPL_prices[\"Price\"], AAPL_price_to_earnings)\n",
    "\n",
    "print(\"printing profit margins\\n\",gross_profit_margin, operating_profit_margin, net_profit_margin)\n",
    "print(\"printing liquidity margins\\n\",current_ratio, quick_ratio)\n",
    "print(\"printing solvency margins\\n\",debt_to_equity, interest_coverage_ratio)\n",
    "print(\"printing efficiency margins\\n\",asset_turnover_ratio, inventory_turnover_ratio)\n",
    "#print(\"printing valuation margins\\n\",AAPL_price_to_earnings)\n"
   ]
  },
  {
   "cell_type": "markdown",
   "metadata": {},
   "source": [
    "### Amazon"
   ]
  },
  {
   "cell_type": "code",
   "execution_count": null,
   "metadata": {},
   "outputs": [],
   "source": [
    "AMZN_prices[\"Close\"] = pd.to_numeric(AMZN_prices[\"Close\"], errors=\"coerce\")\n",
    "AMZN_prices = AMZN_prices.dropna(subset=[\"Close\"]).reset_index(drop=True)\n",
    "AMZN_prices[\"High\"] = pd.to_numeric(AMZN_prices[\"High\"], errors=\"coerce\")\n",
    "AMZN_prices[\"Low\"] = pd.to_numeric(AMZN_prices[\"Low\"], errors=\"coerce\")\n",
    "AMZN_prices[\"Open\"] = pd.to_numeric(AMZN_prices[\"Open\"], errors=\"coerce\")\n",
    "AMZN_prices[\"Volume\"] = pd.to_numeric(AMZN_prices[\"Volume\"], errors=\"coerce\")\n",
    "AMZN_prices[\"Price\"] = pd.to_datetime(AMZN_prices[\"Price\"])"
   ]
  },
  {
   "cell_type": "code",
   "execution_count": null,
   "metadata": {},
   "outputs": [],
   "source": [
    "correlation_matrix = AMZN_prices.corr()\n",
    "sns.heatmap(correlation_matrix, annot=True)\n",
    "plt.title(\"Correlation of AMZN Prices to Volume\")\n",
    "plt.show()"
   ]
  },
  {
   "cell_type": "code",
   "execution_count": null,
   "metadata": {},
   "outputs": [],
   "source": [
    "AMZN_prices[\"Returns\"] = AMZN_prices[\"Close\"].pct_change()\n",
    "AMZN_prices.hist(bins=50, figsize=(10, 7))\n",
    "plt.title(\"Distribution of Daily Returns of Amazon\")\n",
    "plt.show()"
   ]
  },
  {
   "cell_type": "code",
   "execution_count": null,
   "metadata": {},
   "outputs": [],
   "source": [
    "AMZN_prices[\"Volume\"].plot(kind=\"hist\", bins=50, figsize=(10, 5))\n",
    "plt.title(\"Trading Volume Distribution\")\n",
    "plt.show()"
   ]
  },
  {
   "cell_type": "code",
   "execution_count": null,
   "metadata": {},
   "outputs": [],
   "source": [
    "fig, axes = plt.subplots(1, 2, figsize=(12, 5))\n",
    "plot_acf(AMZN_prices[\"Returns\"].dropna(), lags=20, ax=axes[0])\n",
    "axes[0].set_title(\"Autocorrelation Function (ACF)\")\n",
    "\n",
    "plot_pacf(AMZN_prices[\"Returns\"], ax=axes[1], lags=40)\n",
    "axes[1].set_title(\"Partial Autocorrelation Function (PACF)\")\n",
    "\n",
    "plt.show()"
   ]
  },
  {
   "cell_type": "code",
   "execution_count": null,
   "metadata": {},
   "outputs": [],
   "source": [
    "adf_result = adfuller(AMZN_prices[\"Returns\"].dropna())\n",
    "\n",
    "print(\"ADF Statistic:\", adf_result[0])\n",
    "print(\"p-value:\", adf_result[1])\n",
    "print(\"Critical Values:\", adf_result[4])"
   ]
  },
  {
   "cell_type": "markdown",
   "metadata": {},
   "source": [
    "### Extracting column information for Amazon"
   ]
  },
  {
   "cell_type": "code",
   "execution_count": null,
   "metadata": {},
   "outputs": [],
   "source": [
    "AMZN_balance_sheet.info()\n",
    "print(\"\\n\" + \"=\"*50 + \"\\n\")  # Separator for readability\n",
    "AMZN_cash_flow.info()\n",
    "print(\"\\n\" + \"=\"*50 + \"\\n\")  \n",
    "AMZN_income_statement.info()"
   ]
  },
  {
   "cell_type": "markdown",
   "metadata": {},
   "source": [
    "### Extracting column information for Amazon"
   ]
  },
  {
   "cell_type": "code",
   "execution_count": null,
   "metadata": {},
   "outputs": [],
   "source": [
    "# Extracting column information for Amazon\n",
    "AMZN_balance_sheet_transposed = AMZN_balance_sheet.transpose()\n",
    "AMZN_cash_flow_transposed = AMZN_cash_flow.transpose()\n",
    "AMZN_income_statement_transposed = AMZN_income_statement.transpose()"
   ]
  },
  {
   "cell_type": "code",
   "execution_count": null,
   "metadata": {},
   "outputs": [],
   "source": [
    "# Display transposed columns\n",
    "AMZN_balance_sheet_transposed.columns = AMZN_balance_sheet_transposed.iloc[0]\n",
    "AMZN_income_statement_transposed.columns = AMZN_income_statement_transposed.iloc[0]\n",
    "AMZN_cash_flow_transposed.columns = AMZN_cash_flow_transposed.iloc[0]\n",
    "\n",
    "# Get specific column\n",
    "#print(AMZN_balance_sheet_transposed['Leases'])\n",
    "#print(AMZN_income_statement_transposed['Total Revenue'])\n",
    "#print(AMZN_cash_flow_transposed['Free Cash Flow'])\n",
    "#AMZN_income_statement_transposed.head()"
   ]
  },
  {
   "cell_type": "markdown",
   "metadata": {},
   "source": [
    "### Missing Value Analysis for Amazon\n"
   ]
  },
  {
   "cell_type": "code",
   "execution_count": null,
   "metadata": {},
   "outputs": [],
   "source": [
    "# calculate the percentage of missing values in each column\n",
    "missing_values_balance_sheet = AMZN_balance_sheet_transposed.isnull().sum() / len(AMZN_balance_sheet_transposed)\n",
    "missing_values_cash_flow = AMZN_cash_flow_transposed.isnull().sum() / len(AMZN_cash_flow_transposed)\n",
    "missing_values_income_statement = AMZN_income_statement_transposed.isnull().sum() / len(AMZN_income_statement_transposed)\n",
    "\n",
    "missing_values_df = pd.DataFrame({\n",
    "    \"Balance Sheet\": missing_values_balance_sheet,\n",
    "    \"Cash Flow\": missing_values_cash_flow,\n",
    "    \"Income Statement\": missing_values_income_statement\n",
    "})\n",
    "\n",
    "# Display only columns with missing values\n",
    "missing_values_df = missing_values_df[missing_values_df.sum(axis=1) > 0]\n",
    "\n",
    "# Print the missing values\n",
    "print(\"Missing Values Percentage:\")\n",
    "print(missing_values_df.round(2))\n"
   ]
  },
  {
   "cell_type": "markdown",
   "metadata": {},
   "source": [
    "### Trend Analysis for Amazon"
   ]
  },
  {
   "cell_type": "code",
   "execution_count": null,
   "metadata": {},
   "outputs": [],
   "source": [
    "# Trend analysis for Amazon\n",
    "revenue = pd.to_numeric(AMZN_income_statement_transposed['Total Revenue'], errors='coerce')\n",
    "net_income = pd.to_numeric(AMZN_income_statement_transposed['Net Income'], errors='coerce')\n",
    "total_assets = pd.to_numeric(AMZN_balance_sheet_transposed['Total Assets'], errors='coerce')\n",
    "total_liabilities = pd.to_numeric(AMZN_balance_sheet_transposed['Total Liabilities Net Minority Interest'], errors='coerce')\n",
    "cash_flow_from_operations = pd.to_numeric(AMZN_cash_flow_transposed['Operating Cash Flow'], errors='coerce')\n",
    "\n",
    "revenue.plot(label=\"Total Revenue\")\n",
    "net_income.plot(label=\"Net Income\")\n",
    "total_assets.plot(label=\"Total Assets\")\n",
    "total_liabilities.plot(label='Total Liabilities Net Minority Interest') \n",
    "cash_flow_from_operations.plot(label= \"Operating Cashflow\")\n",
    "plt.title(\"Trend Analysis for Amazon\")\n",
    "plt.legend()\n",
    "plt.show()\n",
    "\n"
   ]
  },
  {
   "cell_type": "markdown",
   "metadata": {},
   "source": [
    "### Ratio Analysis for Amazon"
   ]
  },
  {
   "cell_type": "code",
   "execution_count": null,
   "metadata": {},
   "outputs": [],
   "source": [
    "# Profit margins for Amazon\n",
    "gross_profit_margin = (pd.to_numeric(AMZN_income_statement_transposed['Total Revenue'], errors='coerce') - pd.to_numeric(AMZN_income_statement_transposed['Cost Of Revenue'], errors='coerce')) / pd.to_numeric(AMZN_income_statement_transposed['Total Revenue'], errors='coerce')\n",
    "operating_profit_margin = (pd.to_numeric(AMZN_income_statement_transposed[\"Operating Income\"], errors='coerce') / pd.to_numeric(AMZN_income_statement_transposed[\"Total Revenue\"], errors='coerce'))\n",
    "net_profit_margin = (pd.to_numeric(AMZN_income_statement_transposed[\"Net Income\"], errors='coerce') / pd.to_numeric(AMZN_income_statement_transposed[\"Total Revenue\"], errors='coerce'))\n",
    "\n",
    "# Liquidity Ratios for Amazon\n",
    "current_ratio = (pd.to_numeric(AMZN_balance_sheet_transposed[\"Current Assets\"], errors='coerce') / pd.to_numeric(AMZN_balance_sheet_transposed[\"Current Liabilities\"], errors='coerce'))\n",
    "quick_ratio = (pd.to_numeric(AMZN_balance_sheet_transposed[\"Current Assets\"], errors='coerce') - pd.to_numeric(AMZN_balance_sheet_transposed[\"Inventory\"], errors='coerce')) / pd.to_numeric(AMZN_balance_sheet_transposed[\"Current Liabilities\"], errors='coerce')\n",
    "\n",
    "# Solvency Ratios for Amazon\n",
    "debt_to_equity = (pd.to_numeric(AMZN_balance_sheet_transposed[\"Total Debt\"], errors='coerce') / pd.to_numeric(AMZN_balance_sheet_transposed[\"Total Equity Gross Minority Interest\"], errors='coerce'))\n",
    "interest_coverage_ratio = (pd.to_numeric(AMZN_income_statement_transposed[\"EBIT\"], errors='coerce') / pd.to_numeric(AMZN_income_statement_transposed[\"Interest Expense\"], errors='coerce'))\n",
    "\n",
    "# Efficiency Ratios for Amazon\n",
    "asset_turnover_ratio = (pd.to_numeric(AMZN_income_statement_transposed[\"Total Revenue\"], errors='coerce') / pd.to_numeric(AMZN_balance_sheet_transposed[\"Total Assets\"], errors='coerce'))\n",
    "inventory_turnover_ratio =(pd.to_numeric(AMZN_income_statement_transposed[\"Cost Of Revenue\"], errors='coerce') / pd.to_numeric(AMZN_balance_sheet_transposed[\"Inventory\"], errors='coerce'))\n",
    "\n",
    "# Valuation Ratios for Amazon, needs to be calculated\n",
    "#AMZN_price_to_earnings = (pd.to_numeric(AMZN_prices[\"Close\"], errors='coerce') / pd.to_numeric(AMZN_prices[\"Basic EPS\"], errors='coerce'))\n",
    "#AMZN_price_to_book = (pd.to_numeric(AMZN_prices[\"Close\"], errors='coerce') / pd.to_numeric(AMZN_prices[\"Book Value Per Share\"], errors='coerce'))\n",
    "#fig, axes = plt.subplots(2, 2, figsize=(12, 8))\n",
    "#axes[0, 0].plot(AMZN_prices[\"Price\"], AMZN_price_to_earnings)\n",
    "\n",
    "print(\"printing profit margins\\n\",gross_profit_margin, operating_profit_margin, net_profit_margin)\n",
    "print(\"printing liquidity margins\\n\",current_ratio, quick_ratio)\n",
    "print(\"printing solvency margins\\n\",debt_to_equity, interest_coverage_ratio)\n",
    "print(\"printing efficiency margins\\n\",asset_turnover_ratio, inventory_turnover_ratio)\n"
   ]
  },
  {
   "cell_type": "markdown",
   "metadata": {},
   "source": [
    "### Boeing"
   ]
  },
  {
   "cell_type": "markdown",
   "metadata": {},
   "source": [
    "Preprocessing"
   ]
  },
  {
   "cell_type": "code",
   "execution_count": null,
   "metadata": {},
   "outputs": [],
   "source": [
    "BA_prices[\"Close\"] = pd.to_numeric(BA_prices[\"Close\"], errors=\"coerce\")\n",
    "BA_prices = BA_prices.dropna(subset=[\"Close\"]).reset_index(drop=True)\n",
    "BA_prices[\"High\"] = pd.to_numeric(BA_prices[\"High\"], errors=\"coerce\")\n",
    "BA_prices[\"Low\"] = pd.to_numeric(BA_prices[\"Low\"], errors=\"coerce\")\n",
    "BA_prices[\"Open\"] = pd.to_numeric(BA_prices[\"Open\"], errors=\"coerce\")\n",
    "BA_prices[\"Volume\"] = pd.to_numeric(BA_prices[\"Volume\"], errors=\"coerce\")\n",
    "BA_prices[\"Price\"] = pd.to_datetime(BA_prices[\"Price\"])"
   ]
  },
  {
   "cell_type": "code",
   "execution_count": null,
   "metadata": {},
   "outputs": [],
   "source": [
    "correlation_matrix = BA_prices.corr()\n",
    "sns.heatmap(correlation_matrix, annot=True)\n",
    "plt.title(\"Correlation of BA Prices to Volume\")\n",
    "plt.show()"
   ]
  },
  {
   "cell_type": "code",
   "execution_count": null,
   "metadata": {},
   "outputs": [],
   "source": [
    "BA_prices[\"Returns\"] = BA_prices[\"Close\"].pct_change()\n",
    "BA_prices.hist(bins=50, figsize=(10, 7))\n",
    "plt.title(\"Distribution of Daily Returns of Boeing\")\n",
    "plt.show()"
   ]
  },
  {
   "cell_type": "code",
   "execution_count": null,
   "metadata": {},
   "outputs": [],
   "source": [
    "BA_prices[\"Volume\"].plot(kind=\"hist\", bins=50, figsize=(10, 5))\n",
    "plt.title(\"Trading Volume Distribution\")\n",
    "plt.show()"
   ]
  },
  {
   "cell_type": "code",
   "execution_count": null,
   "metadata": {},
   "outputs": [],
   "source": [
    "fig, axes = plt.subplots(1, 2, figsize=(12, 5))\n",
    "plot_acf(BA_prices[\"Returns\"].dropna(), lags=20, ax=axes[0])\n",
    "axes[0].set_title(\"Autocorrelation Function (ACF)\")\n",
    "\n",
    "plot_pacf(BA_prices[\"Returns\"], ax=axes[1], lags=40)\n",
    "axes[1].set_title(\"Partial Autocorrelation Function (PACF)\")\n",
    "\n",
    "plt.show()"
   ]
  },
  {
   "cell_type": "code",
   "execution_count": null,
   "metadata": {},
   "outputs": [],
   "source": [
    "adf_result = adfuller(BA_prices[\"Returns\"].dropna())\n",
    "\n",
    "print(\"ADF Statistic:\", adf_result[0])\n",
    "print(\"p-value:\", adf_result[1])\n",
    "print(\"Critical Values:\", adf_result[4])"
   ]
  },
  {
   "cell_type": "code",
   "execution_count": null,
   "metadata": {},
   "outputs": [],
   "source": [
    "# Extracting column information for Boeing\n",
    "BA_balance_sheet.info()\n",
    "print(\"\\n\" + \"=\"*50 + \"\\n\") # Separator for readability\n",
    "BA_cash_flow.info()\n",
    "print(\"\\n\" + \"=\"*50 + \"\\n\") \n",
    "BA_income_statement.info()"
   ]
  },
  {
   "cell_type": "markdown",
   "metadata": {},
   "source": [
    "### Transposing Data for Boeing"
   ]
  },
  {
   "cell_type": "code",
   "execution_count": null,
   "metadata": {},
   "outputs": [],
   "source": [
    "# Transposing data\n",
    "BA_balance_sheet_transposed = BA_balance_sheet.transpose()\n",
    "BA_cash_flow_transposed = BA_cash_flow.transpose()\n",
    "BA_income_statement_transposed = BA_income_statement.transpose()\n"
   ]
  },
  {
   "cell_type": "code",
   "execution_count": null,
   "metadata": {},
   "outputs": [],
   "source": [
    "# Display transposed columns\n",
    "BA_balance_sheet_transposed.columns = BA_balance_sheet_transposed.iloc[0]\n",
    "BA_income_statement_transposed.columns = BA_income_statement_transposed.iloc[0]\n",
    "BA_cash_flow_transposed.columns = BA_cash_flow_transposed.iloc[0]\n",
    "\n",
    "# Get specific column\n",
    "#print(BA_balance_sheet_transposed['Leases'])\n",
    "#print(BA_income_statement_transposed['Total Revenue'])\n",
    "#print(BA_cash_flow_transposed['Free Cash Flow'])\n",
    "#BA_income_statement_transposed.head()"
   ]
  },
  {
   "cell_type": "markdown",
   "metadata": {},
   "source": [
    "### Missing Value Analysis for Boeing"
   ]
  },
  {
   "cell_type": "code",
   "execution_count": null,
   "metadata": {},
   "outputs": [],
   "source": [
    "# calculating missing values for each column\n",
    "missing_values_balance_sheet = BA_balance_sheet_transposed.isnull().sum() / len(BA_balance_sheet_transposed)\n",
    "missing_values_cash_flow = BA_cash_flow_transposed.isnull().sum() / len(BA_cash_flow_transposed)\n",
    "missing_values_income_statement = BA_income_statement_transposed.isnull().sum() / len(BA_income_statement_transposed)\n",
    "\n",
    "missing_values_df = pd.DataFrame({\n",
    "    \"Balance Sheet\": missing_values_balance_sheet,\n",
    "    \"Cash Flow\": missing_values_cash_flow,\n",
    "    \"Income Statement\": missing_values_income_statement\n",
    "})\n",
    "\n",
    "# Display only columns with missing values\n",
    "missing_values_df = missing_values_df[missing_values_df.sum(axis=1) > 0]\n",
    "\n",
    "# Print the missing values\n",
    "print(\"Missing Values Percentage:\")\n",
    "print(missing_values_df.round(2))\n"
   ]
  },
  {
   "cell_type": "markdown",
   "metadata": {},
   "source": [
    "### Trend Analysis for Boeing"
   ]
  },
  {
   "cell_type": "code",
   "execution_count": null,
   "metadata": {},
   "outputs": [],
   "source": [
    "# Trend analysis for Boeing\n",
    "revenue = pd.to_numeric(BA_income_statement_transposed['Total Revenue'], errors='coerce')\n",
    "net_income = pd.to_numeric(BA_income_statement_transposed['Net Income'], errors='coerce')\n",
    "total_assets = pd.to_numeric(BA_balance_sheet_transposed['Total Assets'], errors='coerce')\n",
    "total_liabilities = pd.to_numeric(BA_balance_sheet_transposed['Total Liabilities Net Minority Interest'], errors='coerce')\n",
    "cash_flow_from_operations = pd.to_numeric(BA_cash_flow_transposed['Operating Cash Flow'], errors='coerce')\n",
    "\n",
    "revenue.plot(label=\"Total Revenue\")\n",
    "net_income.plot(label=\"Net Income\")\n",
    "total_assets.plot(label=\"Total Assets\")\n",
    "total_liabilities.plot(label='Total Liabilities Net Minority Interest') \n",
    "cash_flow_from_operations.plot(label= \"Operating Cashflow\")\n",
    "plt.title(\"Trend Analysis for Boeing\")\n",
    "plt.legend()\n",
    "plt.show()\n",
    "\n"
   ]
  },
  {
   "cell_type": "markdown",
   "metadata": {},
   "source": [
    "### Ratio Analysis for Boeing"
   ]
  },
  {
   "cell_type": "code",
   "execution_count": null,
   "metadata": {},
   "outputs": [],
   "source": [
    "# Profit margins for Boeing\n",
    "gross_profit_margin = (pd.to_numeric(BA_income_statement_transposed['Total Revenue'], errors='coerce') - pd.to_numeric(BA_income_statement_transposed['Cost Of Revenue'], errors='coerce')) / pd.to_numeric(BA_income_statement_transposed['Total Revenue'], errors='coerce')\n",
    "operating_profit_margin = (pd.to_numeric(BA_income_statement_transposed[\"Operating Income\"], errors='coerce') / pd.to_numeric(BA_income_statement_transposed[\"Total Revenue\"], errors='coerce'))\n",
    "net_profit_margin = (pd.to_numeric(BA_income_statement_transposed[\"Net Income\"], errors='coerce') / pd.to_numeric(BA_income_statement_transposed[\"Total Revenue\"], errors='coerce'))\n",
    "\n",
    "# Liquidity Ratios for Boeing\n",
    "current_ratio = (pd.to_numeric(BA_balance_sheet_transposed[\"Current Assets\"], errors='coerce') / pd.to_numeric(BA_balance_sheet_transposed[\"Current Liabilities\"], errors='coerce'))\n",
    "quick_ratio = (pd.to_numeric(BA_balance_sheet_transposed[\"Current Assets\"], errors='coerce') - pd.to_numeric(BA_balance_sheet_transposed[\"Inventory\"], errors='coerce')) / pd.to_numeric(BA_balance_sheet_transposed[\"Current Liabilities\"], errors='coerce')\n",
    "\n",
    "# Solvency Ratios for Boeing\n",
    "debt_to_equity = (pd.to_numeric(BA_balance_sheet_transposed[\"Total Debt\"], errors='coerce') / pd.to_numeric(BA_balance_sheet_transposed[\"Total Equity Gross Minority Interest\"], errors='coerce'))\n",
    "interest_coverage_ratio = (pd.to_numeric(BA_income_statement_transposed[\"EBIT\"], errors='coerce') / pd.to_numeric(BA_income_statement_transposed[\"Interest Expense\"], errors='coerce'))\n",
    "\n",
    "# Efficiency Ratios for Boeing\n",
    "asset_turnover_ratio = (pd.to_numeric(BA_income_statement_transposed[\"Total Revenue\"], errors='coerce') / pd.to_numeric(BA_balance_sheet_transposed[\"Total Assets\"], errors='coerce'))\n",
    "inventory_turnover_ratio =(pd.to_numeric(BA_income_statement_transposed[\"Cost Of Revenue\"], errors='coerce') / pd.to_numeric(BA_balance_sheet_transposed[\"Inventory\"], errors='coerce'))\n",
    "\n",
    "# Valuation Ratios for Boeing, needs to be calculated\n",
    "#BA_price_to_earnings = (pd.to_numeric(BA_prices[\"Close\"], errors='coerce') / pd.to_numeric(BA_prices[\"Basic EPS\"], errors='coerce'))\n",
    "#BA_price_to_book = (pd.to_numeric(BA_prices[\"Close\"], errors='coerce') / pd.to_numeric(BA_prices[\"Book Value Per Share\"], errors='coerce'))\n",
    "#fig, axes = plt.subplots(2, 2, figsize=(12, 8))\n",
    "#axes[0, 0].plot(BA_prices[\"Price\"], BA_price_to_earnings)\n",
    "\n",
    "print(\"printing profit margins\\n\",gross_profit_margin, operating_profit_margin, net_profit_margin)\n",
    "print(\"printing liquidity margins\\n\",current_ratio, quick_ratio)\n",
    "print(\"printing solvency margins\\n\",debt_to_equity, interest_coverage_ratio)\n",
    "print(\"printing efficiency margins\\n\",asset_turnover_ratio, inventory_turnover_ratio)\n"
   ]
  },
  {
   "cell_type": "markdown",
   "metadata": {},
   "source": [
    "### Caterpillar"
   ]
  },
  {
   "cell_type": "code",
   "execution_count": null,
   "metadata": {},
   "outputs": [],
   "source": [
    "CAT_prices[\"Close\"] = pd.to_numeric(CAT_prices[\"Close\"], errors=\"coerce\")\n",
    "CAT_prices = CAT_prices.dropna(subset=[\"Close\"]).reset_index(drop=True)\n",
    "CAT_prices[\"High\"] = pd.to_numeric(CAT_prices[\"High\"], errors=\"coerce\")\n",
    "CAT_prices[\"Low\"] = pd.to_numeric(CAT_prices[\"Low\"], errors=\"coerce\")\n",
    "CAT_prices[\"Open\"] = pd.to_numeric(CAT_prices[\"Open\"], errors=\"coerce\")\n",
    "CAT_prices[\"Volume\"] = pd.to_numeric(CAT_prices[\"Volume\"], errors=\"coerce\")\n",
    "CAT_prices[\"Price\"] = pd.to_datetime(CAT_prices[\"Price\"])"
   ]
  },
  {
   "cell_type": "code",
   "execution_count": null,
   "metadata": {},
   "outputs": [],
   "source": [
    "correlation_matrix = CAT_prices.corr()\n",
    "sns.heatmap(correlation_matrix, annot=True)\n",
    "plt.title(\"Correlation of CAT Prices to Volume\")\n",
    "plt.show()"
   ]
  },
  {
   "cell_type": "code",
   "execution_count": null,
   "metadata": {},
   "outputs": [],
   "source": [
    "CAT_prices[\"Returns\"] = CAT_prices[\"Close\"].pct_change()\n",
    "CAT_prices.hist(bins=50, figsize=(10, 7))\n",
    "plt.title(\"Distribution of Daily Returns of Boeing\")\n",
    "plt.show()"
   ]
  },
  {
   "cell_type": "code",
   "execution_count": null,
   "metadata": {},
   "outputs": [],
   "source": [
    "CAT_prices[\"Volume\"].plot(kind=\"hist\", bins=50, figsize=(10, 5))\n",
    "plt.title(\"Trading Volume Distribution\")\n",
    "plt.show()"
   ]
  },
  {
   "cell_type": "code",
   "execution_count": null,
   "metadata": {},
   "outputs": [],
   "source": [
    "fig, axes = plt.subplots(1, 2, figsize=(12, 5))\n",
    "plot_acf(CAT_prices[\"Returns\"].dropna(), lags=20, ax=axes[0])\n",
    "axes[0].set_title(\"Autocorrelation Function (ACF)\")\n",
    "\n",
    "plot_pacf(CAT_prices[\"Returns\"], ax=axes[1], lags=40)\n",
    "axes[1].set_title(\"Partial Autocorrelation Function (PACF)\")\n",
    "\n",
    "plt.show()"
   ]
  },
  {
   "cell_type": "code",
   "execution_count": null,
   "metadata": {},
   "outputs": [],
   "source": [
    "adf_result = adfuller(CAT_prices[\"Returns\"].dropna())\n",
    "\n",
    "print(\"ADF Statistic:\", adf_result[0])\n",
    "print(\"p-value:\", adf_result[1])\n",
    "print(\"Critical Values:\", adf_result[4])"
   ]
  },
  {
   "cell_type": "markdown",
   "metadata": {},
   "source": [
    "### Extracting Column info for Caterpillar"
   ]
  },
  {
   "cell_type": "code",
   "execution_count": null,
   "metadata": {},
   "outputs": [],
   "source": [
    "CAT_balance_sheet.info()\n",
    "print(\"\\n\" + \"=\"*50 + \"\\n\") # Separator for readability\n",
    "CAT_cash_flow.info()\n",
    "print(\"\\n\" + \"=\"*50 + \"\\n\")  \n",
    "CAT_income_statement.info()"
   ]
  },
  {
   "cell_type": "markdown",
   "metadata": {},
   "source": [
    "### Transposing column for Catepillar"
   ]
  },
  {
   "cell_type": "code",
   "execution_count": null,
   "metadata": {},
   "outputs": [],
   "source": [
    "CAT_balance_sheet_transposed = CAT_balance_sheet.transpose()\n",
    "CAT_cash_flow_transposed = CAT_cash_flow.transpose()\n",
    "CAT_income_statement_transposed = CAT_income_statement.transpose()"
   ]
  },
  {
   "cell_type": "code",
   "execution_count": null,
   "metadata": {},
   "outputs": [],
   "source": [
    "# Display transposed columns\n",
    "CAT_balance_sheet_transposed.columns = CAT_balance_sheet_transposed.iloc[0]\n",
    "CAT_income_statement_transposed.columns = CAT_income_statement_transposed.iloc[0]\n",
    "CAT_cash_flow_transposed.columns = CAT_cash_flow_transposed.iloc[0]\n",
    "\n",
    "# Get specific column\n",
    "#print(CAT_balance_sheet_transposed['Leases'])\n",
    "#print(CAT_income_statement_transposed['Total Revenue'])\n",
    "#print(CAT_cash_flow_transposed['Free Cash Flow'])\n",
    "#CAT_income_statement_transposed.head()"
   ]
  },
  {
   "cell_type": "markdown",
   "metadata": {},
   "source": [
    "### Missing value analysis for Caterpillar"
   ]
  },
  {
   "cell_type": "code",
   "execution_count": null,
   "metadata": {},
   "outputs": [],
   "source": [
    "# calculate the percentage of missing values in each column\n",
    "missing_values_balance_sheet = CAT_balance_sheet.isnull().sum() / len(CVX_balance_sheet)\n",
    "missing_values_cash_flow = CAT_cash_flow.isnull().sum() / len(CVX_cash_flow)\n",
    "missing_values_income_statement = CAT_income_statement.isnull().sum() / len(CVX_income_statement)\n",
    "\n",
    "missing_values_df = pd.DataFrame({\n",
    "    \"Balance Sheet\": missing_values_balance_sheet,\n",
    "    \"Cash Flow\": missing_values_cash_flow,\n",
    "    \"Income Statement\": missing_values_income_statement\n",
    "})\n",
    "\n",
    "# Display only columns with missing values\n",
    "missing_values_df = missing_values_df[missing_values_df.sum(axis=1) > 0]\n",
    "\n",
    "# Print the missing values\n",
    "print(\"Missing Values Percentage:\")\n",
    "print(missing_values_df.round(2))\n"
   ]
  },
  {
   "cell_type": "markdown",
   "metadata": {},
   "source": [
    "### Trend Analysis for Caterpillar"
   ]
  },
  {
   "cell_type": "code",
   "execution_count": null,
   "metadata": {},
   "outputs": [],
   "source": [
    "# Trend analysis for Caterpillar\n",
    "revenue = pd.to_numeric(CAT_income_statement_transposed['Total Revenue'], errors='coerce')\n",
    "net_income = pd.to_numeric(CAT_income_statement_transposed['Net Income'], errors='coerce')\n",
    "total_assets = pd.to_numeric(CAT_balance_sheet_transposed['Total Assets'], errors='coerce')\n",
    "total_liabilities = pd.to_numeric(CAT_balance_sheet_transposed['Total Liabilities Net Minority Interest'], errors='coerce')\n",
    "cash_flow_from_operations = pd.to_numeric(CAT_cash_flow_transposed['Operating Cash Flow'], errors='coerce')\n",
    "\n",
    "revenue.plot(label=\"Total Revenue\")\n",
    "net_income.plot(label=\"Net Income\")\n",
    "total_assets.plot(label=\"Total Assets\")\n",
    "total_liabilities.plot(label='Total Liabilities Net Minority Interest') \n",
    "cash_flow_from_operations.plot(label= \"Operating Cashflow\")\n",
    "plt.title(\"Trend Analysis for Caterpillar\")\n",
    "plt.legend()\n",
    "plt.show()"
   ]
  },
  {
   "cell_type": "markdown",
   "metadata": {},
   "source": [
    "### Ratio Analysis for Caterpillar"
   ]
  },
  {
   "cell_type": "code",
   "execution_count": null,
   "metadata": {},
   "outputs": [],
   "source": [
    "# Profit margins for Caterpillar\n",
    "gross_profit_margin = (pd.to_numeric(CAT_income_statement_transposed['Total Revenue'], errors='coerce') - pd.to_numeric(CAT_income_statement_transposed['Cost Of Revenue'], errors='coerce')) / pd.to_numeric(CAT_income_statement_transposed['Total Revenue'], errors='coerce')\n",
    "operating_profit_margin = (pd.to_numeric(CAT_income_statement_transposed[\"Operating Income\"], errors='coerce') / pd.to_numeric(CAT_income_statement_transposed[\"Total Revenue\"], errors='coerce'))\n",
    "net_profit_margin = (pd.to_numeric(CAT_income_statement_transposed[\"Net Income\"], errors='coerce') / pd.to_numeric(CAT_income_statement_transposed[\"Total Revenue\"], errors='coerce'))\n",
    "\n",
    "# Liquidity Ratios for Caterpillar\n",
    "current_ratio = (pd.to_numeric(CAT_balance_sheet_transposed[\"Current Assets\"], errors='coerce') / pd.to_numeric(CAT_balance_sheet_transposed[\"Current Liabilities\"], errors='coerce'))\n",
    "quick_ratio = (pd.to_numeric(CAT_balance_sheet_transposed[\"Current Assets\"], errors='coerce') - pd.to_numeric(CAT_balance_sheet_transposed[\"Inventory\"], errors='coerce')) / pd.to_numeric(CAT_balance_sheet_transposed[\"Current Liabilities\"], errors='coerce')\n",
    "\n",
    "# Solvency Ratios for Caterpillar\n",
    "debt_to_equity = (pd.to_numeric(CAT_balance_sheet_transposed[\"Total Debt\"], errors='coerce') / pd.to_numeric(CAT_balance_sheet_transposed[\"Total Equity Gross Minority Interest\"], errors='coerce'))\n",
    "interest_coverage_ratio = (pd.to_numeric(CAT_income_statement_transposed[\"EBIT\"], errors='coerce') / pd.to_numeric(CAT_income_statement_transposed[\"Interest Expense\"], errors='coerce'))\n",
    "\n",
    "# Efficiency Ratios for Caterpillar\n",
    "asset_turnover_ratio = (pd.to_numeric(CAT_income_statement_transposed[\"Total Revenue\"], errors='coerce') / pd.to_numeric(CAT_balance_sheet_transposed[\"Total Assets\"], errors='coerce'))\n",
    "inventory_turnover_ratio =(pd.to_numeric(CAT_income_statement_transposed[\"Cost Of Revenue\"], errors='coerce') / pd.to_numeric(CAT_balance_sheet_transposed[\"Inventory\"], errors='coerce'))\n",
    "\n",
    "# Valuation Ratios for Caterpillar, needs to be calculated\n",
    "#CAT_price_to_earnings = (pd.to_numeric(CAT_prices[\"Close\"], errors='coerce') / pd.to_numeric(CAT_prices[\"Basic EPS\"], errors='coerce'))\n",
    "#CAT_price_to_book = (pd.to_numeric(CAT_prices[\"Close\"], errors='coerce') / pd.to_numeric(CAT_prices[\"Book Value Per Share\"], errors='coerce'))\n",
    "#fig, axes = plt.subplots(2, 2, figsize=(12, 8))\n",
    "#axes[0, 0].plot(CAT_prices[\"Price\"], CAT_price_to_earnings)\n",
    "\n",
    "print(\"printing profit margins\\n\",gross_profit_margin, operating_profit_margin, net_profit_margin)\n",
    "print(\"printing liquidity margins\\n\",current_ratio, quick_ratio)\n",
    "print(\"printing solvency margins\\n\",debt_to_equity, interest_coverage_ratio)\n",
    "print(\"printing efficiency margins\\n\",asset_turnover_ratio, inventory_turnover_ratio)\n"
   ]
  },
  {
   "cell_type": "markdown",
   "metadata": {},
   "source": [
    "### Chevron"
   ]
  },
  {
   "cell_type": "code",
   "execution_count": null,
   "metadata": {},
   "outputs": [],
   "source": [
    "CVX_prices[\"Close\"] = pd.to_numeric(CVX_prices[\"Close\"], errors=\"coerce\")\n",
    "CVX_prices = CVX_prices.dropna(subset=[\"Close\"]).reset_index(drop=True)\n",
    "CVX_prices[\"High\"] = pd.to_numeric(CVX_prices[\"High\"], errors=\"coerce\")\n",
    "CVX_prices[\"Low\"] = pd.to_numeric(CVX_prices[\"Low\"], errors=\"coerce\")\n",
    "CVX_prices[\"Open\"] = pd.to_numeric(CVX_prices[\"Open\"], errors=\"coerce\")\n",
    "CVX_prices[\"Volume\"] = pd.to_numeric(CVX_prices[\"Volume\"], errors=\"coerce\")\n",
    "CVX_prices[\"Price\"] = pd.to_datetime(CVX_prices[\"Price\"])"
   ]
  },
  {
   "cell_type": "code",
   "execution_count": null,
   "metadata": {},
   "outputs": [],
   "source": [
    "correlation_matrix = CVX_prices.corr()\n",
    "sns.heatmap(correlation_matrix, annot=True)\n",
    "plt.title(\"Correlation of CVX Prices to Volume\")\n",
    "plt.show()"
   ]
  },
  {
   "cell_type": "code",
   "execution_count": null,
   "metadata": {},
   "outputs": [],
   "source": [
    "CVX_prices[\"Returns\"] = CVX_prices[\"Close\"].pct_change()\n",
    "CVX_prices.hist(bins=50, figsize=(10, 7))\n",
    "plt.title(\"Distribution of Daily Returns of Chevron\")\n",
    "plt.show()"
   ]
  },
  {
   "cell_type": "code",
   "execution_count": null,
   "metadata": {},
   "outputs": [],
   "source": [
    "CVX_prices[\"Volume\"].plot(kind=\"hist\", bins=50, figsize=(10, 5))\n",
    "plt.title(\"Trading Volume Distribution\")\n",
    "plt.show()"
   ]
  },
  {
   "cell_type": "code",
   "execution_count": null,
   "metadata": {},
   "outputs": [],
   "source": [
    "fig, axes = plt.subplots(1, 2, figsize=(12, 5))\n",
    "plot_acf(CVX_prices[\"Returns\"].dropna(), lags=20, ax=axes[0])\n",
    "axes[0].set_title(\"Autocorrelation Function (ACF)\")\n",
    "\n",
    "plot_pacf(CVX_prices[\"Returns\"], ax=axes[1], lags=40)\n",
    "axes[1].set_title(\"Partial Autocorrelation Function (PACF)\")\n",
    "\n",
    "plt.show()"
   ]
  },
  {
   "cell_type": "code",
   "execution_count": null,
   "metadata": {},
   "outputs": [],
   "source": [
    "adf_result = adfuller(CVX_prices[\"Returns\"].dropna())\n",
    "\n",
    "print(\"ADF Statistic:\", adf_result[0])\n",
    "print(\"p-value:\", adf_result[1])\n",
    "print(\"Critical Values:\", adf_result[4])"
   ]
  },
  {
   "cell_type": "markdown",
   "metadata": {},
   "source": [
    "### Extracting column for Chevron"
   ]
  },
  {
   "cell_type": "code",
   "execution_count": null,
   "metadata": {},
   "outputs": [],
   "source": [
    "# Extracting column for Chevron\n",
    "CVX_balance_sheet.info()\n",
    "print(\"\\n\" + \"=\"*50 + \"\\n\") # Separator for readability\n",
    "CVX_cash_flow.info()\n",
    "print(\"\\n\" + \"=\"*50 + \"\\n\")\n",
    "CVX_income_statement.info()"
   ]
  },
  {
   "cell_type": "markdown",
   "metadata": {},
   "source": [
    "### Transposing Columns for Chevron"
   ]
  },
  {
   "cell_type": "code",
   "execution_count": null,
   "metadata": {},
   "outputs": [],
   "source": [
    "CVX_balance_sheet_transposed = CVX_balance_sheet.transpose()\n",
    "CVX_cash_flow_transposed = CVX_cash_flow.transpose()\n",
    "CVX_income_statement_transposed = CVX_income_statement.transpose()"
   ]
  },
  {
   "cell_type": "code",
   "execution_count": null,
   "metadata": {},
   "outputs": [],
   "source": [
    "# Display transposed columns\n",
    "CVX_balance_sheet_transposed.columns = CVX_balance_sheet_transposed.iloc[0]\n",
    "CVX_income_statement_transposed.columns = CVX_income_statement_transposed.iloc[0]\n",
    "CVX_cash_flow_transposed.columns = CVX_cash_flow_transposed.iloc[0]\n",
    "\n",
    "# Get specific column\n",
    "#print(CVX_balance_sheet_transposed['Leases'])\n",
    "#print(CVX_income_statement_transposed['Total Revenue'])\n",
    "#print(CVX_cash_flow_transposed['Free Cash Flow'])\n",
    "#CVX_income_statement_transposed.head()"
   ]
  },
  {
   "cell_type": "markdown",
   "metadata": {},
   "source": [
    "### Missing value analysis for Chevron"
   ]
  },
  {
   "cell_type": "code",
   "execution_count": null,
   "metadata": {},
   "outputs": [],
   "source": [
    "# calculate the percentage of missing values in each column\n",
    "missing_values_balance_sheet = CVX_balance_sheet_transposed.isnull().sum() / len(CVX_balance_sheet_transposed)\n",
    "missing_values_cash_flow = CVX_cash_flow_transposed.isnull().sum() / len(CVX_cash_flow_transposed)\n",
    "missing_values_income_statement = CVX_income_statement_transposed.isnull().sum() / len(CVX_income_statement_transposed)\n",
    "\n",
    "missing_values_df = pd.DataFrame({\n",
    "    \"Balance Sheet\": missing_values_balance_sheet,\n",
    "    \"Cash Flow\": missing_values_cash_flow,\n",
    "    \"Income Statement\": missing_values_income_statement\n",
    "})\n",
    "\n",
    "# Display only columns with missing values\n",
    "missing_values_df = missing_values_df[missing_values_df.sum(axis=1) > 0]\n",
    "\n",
    "# Print the missing values\n",
    "print(\"Missing Values Percentage:\")\n",
    "print(missing_values_df.round(2))"
   ]
  },
  {
   "cell_type": "markdown",
   "metadata": {},
   "source": [
    "### Trend analysis for Chevron"
   ]
  },
  {
   "cell_type": "code",
   "execution_count": null,
   "metadata": {},
   "outputs": [],
   "source": [
    "# Trend analysis for Chevron\n",
    "revenue = pd.to_numeric(CVX_income_statement_transposed['Total Revenue'], errors='coerce')\n",
    "net_income = pd.to_numeric(CVX_income_statement_transposed['Net Income'], errors='coerce')\n",
    "total_assets = pd.to_numeric(CVX_balance_sheet_transposed['Total Assets'], errors='coerce')\n",
    "total_liabilities = pd.to_numeric(CVX_balance_sheet_transposed['Total Liabilities Net Minority Interest'], errors='coerce')\n",
    "cash_flow_from_operations = pd.to_numeric(CVX_cash_flow_transposed['Operating Cash Flow'], errors='coerce')\n",
    "\n",
    "revenue.plot(label=\"Total Revenue\")\n",
    "net_income.plot(label=\"Net Income\")\n",
    "total_assets.plot(label=\"Total Assets\")\n",
    "total_liabilities.plot(label='Total Liabilities Net Minority Interest') \n",
    "cash_flow_from_operations.plot(label= \"Operating Cashflow\")\n",
    "plt.title(\"Trend Analysis for Chevron\")\n",
    "plt.legend()\n",
    "plt.show()\n",
    "\n"
   ]
  },
  {
   "cell_type": "markdown",
   "metadata": {},
   "source": [
    "### Ratio Analysis for Chevron"
   ]
  },
  {
   "cell_type": "code",
   "execution_count": null,
   "metadata": {},
   "outputs": [],
   "source": [
    "# Profit margins for Chevron\n",
    "gross_profit_margin = (pd.to_numeric(CVX_income_statement_transposed['Total Revenue'], errors='coerce') - pd.to_numeric(CVX_income_statement_transposed['Cost Of Revenue'], errors='coerce')) / pd.to_numeric(CVX_income_statement_transposed['Total Revenue'], errors='coerce')\n",
    "operating_profit_margin = (pd.to_numeric(CVX_income_statement_transposed[\"Operating Income\"], errors='coerce') / pd.to_numeric(CVX_income_statement_transposed[\"Total Revenue\"], errors='coerce'))\n",
    "net_profit_margin = (pd.to_numeric(CVX_income_statement_transposed[\"Net Income\"], errors='coerce') / pd.to_numeric(CVX_income_statement_transposed[\"Total Revenue\"], errors='coerce'))\n",
    "\n",
    "# Liquidity Ratios for Chevron\n",
    "current_ratio = (pd.to_numeric(CVX_balance_sheet_transposed[\"Current Assets\"], errors='coerce') / pd.to_numeric(CVX_balance_sheet_transposed[\"Current Liabilities\"], errors='coerce'))\n",
    "quick_ratio = (pd.to_numeric(CVX_balance_sheet_transposed[\"Current Assets\"], errors='coerce') - pd.to_numeric(CVX_balance_sheet_transposed[\"Inventory\"], errors='coerce')) / pd.to_numeric(CVX_balance_sheet_transposed[\"Current Liabilities\"], errors='coerce')\n",
    "\n",
    "# Solvency Ratios for Chevron\n",
    "debt_to_equity = (pd.to_numeric(CVX_balance_sheet_transposed[\"Total Debt\"], errors='coerce') / pd.to_numeric(CVX_balance_sheet_transposed[\"Total Equity Gross Minority Interest\"], errors='coerce'))\n",
    "interest_coverage_ratio = (pd.to_numeric(CVX_income_statement_transposed[\"EBIT\"], errors='coerce') / pd.to_numeric(CVX_income_statement_transposed[\"Interest Expense\"], errors='coerce'))\n",
    "\n",
    "# Efficiency Ratios for Chevron\n",
    "asset_turnover_ratio = (pd.to_numeric(CVX_income_statement_transposed[\"Total Revenue\"], errors='coerce') / pd.to_numeric(CVX_balance_sheet_transposed[\"Total Assets\"], errors='coerce'))\n",
    "inventory_turnover_ratio =(pd.to_numeric(CVX_income_statement_transposed[\"Cost Of Revenue\"], errors='coerce') / pd.to_numeric(CVX_balance_sheet_transposed[\"Inventory\"], errors='coerce'))\n",
    "\n",
    "# Valuation Ratios for Chevron, needs to be calculated\n",
    "#CVX_price_to_earnings = (pd.to_numeric(CVX_prices[\"Close\"], errors='coerce') / pd.to_numeric(CVX_prices[\"Basic EPS\"], errors='coerce'))\n",
    "#CVX_price_to_book = (pd.to_numeric(CVX_prices[\"Close\"], errors='coerce') / pd.to_numeric(CVX_prices[\"Book Value Per Share\"], errors='coerce'))\n",
    "#fig, axes = plt.subplots(2, 2, figsize=(12, 8))\n",
    "#axes[0, 0].plot(CVX_prices[\"Price\"], CVX_price_to_earnings)\n",
    "\n",
    "print(\"printing profit margins\\n\",gross_profit_margin, operating_profit_margin, net_profit_margin)\n",
    "print(\"printing liquidity margins\\n\",current_ratio, quick_ratio)\n",
    "print(\"printing solvency margins\\n\",debt_to_equity, interest_coverage_ratio)\n",
    "print(\"printing efficiency margins\\n\",asset_turnover_ratio, inventory_turnover_ratio)\n"
   ]
  },
  {
   "cell_type": "markdown",
   "metadata": {},
   "source": [
    "### Goldman Sachs"
   ]
  },
  {
   "cell_type": "code",
   "execution_count": null,
   "metadata": {},
   "outputs": [],
   "source": [
    "GS_prices[\"Close\"] = pd.to_numeric(GS_prices[\"Close\"], errors=\"coerce\")\n",
    "GS_prices = GS_prices.dropna(subset=[\"Close\"]).reset_index(drop=True)\n",
    "GS_prices[\"High\"] = pd.to_numeric(GS_prices[\"High\"], errors=\"coerce\")\n",
    "GS_prices[\"Low\"] = pd.to_numeric(GS_prices[\"Low\"], errors=\"coerce\")\n",
    "GS_prices[\"Open\"] = pd.to_numeric(GS_prices[\"Open\"], errors=\"coerce\")\n",
    "GS_prices[\"Volume\"] = pd.to_numeric(GS_prices[\"Volume\"], errors=\"coerce\")\n",
    "GS_prices[\"Price\"] = pd.to_datetime(GS_prices[\"Price\"])"
   ]
  },
  {
   "cell_type": "code",
   "execution_count": null,
   "metadata": {},
   "outputs": [],
   "source": [
    "correlation_matrix = GS_prices.corr()\n",
    "sns.heatmap(correlation_matrix, annot=True)\n",
    "plt.title(\"Correlation of GS Prices to Volume\")\n",
    "plt.show()"
   ]
  },
  {
   "cell_type": "code",
   "execution_count": null,
   "metadata": {},
   "outputs": [],
   "source": [
    "GS_prices[\"Returns\"] = GS_prices[\"Close\"].pct_change()\n",
    "GS_prices.hist(bins=50, figsize=(10, 7))\n",
    "plt.title(\"Distribution of Daily Returns of Goldman Sachs\")\n",
    "plt.show()"
   ]
  },
  {
   "cell_type": "code",
   "execution_count": null,
   "metadata": {},
   "outputs": [],
   "source": [
    "GS_prices[\"Volume\"].plot(kind=\"hist\", bins=50, figsize=(10, 5))\n",
    "plt.title(\"Trading Volume Distribution\")\n",
    "plt.show()"
   ]
  },
  {
   "cell_type": "code",
   "execution_count": null,
   "metadata": {},
   "outputs": [],
   "source": [
    "fig, axes = plt.subplots(1, 2, figsize=(12, 5))\n",
    "plot_acf(GS_prices[\"Returns\"].dropna(), lags=20, ax=axes[0])\n",
    "axes[0].set_title(\"Autocorrelation Function (ACF)\")\n",
    "\n",
    "plot_pacf(GS_prices[\"Returns\"], ax=axes[1], lags=40)\n",
    "axes[1].set_title(\"Partial Autocorrelation Function (PACF)\")\n",
    "\n",
    "plt.show()"
   ]
  },
  {
   "cell_type": "code",
   "execution_count": null,
   "metadata": {},
   "outputs": [],
   "source": [
    "adf_result = adfuller(GS_prices[\"Returns\"].dropna())\n",
    "\n",
    "print(\"ADF Statistic:\", adf_result[0])\n",
    "print(\"p-value:\", adf_result[1])\n",
    "print(\"Critical Values:\", adf_result[4])"
   ]
  },
  {
   "cell_type": "code",
   "execution_count": null,
   "metadata": {},
   "outputs": [],
   "source": [
    "# Extracting column for Goldman Sachs\n",
    "GS_balance_sheet.info()\n",
    "print(\"\\n\" + \"=\"*50 + \"\\n\") # Separator for readability\n",
    "GS_cash_flow.info()\n",
    "print(\"\\n\" + \"=\"*50 + \"\\n\") \n",
    "GS_income_statement.info()"
   ]
  },
  {
   "cell_type": "markdown",
   "metadata": {},
   "source": [
    "### Transposing data for Goldman Sachs"
   ]
  },
  {
   "cell_type": "code",
   "execution_count": null,
   "metadata": {},
   "outputs": [],
   "source": [
    "GS_balance_sheet_transposed = GS_balance_sheet.transpose()\n",
    "GS_cash_flow_transposed = GS_cash_flow.transpose()\n",
    "GS_income_statement_transposed = GS_income_statement.transpose()"
   ]
  },
  {
   "cell_type": "code",
   "execution_count": null,
   "metadata": {},
   "outputs": [],
   "source": [
    "# Display transposed columns\n",
    "GS_balance_sheet_transposed.columns = GS_balance_sheet_transposed.iloc[0]\n",
    "GS_income_statement_transposed.columns = GS_income_statement_transposed.iloc[0]\n",
    "GS_cash_flow_transposed.columns = GS_cash_flow_transposed.iloc[0]\n",
    "\n",
    "# Get specific column\n",
    "#print(GS_balance_sheet_transposed['Leases'])\n",
    "#print(GS_income_statement_transposed['Total Revenue'])\n",
    "#print(GS_cash_flow_transposed['Free Cash Flow'])\n",
    "#GS_income_statement_transposed.head()"
   ]
  },
  {
   "cell_type": "markdown",
   "metadata": {},
   "source": [
    "### Missing values for Goldman Sachs\n"
   ]
  },
  {
   "cell_type": "code",
   "execution_count": null,
   "metadata": {},
   "outputs": [],
   "source": [
    "# Calculating the missing values for\n",
    "missing_values_balance_sheet = GS_balance_sheet_transposed.isnull().sum() / len(GS_balance_sheet_transposed)\n",
    "missing_values_cash_flow = GS_cash_flow_transposed.isnull().sum() / len(GS_cash_flow_transposed)\n",
    "missing_values_income_statement = GS_income_statement_transposed.isnull().sum() / len(GS_income_statement_transposed)\n",
    "\n",
    "missing_values_df = pd.DataFrame({\n",
    "    \"Balance Sheet\": missing_values_balance_sheet,\n",
    "    \"Cash Flow\": missing_values_cash_flow,\n",
    "    \"Income Statement\": missing_values_income_statement\n",
    "})\n",
    "\n",
    "# Display only columns with missing values\n",
    "missing_values_df = missing_values_df[missing_values_df.sum(axis=1) > 0]\n",
    "\n",
    "# Print the missing values\n",
    "print(\"Missing Values Percentage:\")\n",
    "print(missing_values_df.round(2))\n"
   ]
  },
  {
   "cell_type": "markdown",
   "metadata": {},
   "source": [
    "### Trend analysis for Goldman Sachs"
   ]
  },
  {
   "cell_type": "code",
   "execution_count": null,
   "metadata": {},
   "outputs": [],
   "source": [
    "# Trend analysis for Goldman Sachs\n",
    "revenue = pd.to_numeric(GS_income_statement_transposed['Total Revenue'], errors='coerce')\n",
    "net_income = pd.to_numeric(GS_income_statement_transposed['Net Income'], errors='coerce')\n",
    "total_assets = pd.to_numeric(GS_balance_sheet_transposed['Total Assets'], errors='coerce')\n",
    "total_liabilities = pd.to_numeric(GS_balance_sheet_transposed['Total Liabilities Net Minority Interest'], errors='coerce')\n",
    "cash_flow_from_operations = pd.to_numeric(GS_cash_flow_transposed['Operating Cash Flow'], errors='coerce')\n",
    "\n",
    "revenue.plot(label=\"Total Revenue\")\n",
    "net_income.plot(label=\"Net Income\")\n",
    "total_assets.plot(label=\"Total Assets\")\n",
    "total_liabilities.plot(label='Total Liabilities Net Minority Interest') \n",
    "cash_flow_from_operations.plot(label= \"Operating Cashflow\")\n",
    "plt.title(\"Trend Analysis for Goldman Sachs\")\n",
    "plt.legend()\n",
    "plt.show()\n",
    "\n"
   ]
  },
  {
   "cell_type": "markdown",
   "metadata": {},
   "source": [
    "### Ratio Analysis for Goldman Sachs"
   ]
  },
  {
   "cell_type": "code",
   "execution_count": null,
   "metadata": {},
   "outputs": [],
   "source": [
    "# Profit margins for Goldman Sachs\n",
    "# operating profit margins needs to be calculated\n",
    "#operating_profit_margin = (pd.to_numeric(GS_income_statement_transposed[\"Operating Income\"], errors='coerce') / pd.to_numeric(GS_income_statement_transposed[\"Total Revenue\"], errors='coerce'))\n",
    "net_profit_margin = (pd.to_numeric(GS_income_statement_transposed[\"Net Income\"], errors='coerce') / pd.to_numeric(GS_income_statement_transposed[\"Total Revenue\"], errors='coerce'))\n",
    "\n",
    "# Liquidity Ratios for Goldman Sachs\n",
    "current_ratio = (pd.to_numeric(GS_balance_sheet_transposed[\"Total Assets\"], errors='coerce') / pd.to_numeric(GS_balance_sheet_transposed[\"Total Liabilities Net Minority Interest\"], errors='coerce'))\n",
    "# quick ratio needs to be calculated\n",
    "#quick_ratio = (pd.to_numeric(GS_balance_sheet_transposed[\"Total Assets\"], errors='coerce') - pd.to_numeric(GS_balance_sheet_transposed[\"Inventory\"], errors='coerce')) / pd.to_numeric(GS_balance_sheet_transposed[\"Total Liabilities Net Minority Interest\"], errors='coerce')\n",
    "\n",
    "# Solvency Ratios for Goldman Sachs\n",
    "debt_to_equity = (pd.to_numeric(GS_balance_sheet_transposed[\"Total Debt\"], errors='coerce') / pd.to_numeric(GS_balance_sheet_transposed[\"Total Equity Gross Minority Interest\"], errors='coerce'))\n",
    "# interest coverage ratio needs to be calculated\n",
    "#interest_coverage_ratio = (pd.to_numeric(GS_income_statement_transposed[\"EBIT\"], errors='coerce') / pd.to_numeric(GS_income_statement_transposed[\"Interest Expense\"], errors='coerce'))\n",
    "\n",
    "# Efficiency Ratios for Goldman Sachs\n",
    "asset_turnover_ratio = (pd.to_numeric(GS_income_statement_transposed[\"Total Revenue\"], errors='coerce') / pd.to_numeric(GS_balance_sheet_transposed[\"Total Assets\"], errors='coerce'))\n",
    "# inventory_turnover_ratio needs to be calculated\n",
    "# inventory_turnover_ratio =(pd.to_numeric(GS_income_statement_transposed[\"Cost Of Revenue\"], errors='coerce') / pd.to_numeric(GS_balance_sheet_transposed[\"Inventory\"], errors='coerce'))\n",
    "\n",
    "# Valuation Ratios for Goldman Sachs, needs to be calculated\n",
    "#GS_price_to_earnings = (pd.to_numeric(GS_prices[\"Close\"], errors='coerce') / pd.to_numeric(GS_prices[\"Earnings Per Share\"], errors='coerce'))\n",
    "#GS_price_to_book = (pd.to_numeric(GS_prices[\"Close\"], errors='coerce') / pd.to_numeric(GS_prices[\"Book Value Per Share\"], errors='coerce'))\n",
    "#fig, axes = plt.subplots(2, 2, figsize=(12, 8))\n",
    "#axes[0, 0].plot(GS_prices[\"Price\"], GS_price_to_earnings)\n",
    "\n",
    "print(\"printing profit margins\\n\", net_profit_margin)\n",
    "print(\"printing liquidity margins\\n\", quick_ratio)\n",
    "print(\"printing solvency margins\\n\",debt_to_equity, interest_coverage_ratio)\n",
    "print(\"printing efficiency margins\\n\",asset_turnover_ratio)\n"
   ]
  },
  {
   "cell_type": "markdown",
   "metadata": {},
   "source": [
    "### Johnson and Johnson"
   ]
  },
  {
   "cell_type": "code",
   "execution_count": null,
   "metadata": {},
   "outputs": [],
   "source": [
    "JNJ_prices[\"Close\"] = pd.to_numeric(JNJ_prices[\"Close\"], errors=\"coerce\")\n",
    "JNJ_prices = JNJ_prices.dropna(subset=[\"Close\"]).reset_index(drop=True)\n",
    "JNJ_prices[\"High\"] = pd.to_numeric(JNJ_prices[\"High\"], errors=\"coerce\")\n",
    "JNJ_prices[\"Low\"] = pd.to_numeric(JNJ_prices[\"Low\"], errors=\"coerce\")\n",
    "JNJ_prices[\"Open\"] = pd.to_numeric(JNJ_prices[\"Open\"], errors=\"coerce\")\n",
    "JNJ_prices[\"Volume\"] = pd.to_numeric(JNJ_prices[\"Volume\"], errors=\"coerce\")\n",
    "JNJ_prices[\"Price\"] = pd.to_datetime(JNJ_prices[\"Price\"])"
   ]
  },
  {
   "cell_type": "code",
   "execution_count": null,
   "metadata": {},
   "outputs": [],
   "source": [
    "correlation_matrix = JNJ_prices.corr()\n",
    "sns.heatmap(correlation_matrix, annot=True)\n",
    "plt.title(\"Correlation of JNJ Prices to Volume\")\n",
    "plt.show()"
   ]
  },
  {
   "cell_type": "code",
   "execution_count": null,
   "metadata": {},
   "outputs": [],
   "source": [
    "JNJ_prices[\"Returns\"] = JNJ_prices[\"Close\"].pct_change()\n",
    "JNJ_prices.hist(bins=50, figsize=(10, 7))\n",
    "plt.title(\"Distribution of Daily Returns of Johnson and Johnson\")\n",
    "plt.show()"
   ]
  },
  {
   "cell_type": "code",
   "execution_count": null,
   "metadata": {},
   "outputs": [],
   "source": [
    "JNJ_prices[\"Volume\"].plot(kind=\"hist\", bins=50, figsize=(10, 5))\n",
    "plt.title(\"Trading Volume Distribution\")\n",
    "plt.show()"
   ]
  },
  {
   "cell_type": "code",
   "execution_count": null,
   "metadata": {},
   "outputs": [],
   "source": [
    "fig, axes = plt.subplots(1, 2, figsize=(12, 5))\n",
    "plot_acf(JNJ_prices[\"Returns\"].dropna(), lags=20, ax=axes[0])\n",
    "axes[0].set_title(\"Autocorrelation Function (ACF)\")\n",
    "\n",
    "plot_pacf(JNJ_prices[\"Returns\"], ax=axes[1], lags=40)\n",
    "axes[1].set_title(\"Partial Autocorrelation Function (PACF)\")\n",
    "\n",
    "plt.show()"
   ]
  },
  {
   "cell_type": "code",
   "execution_count": null,
   "metadata": {},
   "outputs": [],
   "source": [
    "adf_result = adfuller(JNJ_prices[\"Returns\"].dropna())\n",
    "\n",
    "print(\"ADF Statistic:\", adf_result[0])\n",
    "print(\"p-value:\", adf_result[1])\n",
    "print(\"Critical Values:\", adf_result[4])"
   ]
  },
  {
   "cell_type": "code",
   "execution_count": null,
   "metadata": {},
   "outputs": [],
   "source": [
    "# Extracting column for Johnson and Johnson\n",
    "JNJ_balance_sheet.info()\n",
    "print(\"\\n\" + \"=\"*50 + \"\\n\") # Separator for readability\n",
    "JNJ_cash_flow.info()\n",
    "print(\"\\n\" + \"=\"*50 + \"\\n\") \n",
    "JNJ_income_statement.info()"
   ]
  },
  {
   "cell_type": "markdown",
   "metadata": {},
   "source": [
    "### Transposing data for Johnson and Johnson"
   ]
  },
  {
   "cell_type": "code",
   "execution_count": null,
   "metadata": {},
   "outputs": [],
   "source": [
    "# Transposing data\n",
    "JNJ_balance_sheet_transposed = JNJ_balance_sheet.transpose()\n",
    "JNJ_cash_flow_transposed = JNJ_cash_flow.transpose()\n",
    "JNJ_income_statement_transposed = JNJ_income_statement.transpose()"
   ]
  },
  {
   "cell_type": "code",
   "execution_count": null,
   "metadata": {},
   "outputs": [],
   "source": [
    "# Display transposed columns\n",
    "JNJ_balance_sheet_transposed.columns = JNJ_balance_sheet_transposed.iloc[0]\n",
    "JNJ_income_statement_transposed.columns = JNJ_income_statement_transposed.iloc[0]\n",
    "JNJ_cash_flow_transposed.columns = JNJ_cash_flow_transposed.iloc[0]\n",
    "\n",
    "# Get specific column\n",
    "#print(JNJ_balance_sheet_transposed['Leases'])\n",
    "#print(JNJ_income_statement_transposed['Total Revenue'])\n",
    "#print(JNJ_cash_flow_transposed['Free Cash Flow'])\n",
    "#JNJ_income_statement_transposed.head()"
   ]
  },
  {
   "cell_type": "markdown",
   "metadata": {},
   "source": [
    "### Missing value analysis for Johnson and Johnson"
   ]
  },
  {
   "cell_type": "code",
   "execution_count": null,
   "metadata": {},
   "outputs": [],
   "source": [
    "# calculating the missing values for each column\n",
    "missing_values_balance_sheet = JNJ_balance_sheet_transposed.isnull().sum() / len(JNJ_balance_sheet_transposed)\n",
    "missing_values_cash_flow = JNJ_cash_flow_transposed.isnull().sum() / len(JNJ_cash_flow_transposed)\n",
    "missing_values_income_statement = JNJ_income_statement_transposed.isnull().sum() / len(JNJ_income_statement_transposed)\n",
    "\n",
    "missing_values_df = pd.DataFrame({\n",
    "    \"Balance Sheet\": missing_values_balance_sheet,\n",
    "    \"Cash Flow\": missing_values_cash_flow,\n",
    "    \"Income Statement\": missing_values_income_statement\n",
    "})\n",
    "\n",
    "# Display only columns with missing values\n",
    "missing_values_df = missing_values_df[missing_values_df.sum(axis=1) > 0]\n",
    "\n",
    "# Print the missing values\n",
    "print(\"Missing Values Percentage:\")\n",
    "print(missing_values_df.round(2))\n"
   ]
  },
  {
   "cell_type": "markdown",
   "metadata": {},
   "source": [
    "### Trend Analysis for Johnson and Johnson"
   ]
  },
  {
   "cell_type": "code",
   "execution_count": null,
   "metadata": {},
   "outputs": [],
   "source": [
    "# Trend analysis for Johnson and Johnson\n",
    "revenue = pd.to_numeric(JNJ_income_statement_transposed['Total Revenue'], errors='coerce')\n",
    "net_income = pd.to_numeric(JNJ_income_statement_transposed['Net Income'], errors='coerce')\n",
    "total_assets = pd.to_numeric(JNJ_balance_sheet_transposed['Total Assets'], errors='coerce')\n",
    "total_liabilities = pd.to_numeric(JNJ_balance_sheet_transposed['Total Liabilities Net Minority Interest'], errors='coerce')\n",
    "cash_flow_from_operations = pd.to_numeric(JNJ_cash_flow_transposed['Operating Cash Flow'], errors='coerce')\n",
    "\n",
    "revenue.plot(label=\"Total Revenue\")\n",
    "net_income.plot(label=\"Net Income\")\n",
    "total_assets.plot(label=\"Total Assets\")\n",
    "total_liabilities.plot(label='Total Liabilities Net Minority Interest') \n",
    "cash_flow_from_operations.plot(label= \"Operating Cashflow\")\n",
    "plt.title(\"Trend Analysis for Johnson and Johnson\")\n",
    "plt.legend()\n",
    "plt.show()\n",
    "\n"
   ]
  },
  {
   "cell_type": "markdown",
   "metadata": {},
   "source": [
    "### Ratio analysis for Johnson and Johnson"
   ]
  },
  {
   "cell_type": "code",
   "execution_count": null,
   "metadata": {},
   "outputs": [],
   "source": [
    "# Profit margins for Johnson and Johnson\n",
    "gross_profit_margin = (pd.to_numeric(JNJ_income_statement_transposed['Total Revenue'], errors='coerce') - pd.to_numeric(JNJ_income_statement_transposed['Cost Of Revenue'], errors='coerce')) / pd.to_numeric(JNJ_income_statement_transposed['Total Revenue'], errors='coerce')\n",
    "operating_profit_margin = (pd.to_numeric(JNJ_income_statement_transposed[\"Operating Income\"], errors='coerce') / pd.to_numeric(JNJ_income_statement_transposed[\"Total Revenue\"], errors='coerce'))\n",
    "net_profit_margin = (pd.to_numeric(JNJ_income_statement_transposed[\"Net Income\"], errors='coerce') / pd.to_numeric(JNJ_income_statement_transposed[\"Total Revenue\"], errors='coerce'))\n",
    "\n",
    "# Liquidity Ratios for Johnson and Johnson\n",
    "current_ratio = (pd.to_numeric(JNJ_balance_sheet_transposed[\"Current Assets\"], errors='coerce') / pd.to_numeric(JNJ_balance_sheet_transposed[\"Current Liabilities\"], errors='coerce'))\n",
    "quick_ratio = (pd.to_numeric(JNJ_balance_sheet_transposed[\"Current Assets\"], errors='coerce') - pd.to_numeric(JNJ_balance_sheet_transposed[\"Inventory\"], errors='coerce')) / pd.to_numeric(JNJ_balance_sheet_transposed[\"Current Liabilities\"], errors='coerce')\n",
    "\n",
    "# Solvency Ratios for Johnson and Johnson\n",
    "debt_to_equity = (pd.to_numeric(JNJ_balance_sheet_transposed[\"Total Debt\"], errors='coerce') / pd.to_numeric(JNJ_balance_sheet_transposed[\"Total Equity Gross Minority Interest\"], errors='coerce'))\n",
    "interest_coverage_ratio = (pd.to_numeric(JNJ_income_statement_transposed[\"EBIT\"], errors='coerce') / pd.to_numeric(JNJ_income_statement_transposed[\"Interest Expense\"], errors='coerce'))\n",
    "\n",
    "# Efficiency Ratios for Johnson and Johnson\n",
    "asset_turnover_ratio = (pd.to_numeric(JNJ_income_statement_transposed[\"Total Revenue\"], errors='coerce') / pd.to_numeric(JNJ_balance_sheet_transposed[\"Total Assets\"], errors='coerce'))\n",
    "inventory_turnover_ratio =(pd.to_numeric(JNJ_income_statement_transposed[\"Cost Of Revenue\"], errors='coerce') / pd.to_numeric(JNJ_balance_sheet_transposed[\"Inventory\"], errors='coerce'))\n",
    "\n",
    "# Valuation Ratios for Johnson, needs to be calculated\n",
    "#JNJ_price_to_earnings = (pd.to_numeric(JNJ_prices[\"Close\"], errors='coerce') / pd.to_numeric(JNJ_prices[\"Basic EPS\"], errors='coerce'))\n",
    "#JNJ_price_to_book = (pd.to_numeric(JNJ_prices[\"Close\"], errors='coerce') / pd.to_numeric(JNJ_prices[\"Book Value Per Share\"], errors='coerce'))\n",
    "#fig, axes = plt.subplots(2, 2, figsize=(12, 8))\n",
    "#axes[0, 0].plot(JNJ_prices[\"Price\"], JNJ_price_to_earnings)\n",
    "\n",
    "print(\"printing profit margins\\n\",gross_profit_margin, operating_profit_margin, net_profit_margin)\n",
    "print(\"printing liquidity margins\\n\",current_ratio, quick_ratio)\n",
    "print(\"printing solvency margins\\n\",debt_to_equity, interest_coverage_ratio)\n",
    "print(\"printing efficiency margins\\n\",asset_turnover_ratio, inventory_turnover_ratio)\n"
   ]
  },
  {
   "cell_type": "markdown",
   "metadata": {},
   "source": [
    "### JP Morgan"
   ]
  },
  {
   "cell_type": "code",
   "execution_count": null,
   "metadata": {},
   "outputs": [],
   "source": [
    "JPM_prices[\"Close\"] = pd.to_numeric(JPM_prices[\"Close\"], errors=\"coerce\")\n",
    "JPM_prices = JPM_prices.dropna(subset=[\"Close\"]).reset_index(drop=True)\n",
    "JPM_prices[\"High\"] = pd.to_numeric(JPM_prices[\"High\"], errors=\"coerce\")\n",
    "JPM_prices[\"Low\"] = pd.to_numeric(JPM_prices[\"Low\"], errors=\"coerce\")\n",
    "JPM_prices[\"Open\"] = pd.to_numeric(JPM_prices[\"Open\"], errors=\"coerce\")\n",
    "JPM_prices[\"Volume\"] = pd.to_numeric(JPM_prices[\"Volume\"], errors=\"coerce\")\n",
    "JPM_prices[\"Price\"] = pd.to_datetime(JPM_prices[\"Price\"])"
   ]
  },
  {
   "cell_type": "code",
   "execution_count": null,
   "metadata": {},
   "outputs": [],
   "source": [
    "correlation_matrix = JPM_prices.corr()\n",
    "sns.heatmap(correlation_matrix, annot=True)\n",
    "plt.title(\"Correlation of JPM Prices to Volume\")\n",
    "plt.show()"
   ]
  },
  {
   "cell_type": "code",
   "execution_count": null,
   "metadata": {},
   "outputs": [],
   "source": [
    "JPM_prices[\"Returns\"] = JPM_prices[\"Close\"].pct_change()\n",
    "JPM_prices.hist(bins=50, figsize=(10, 7))\n",
    "plt.title(\"Distribution of Daily Returns of JP Morgan\")\n",
    "plt.show()"
   ]
  },
  {
   "cell_type": "code",
   "execution_count": null,
   "metadata": {},
   "outputs": [],
   "source": [
    "JPM_prices[\"Volume\"].plot(kind=\"hist\", bins=50, figsize=(10, 5))\n",
    "plt.title(\"Trading Volume Distribution\")\n",
    "plt.show()"
   ]
  },
  {
   "cell_type": "code",
   "execution_count": null,
   "metadata": {},
   "outputs": [],
   "source": [
    "fig, axes = plt.subplots(1, 2, figsize=(12, 5))\n",
    "plot_acf(JPM_prices[\"Returns\"].dropna(), lags=20, ax=axes[0])\n",
    "axes[0].set_title(\"Autocorrelation Function (ACF)\")\n",
    "\n",
    "plot_pacf(JPM_prices[\"Returns\"], ax=axes[1], lags=40)\n",
    "axes[1].set_title(\"Partial Autocorrelation Function (PACF)\")\n",
    "\n",
    "plt.show()"
   ]
  },
  {
   "cell_type": "code",
   "execution_count": null,
   "metadata": {},
   "outputs": [],
   "source": [
    "adf_result = adfuller(JPM_prices[\"Returns\"].dropna())\n",
    "\n",
    "print(\"ADF Statistic:\", adf_result[0])\n",
    "print(\"p-value:\", adf_result[1])\n",
    "print(\"Critical Values:\", adf_result[4])"
   ]
  },
  {
   "cell_type": "markdown",
   "metadata": {},
   "source": [
    "### Extracting column for JP Morgan\n"
   ]
  },
  {
   "cell_type": "code",
   "execution_count": null,
   "metadata": {},
   "outputs": [],
   "source": [
    "JPM_balance_sheet.info()\n",
    "print(\"\\n\" + \"=\"*50 + \"\\n\") # Separator for readability\n",
    "JPM_cash_flow.info()\n",
    "print(\"\\n\" + \"=\"*50 + \"\\n\") \n",
    "JPM_income_statement.info()"
   ]
  },
  {
   "cell_type": "markdown",
   "metadata": {},
   "source": [
    "### Transposing data for JP Morgan  "
   ]
  },
  {
   "cell_type": "code",
   "execution_count": null,
   "metadata": {},
   "outputs": [],
   "source": [
    "JPM_balance_sheet_transposed = JPM_balance_sheet.transpose()\n",
    "JPM_cash_flow_transposed = JPM_cash_flow.transpose()\n",
    "JPM_income_statement_transposed = JPM_income_statement.transpose()"
   ]
  },
  {
   "cell_type": "code",
   "execution_count": null,
   "metadata": {},
   "outputs": [],
   "source": [
    "# Display transposed columns\n",
    "JPM_balance_sheet_transposed.columns = JPM_balance_sheet_transposed.iloc[0]\n",
    "JPM_income_statement_transposed.columns = JPM_income_statement_transposed.iloc[0]\n",
    "JPM_cash_flow_transposed.columns = JPM_cash_flow_transposed.iloc[0]\n",
    "\n",
    "# Get specific column\n",
    "#print(JPM_balance_sheet_transposed['Leases'])\n",
    "#print(JPM_income_statement_transposed['Total Revenue'])\n",
    "#print(JPM_cash_flow_transposed['Free Cash Flow'])\n",
    "#JPM_income_statement_transposed.head()"
   ]
  },
  {
   "cell_type": "markdown",
   "metadata": {},
   "source": [
    "### Missing value analysis for JP Morgan"
   ]
  },
  {
   "cell_type": "code",
   "execution_count": null,
   "metadata": {},
   "outputs": [],
   "source": [
    "# calculate the percentage of missing values in each column\n",
    "missing_values_balance_sheet = JPM_balance_sheet_transposed.isnull().sum() / len(JPM_balance_sheet_transposed)\n",
    "missing_values_cash_flow = JPM_cash_flow_transposed.isnull().sum() / len(JPM_cash_flow_transposed)\n",
    "missing_values_income_statement = JPM_income_statement_transposed.isnull().sum() / len(JPM_income_statement_transposed)\n",
    "\n",
    "missing_values_df = pd.DataFrame({\n",
    "    \"Balance Sheet\": missing_values_balance_sheet,\n",
    "    \"Cash Flow\": missing_values_cash_flow,\n",
    "    \"Income Statement\": missing_values_income_statement\n",
    "})\n",
    "\n",
    "# Display only columns with missing values\n",
    "missing_values_df = missing_values_df[missing_values_df.sum(axis=1) > 0]\n",
    "\n",
    "# Print the missing values\n",
    "print(\"Missing Values Percentage:\")\n",
    "print(missing_values_df.round(2))\n"
   ]
  },
  {
   "cell_type": "markdown",
   "metadata": {},
   "source": [
    "### Trend Analysis for JP Morgan"
   ]
  },
  {
   "cell_type": "code",
   "execution_count": null,
   "metadata": {},
   "outputs": [],
   "source": [
    "# Trend analysis for JP Morgan\n",
    "revenue = pd.to_numeric(JPM_income_statement_transposed['Total Revenue'], errors='coerce')\n",
    "net_income = pd.to_numeric(JPM_income_statement_transposed['Net Income'], errors='coerce')\n",
    "total_assets = pd.to_numeric(JPM_balance_sheet_transposed['Total Assets'], errors='coerce')\n",
    "total_liabilities = pd.to_numeric(JPM_balance_sheet_transposed['Total Liabilities Net Minority Interest'], errors='coerce')\n",
    "cash_flow_from_operations = pd.to_numeric(JPM_cash_flow_transposed['Operating Cash Flow'], errors='coerce')\n",
    "\n",
    "revenue.plot(label=\"Total Revenue\")\n",
    "net_income.plot(label=\"Net Income\")\n",
    "total_assets.plot(label=\"Total Assets\")\n",
    "total_liabilities.plot(label='Total Liabilities Net Minority Interest') \n",
    "cash_flow_from_operations.plot(label= \"Operating Cashflow\")\n",
    "plt.title(\"Trend Analysis for Goldman Sachs\")\n",
    "plt.legend()\n",
    "plt.show()\n",
    "\n"
   ]
  },
  {
   "cell_type": "markdown",
   "metadata": {},
   "source": [
    "### Ratio Analysis for JP Morgan"
   ]
  },
  {
   "cell_type": "code",
   "execution_count": null,
   "metadata": {},
   "outputs": [],
   "source": [
    "# Profit margins for JP Morgan\n",
    "# cost of revenue needs to be calculated\n",
    "#gross_profit_margin = (pd.to_numeric(JPM_income_statement_transposed['Total Revenue'], errors='coerce') - pd.to_numeric(JPM_income_statement_transposed['Cost Of Revenue'], errors='coerce')) / pd.to_numeric(JPM_income_statement_transposed['Total Revenue'], errors='coerce')\n",
    "# operating income needs to be calculated\n",
    "#operating_profit_margin = (pd.to_numeric(JPM_income_statement_transposed[\"Operating Income\"], errors='coerce') / pd.to_numeric(JPM_income_statement_transposed[\"Total Revenue\"], errors='coerce'))\n",
    "net_profit_margin = (pd.to_numeric(JNJ_income_statement_transposed[\"Net Income\"], errors='coerce') / pd.to_numeric(JPM_income_statement_transposed[\"Total Revenue\"], errors='coerce'))\n",
    "\n",
    "# Liquidity Ratios for JP Morgan\n",
    "# current assets need to be calculated\n",
    "#current_ratio = (pd.to_numeric(JPM_balance_sheet_transposed[\"Current Assets\"], errors='coerce') / pd.to_numeric(JPM_balance_sheet_transposed[\"Current Liabilities\"], errors='coerce'))\n",
    "# current assets and inventory neeed to be calculated \n",
    "#quick_ratio = (pd.to_numeric(JPM_balance_sheet_transposed[\"Current Assets\"], errors='coerce') - pd.to_numeric(JPM_balance_sheet_transposed[\"Inventory\"], errors='coerce')) / pd.to_numeric(JPM_balance_sheet_transposed[\"Current Liabilities\"], errors='coerce')\n",
    "\n",
    "# Solvency Ratios for JP Morgan\n",
    "debt_to_equity = (pd.to_numeric(JPM_balance_sheet_transposed[\"Total Debt\"], errors='coerce') / pd.to_numeric(JPM_balance_sheet_transposed[\"Total Equity Gross Minority Interest\"], errors='coerce'))\n",
    "# Ebit needs to be calculated\n",
    "#interest_coverage_ratio = (pd.to_numeric(JPM_income_statement_transposed[\"EBIT\"], errors='coerce') / pd.to_numeric(JPM_income_statement_transposed[\"Interest Expense\"], errors='coerce'))\n",
    "\n",
    "# Efficiency Ratios for JP Morgan\n",
    "asset_turnover_ratio = (pd.to_numeric(JPM_income_statement_transposed[\"Total Revenue\"], errors='coerce') / pd.to_numeric(JPM_balance_sheet_transposed[\"Total Assets\"], errors='coerce'))\n",
    "# cost of revnue needs to be calculated\n",
    "#inventory_turnover_ratio =(pd.to_numeric(JPM_income_statement_transposed[\"Cost Of Revenue\"], errors='coerce') / pd.to_numeric(JPM_balance_sheet_transposed[\"Inventory\"], errors='coerce'))\n",
    "\n",
    "# Valuation Ratios for JP Morgan, needs to be calculated\n",
    "#JPM_price_to_earnings = (pd.to_numeric(JPM_prices[\"Close\"], errors='coerce') / pd.to_numeric(JPM_prices[\"Earnings Per Share\"], errors='coerce'))\n",
    "#JPM_price_to_book = (pd.to_numeric(JPM_prices[\"Close\"], errors='coerce') / pd.to_numeric(JPM_prices[\"Book Value Per Share\"], errors='coerce'))\n",
    "#fig, axes = plt.subplots(2, 2, figsize=(12, 8))\n",
    "#axes[0, 0].plot(JPM_prices[\"Price\"], JPM_price_to_earnings)\n",
    "\n",
    "print(\"printing profit margins\\n\",gross_profit_margin, operating_profit_margin, net_profit_margin)\n",
    "print(\"printing liquidity margins\\n\",current_ratio, quick_ratio)\n",
    "print(\"printing solvency margins\\n\",debt_to_equity, interest_coverage_ratio)\n",
    "print(\"printing efficiency margins\\n\",asset_turnover_ratio, inventory_turnover_ratio)\n"
   ]
  },
  {
   "cell_type": "markdown",
   "metadata": {},
   "source": [
    "### Microsoft"
   ]
  },
  {
   "cell_type": "code",
   "execution_count": null,
   "metadata": {},
   "outputs": [],
   "source": [
    "MSFT_prices[\"Close\"] = pd.to_numeric(MSFT_prices[\"Close\"], errors=\"coerce\")\n",
    "MSFT_prices = MSFT_prices.dropna(subset=[\"Close\"]).reset_index(drop=True)\n",
    "MSFT_prices[\"High\"] = pd.to_numeric(MSFT_prices[\"High\"], errors=\"coerce\")\n",
    "MSFT_prices[\"Low\"] = pd.to_numeric(MSFT_prices[\"Low\"], errors=\"coerce\")\n",
    "MSFT_prices[\"Open\"] = pd.to_numeric(MSFT_prices[\"Open\"], errors=\"coerce\")\n",
    "MSFT_prices[\"Volume\"] = pd.to_numeric(MSFT_prices[\"Volume\"], errors=\"coerce\")\n",
    "MSFT_prices[\"Price\"] = pd.to_datetime(MSFT_prices[\"Price\"])"
   ]
  },
  {
   "cell_type": "code",
   "execution_count": null,
   "metadata": {},
   "outputs": [],
   "source": [
    "correlation_matrix = MSFT_prices.corr()\n",
    "sns.heatmap(correlation_matrix, annot=True)\n",
    "plt.title(\"Correlation of MSFT Prices to Volume\")\n",
    "plt.show()"
   ]
  },
  {
   "cell_type": "code",
   "execution_count": null,
   "metadata": {},
   "outputs": [],
   "source": [
    "MSFT_prices[\"Returns\"] = MSFT_prices[\"Close\"].pct_change()\n",
    "MSFT_prices.hist(bins=50, figsize=(10, 7))\n",
    "plt.title(\"Distribution of Daily Returns of Microsoft\")\n",
    "plt.show()"
   ]
  },
  {
   "cell_type": "code",
   "execution_count": null,
   "metadata": {},
   "outputs": [],
   "source": [
    "MSFT_prices[\"Volume\"].plot(kind=\"hist\", bins=50, figsize=(10, 5))\n",
    "plt.title(\"Trading Volume Distribution\")\n",
    "plt.show()"
   ]
  },
  {
   "cell_type": "code",
   "execution_count": null,
   "metadata": {},
   "outputs": [],
   "source": [
    "fig, axes = plt.subplots(1, 2, figsize=(12, 5))\n",
    "plot_acf(MSFT_prices[\"Returns\"].dropna(), lags=20, ax=axes[0])\n",
    "axes[0].set_title(\"Autocorrelation Function (ACF)\")\n",
    "\n",
    "plot_pacf(MSFT_prices[\"Returns\"], ax=axes[1], lags=40)\n",
    "axes[1].set_title(\"Partial Autocorrelation Function (PACF)\")\n",
    "\n",
    "plt.show()"
   ]
  },
  {
   "cell_type": "code",
   "execution_count": null,
   "metadata": {},
   "outputs": [],
   "source": [
    "adf_result = adfuller(MSFT_prices[\"Returns\"].dropna())\n",
    "\n",
    "print(\"ADF Statistic:\", adf_result[0])\n",
    "print(\"p-value:\", adf_result[1])\n",
    "print(\"Critical Values:\", adf_result[4])"
   ]
  },
  {
   "cell_type": "markdown",
   "metadata": {},
   "source": [
    "### Extracting column for Microsoft\n"
   ]
  },
  {
   "cell_type": "code",
   "execution_count": null,
   "metadata": {},
   "outputs": [],
   "source": [
    "MSFT_balance_sheet.info()\n",
    "print(\"\\n\" + \"=\"*50 + \"\\n\")  # Separator for readability\n",
    "MSFT_cash_flow.info()\n",
    "print(\"\\n\" + \"=\"*50 + \"\\n\")  \n",
    "MSFT_income_statement.info()"
   ]
  },
  {
   "cell_type": "markdown",
   "metadata": {},
   "source": [
    "### Transposing data for Microsoft"
   ]
  },
  {
   "cell_type": "code",
   "execution_count": null,
   "metadata": {},
   "outputs": [],
   "source": [
    "MSFT_balance_sheet_transposed = MSFT_balance_sheet.transpose()\n",
    "MSFT_cash_flow_transposed = MSFT_cash_flow.transpose()\n",
    "MSFT_income_statement_transposed = MSFT_income_statement.transpose()\n"
   ]
  },
  {
   "cell_type": "code",
   "execution_count": null,
   "metadata": {},
   "outputs": [],
   "source": [
    "# Display transposed columns\n",
    "MSFT_balance_sheet_transposed.columns = MSFT_balance_sheet_transposed.iloc[0]\n",
    "MSFT_income_statement_transposed.columns = MSFT_income_statement_transposed.iloc[0]\n",
    "MSFT_cash_flow_transposed.columns = MSFT_cash_flow_transposed.iloc[0]\n",
    "\n",
    "# Get specific column\n",
    "#print(MSFT_balance_sheet_transposed['Leases'])\n",
    "#print(MSFT_income_statement_transposed['Total Revenue'])\n",
    "#print(MSFT_cash_flow_transposed['Free Cash Flow'])\n",
    "#MSFT_income_statement_transposed.head()"
   ]
  },
  {
   "cell_type": "markdown",
   "metadata": {},
   "source": [
    "### Missing value analysis for Microsoft"
   ]
  },
  {
   "cell_type": "code",
   "execution_count": null,
   "metadata": {},
   "outputs": [],
   "source": [
    "# calculate the percentage of missing values in each column\n",
    "missing_values_balance_sheet = MSFT_balance_sheet_transposed.isnull().sum() / len(MSFT_balance_sheet_transposed)\n",
    "missing_values_cash_flow = MSFT_cash_flow_transposed.isnull().sum() / len(MSFT_cash_flow_transposed)\n",
    "missing_values_income_statement = MSFT_income_statement_transposed.isnull().sum() / len(MSFT_income_statement_transposed)\n",
    "\n",
    "missing_values_df = pd.DataFrame({\n",
    "    \"Balance Sheet\": missing_values_balance_sheet,\n",
    "    \"Cash Flow\": missing_values_cash_flow,\n",
    "    \"Income Statement\": missing_values_income_statement\n",
    "})\n",
    "\n",
    "# Display only columns with missing values\n",
    "missing_values_df = missing_values_df[missing_values_df.sum(axis=1) > 0]\n",
    "\n",
    "# Print the missing values\n",
    "print(\"Missing Values Percentage:\")\n",
    "print(missing_values_df.round(2))\n"
   ]
  },
  {
   "cell_type": "markdown",
   "metadata": {},
   "source": [
    "### Trend analysis for Microsoft"
   ]
  },
  {
   "cell_type": "code",
   "execution_count": null,
   "metadata": {},
   "outputs": [],
   "source": [
    "# Trend analysis for Microsoft\n",
    "revenue = pd.to_numeric(MSFT_income_statement_transposed['Total Revenue'], errors='coerce')\n",
    "net_income = pd.to_numeric(MSFT_income_statement_transposed['Net Income'], errors='coerce')\n",
    "total_assets = pd.to_numeric(MSFT_balance_sheet_transposed['Total Assets'], errors='coerce')\n",
    "total_liabilities = pd.to_numeric(MSFT_balance_sheet_transposed['Total Liabilities Net Minority Interest'], errors='coerce')\n",
    "cash_flow_from_operations = pd.to_numeric(MSFT_cash_flow_transposed['Operating Cash Flow'], errors='coerce')\n",
    "\n",
    "revenue.plot(label=\"Total Revenue\")\n",
    "net_income.plot(label=\"Net Income\")\n",
    "total_assets.plot(label=\"Total Assets\")\n",
    "total_liabilities.plot(label='Total Liabilities Net Minority Interest') \n",
    "cash_flow_from_operations.plot(label= \"Operating Cashflow\")\n",
    "plt.title(\"Trend Analysis for Microsoft\")\n",
    "plt.legend()\n",
    "plt.show()\n",
    "\n"
   ]
  },
  {
   "cell_type": "markdown",
   "metadata": {},
   "source": [
    "### Ratio Analysis for Microsoft"
   ]
  },
  {
   "cell_type": "code",
   "execution_count": null,
   "metadata": {},
   "outputs": [],
   "source": [
    "# Profit margins for Microsoft\n",
    "gross_profit_margin = (pd.to_numeric(MSFT_income_statement_transposed['Total Revenue'], errors='coerce') - pd.to_numeric(MSFT_income_statement_transposed['Cost Of Revenue'], errors='coerce')) / pd.to_numeric(MSFT_income_statement_transposed['Total Revenue'], errors='coerce')\n",
    "operating_profit_margin = (pd.to_numeric(MSFT_income_statement_transposed[\"Operating Income\"], errors='coerce') / pd.to_numeric(MSFT_income_statement_transposed[\"Total Revenue\"], errors='coerce'))\n",
    "net_profit_margin = (pd.to_numeric(MSFT_income_statement_transposed[\"Net Income\"], errors='coerce') / pd.to_numeric(MSFT_income_statement_transposed[\"Total Revenue\"], errors='coerce'))\n",
    "\n",
    "# Liquidity Ratios for Microsoft\n",
    "current_ratio = (pd.to_numeric(MSFT_balance_sheet_transposed[\"Current Assets\"], errors='coerce') / pd.to_numeric(MSFT_balance_sheet_transposed[\"Current Liabilities\"], errors='coerce'))\n",
    "quick_ratio = (pd.to_numeric(MSFT_balance_sheet_transposed[\"Current Assets\"], errors='coerce') - pd.to_numeric(MSFT_balance_sheet_transposed[\"Inventory\"], errors='coerce')) / pd.to_numeric(MSFT_balance_sheet_transposed[\"Current Liabilities\"], errors='coerce')\n",
    "\n",
    "# Solvency Ratios for Microsoft\n",
    "debt_to_equity = (pd.to_numeric(MSFT_balance_sheet_transposed[\"Total Debt\"], errors='coerce') / pd.to_numeric(MSFT_balance_sheet_transposed[\"Total Equity Gross Minority Interest\"], errors='coerce'))\n",
    "interest_coverage_ratio = (pd.to_numeric(MSFT_income_statement_transposed[\"EBIT\"], errors='coerce') / pd.to_numeric(MSFT_income_statement_transposed[\"Interest Expense\"], errors='coerce'))\n",
    "\n",
    "# Efficiency Ratios for Microsoft\n",
    "asset_turnover_ratio = (pd.to_numeric(MSFT_income_statement_transposed[\"Total Revenue\"], errors='coerce') / pd.to_numeric(MSFT_balance_sheet_transposed[\"Total Assets\"], errors='coerce'))\n",
    "inventory_turnover_ratio =(pd.to_numeric(MSFT_income_statement_transposed[\"Cost Of Revenue\"], errors='coerce') / pd.to_numeric(MSFT_balance_sheet_transposed[\"Inventory\"], errors='coerce'))\n",
    "\n",
    "# Valuation Ratios for Microsoft, needs to be calculated\n",
    "#MSFT_price_to_earnings = (pd.to_numeric(MSFT_prices[\"Close\"], errors='coerce') / pd.to_numeric(MSFT_prices[\"Basic EPS\"], errors='coerce'))\n",
    "#MSFT_price_to_book = (pd.to_numeric(MSFT_prices[\"Close\"], errors='coerce') / pd.to_numeric(MSFT_prices[\"Book Value Per Share\"], errors='coerce'))\n",
    "#fig, axes = plt.subplots(2, 2, figsize=(12, 8))\n",
    "#axes[0, 0].plot(MSFT_prices[\"Price\"], MSFT_price_to_earnings)\n",
    "\n",
    "print(\"printing profit margins\\n\",gross_profit_margin, operating_profit_margin, net_profit_margin)\n",
    "print(\"printing liquidity margins\\n\",current_ratio, quick_ratio)\n",
    "print(\"printing solvency margins\\n\",debt_to_equity, interest_coverage_ratio)\n",
    "print(\"printing efficiency margins\\n\",asset_turnover_ratio, inventory_turnover_ratio)\n"
   ]
  },
  {
   "cell_type": "markdown",
   "metadata": {},
   "source": [
    "### NextEra Energy"
   ]
  },
  {
   "cell_type": "code",
   "execution_count": null,
   "metadata": {},
   "outputs": [],
   "source": [
    "NEE_prices[\"Close\"] = pd.to_numeric(NEE_prices[\"Close\"], errors=\"coerce\")\n",
    "NEE_prices = NEE_prices.dropna(subset=[\"Close\"]).reset_index(drop=True)\n",
    "NEE_prices[\"High\"] = pd.to_numeric(NEE_prices[\"High\"], errors=\"coerce\")\n",
    "NEE_prices[\"Low\"] = pd.to_numeric(NEE_prices[\"Low\"], errors=\"coerce\")\n",
    "NEE_prices[\"Open\"] = pd.to_numeric(NEE_prices[\"Open\"], errors=\"coerce\")\n",
    "NEE_prices[\"Volume\"] = pd.to_numeric(NEE_prices[\"Volume\"], errors=\"coerce\")\n",
    "NEE_prices[\"Price\"] = pd.to_datetime(NEE_prices[\"Price\"])"
   ]
  },
  {
   "cell_type": "code",
   "execution_count": null,
   "metadata": {},
   "outputs": [],
   "source": [
    "correlation_matrix = NEE_prices.corr()\n",
    "sns.heatmap(correlation_matrix, annot=True)\n",
    "plt.title(\"Correlation of NEE Prices to Volume\")\n",
    "plt.show()"
   ]
  },
  {
   "cell_type": "code",
   "execution_count": null,
   "metadata": {},
   "outputs": [],
   "source": [
    "NEE_prices[\"Returns\"] = NEE_prices[\"Close\"].pct_change()\n",
    "NEE_prices.hist(bins=50, figsize=(10, 7))\n",
    "plt.title(\"Distribution of Daily Returns of NextEra Energy\")\n",
    "plt.show()"
   ]
  },
  {
   "cell_type": "code",
   "execution_count": null,
   "metadata": {},
   "outputs": [],
   "source": [
    "NEE_prices[\"Volume\"].plot(kind=\"hist\", bins=50, figsize=(10, 5))\n",
    "plt.title(\"Trading Volume Distribution\")\n",
    "plt.show()"
   ]
  },
  {
   "cell_type": "code",
   "execution_count": null,
   "metadata": {},
   "outputs": [],
   "source": [
    "fig, axes = plt.subplots(1, 2, figsize=(12, 5))\n",
    "plot_acf(NEE_prices[\"Returns\"].dropna(), lags=20, ax=axes[0])\n",
    "axes[0].set_title(\"Autocorrelation Function (ACF)\")\n",
    "\n",
    "plot_pacf(NEE_prices[\"Returns\"], ax=axes[1], lags=40)\n",
    "axes[1].set_title(\"Partial Autocorrelation Function (PACF)\")\n",
    "\n",
    "plt.show()"
   ]
  },
  {
   "cell_type": "code",
   "execution_count": null,
   "metadata": {},
   "outputs": [],
   "source": [
    "adf_result = adfuller(NEE_prices[\"Returns\"].dropna())\n",
    "\n",
    "print(\"ADF Statistic:\", adf_result[0])\n",
    "print(\"p-value:\", adf_result[1])\n",
    "print(\"Critical Values:\", adf_result[4])"
   ]
  },
  {
   "cell_type": "code",
   "execution_count": null,
   "metadata": {},
   "outputs": [],
   "source": [
    "# Extracting column for NextEra Energy\n",
    "NEE_balance_sheet.info()\n",
    "print(\"\\n\" + \"=\"*50 + \"\\n\")  # Separator for readability\n",
    "NEE_cash_flow.info()\n",
    "print(\"\\n\" + \"=\"*50 + \"\\n\")  \n",
    "NEE_income_statement.info()"
   ]
  },
  {
   "cell_type": "markdown",
   "metadata": {},
   "source": [
    "### Transposing data for NextEra Energy"
   ]
  },
  {
   "cell_type": "code",
   "execution_count": null,
   "metadata": {},
   "outputs": [],
   "source": [
    "NEE_balance_sheet_transposed = NEE_balance_sheet.transpose()\n",
    "NEE_cash_flow_transposed = NEE_cash_flow.transpose()\n",
    "NEE_income_statement_transposed = NEE_income_statement.transpose()"
   ]
  },
  {
   "cell_type": "code",
   "execution_count": null,
   "metadata": {},
   "outputs": [],
   "source": [
    "# Display transposed columns\n",
    "NEE_balance_sheet_transposed.columns = NEE_balance_sheet_transposed.iloc[0]\n",
    "NEE_income_statement_transposed.columns = NEE_income_statement_transposed.iloc[0]\n",
    "NEE_cash_flow_transposed.columns = NEE_cash_flow_transposed.iloc[0]\n",
    "\n",
    "# Get specific column\n",
    "#print(NEE_balance_sheet_transposed['Leases'])\n",
    "#print(NEE_income_statement_transposed['Total Revenue'])\n",
    "#print(NEE_cash_flow_transposed['Free Cash Flow'])\n",
    "#NEE_income_statement_transposed.head()"
   ]
  },
  {
   "cell_type": "markdown",
   "metadata": {},
   "source": [
    "###  Missing value analysis for NextEra Energy"
   ]
  },
  {
   "cell_type": "code",
   "execution_count": null,
   "metadata": {},
   "outputs": [],
   "source": [
    "# calculate the percentage of missing values in each column\n",
    "missing_values_balance_sheet = NEE_balance_sheet_transposed.isnull().sum() / len(NEE_balance_sheet_transposed)\n",
    "missing_values_cash_flow = NEE_cash_flow_transposed.isnull().sum() / len(NEE_cash_flow_transposed)\n",
    "missing_values_income_statement = NEE_income_statement_transposed.isnull().sum() / len(NEE_income_statement_transposed)\n",
    "\n",
    "missing_values_df = pd.DataFrame({\n",
    "    \"Balance Sheet\": missing_values_balance_sheet,\n",
    "    \"Cash Flow\": missing_values_cash_flow,\n",
    "    \"Income Statement\": missing_values_income_statement\n",
    "})\n",
    "\n",
    "# Display only columns with missing values\n",
    "missing_values_df = missing_values_df[missing_values_df.sum(axis=1) > 0]\n",
    "\n",
    "# Print the missing values\n",
    "print(\"Missing Values Percentage:\")\n",
    "print(missing_values_df.round(2))\n"
   ]
  },
  {
   "cell_type": "markdown",
   "metadata": {},
   "source": [
    "### Trend Analysis for NextEra Energy"
   ]
  },
  {
   "cell_type": "code",
   "execution_count": null,
   "metadata": {},
   "outputs": [],
   "source": [
    "# Trend analysis for NextEra Energy\n",
    "revenue = pd.to_numeric(NEE_income_statement_transposed['Total Revenue'], errors='coerce')\n",
    "net_income = pd.to_numeric(NEE_income_statement_transposed['Net Income'], errors='coerce')\n",
    "total_assets = pd.to_numeric(NEE_balance_sheet_transposed['Total Assets'], errors='coerce')\n",
    "total_liabilities = pd.to_numeric(NEE_balance_sheet_transposed['Total Liabilities Net Minority Interest'], errors='coerce')\n",
    "cash_flow_from_operations = pd.to_numeric(NEE_cash_flow_transposed['Operating Cash Flow'], errors='coerce')\n",
    "\n",
    "revenue.plot(label=\"Total Revenue\")\n",
    "net_income.plot(label=\"Net Income\")\n",
    "total_assets.plot(label=\"Total Assets\")\n",
    "total_liabilities.plot(label='Total Liabilities Net Minority Interest') \n",
    "cash_flow_from_operations.plot(label= \"Operating Cashflow\")\n",
    "plt.title(\"Trend Analysis for NextEra Energy\")\n",
    "plt.legend()\n",
    "plt.show()\n",
    "\n"
   ]
  },
  {
   "cell_type": "markdown",
   "metadata": {},
   "source": [
    "### Ratio analysis for NextEra Energy"
   ]
  },
  {
   "cell_type": "code",
   "execution_count": null,
   "metadata": {},
   "outputs": [],
   "source": [
    "# Profit margins for NextEra Energy\n",
    "gross_profit_margin = (pd.to_numeric(NEE_income_statement_transposed['Total Revenue'], errors='coerce') - pd.to_numeric(NEE_income_statement_transposed['Cost Of Revenue'], errors='coerce')) / pd.to_numeric(NEE_income_statement_transposed['Total Revenue'], errors='coerce')\n",
    "operating_profit_margin = (pd.to_numeric(NEE_income_statement_transposed[\"Operating Income\"], errors='coerce') / pd.to_numeric(NEE_income_statement_transposed[\"Total Revenue\"], errors='coerce'))\n",
    "net_profit_margin = (pd.to_numeric(NEE_income_statement_transposed[\"Net Income\"], errors='coerce') / pd.to_numeric(NEE_income_statement_transposed[\"Total Revenue\"], errors='coerce'))\n",
    "\n",
    "# Liquidity Ratios for NextEra Energy\n",
    "current_ratio = (pd.to_numeric(NEE_balance_sheet_transposed[\"Current Assets\"], errors='coerce') / pd.to_numeric(NEE_balance_sheet_transposed[\"Current Liabilities\"], errors='coerce'))\n",
    "quick_ratio = (pd.to_numeric(NEE_balance_sheet_transposed[\"Current Assets\"], errors='coerce') - pd.to_numeric(NEE_balance_sheet_transposed[\"Inventory\"], errors='coerce')) / pd.to_numeric(NEE_balance_sheet_transposed[\"Current Liabilities\"], errors='coerce')\n",
    "\n",
    "# Solvency Ratios for NextEra Energy\n",
    "debt_to_equity = (pd.to_numeric(NEE_balance_sheet_transposed[\"Total Debt\"], errors='coerce') / pd.to_numeric(NEE_balance_sheet_transposed[\"Total Equity Gross Minority Interest\"], errors='coerce'))\n",
    "interest_coverage_ratio = (pd.to_numeric(NEE_income_statement_transposed[\"EBIT\"], errors='coerce') / pd.to_numeric(NEE_income_statement_transposed[\"Interest Expense\"], errors='coerce'))\n",
    "\n",
    "# Efficiency Ratios for NextEra Energy\n",
    "asset_turnover_ratio = (pd.to_numeric(NEE_income_statement_transposed[\"Total Revenue\"], errors='coerce') / pd.to_numeric(NEE_balance_sheet_transposed[\"Total Assets\"], errors='coerce'))\n",
    "inventory_turnover_ratio =(pd.to_numeric(NEE_income_statement_transposed[\"Cost Of Revenue\"], errors='coerce') / pd.to_numeric(NEE_balance_sheet_transposed[\"Inventory\"], errors='coerce'))\n",
    "\n",
    "# Valuation Ratios for NextEra Energy, needs to be calculated\n",
    "#NEE_price_to_earnings = (pd.to_numeric(NEE_prices[\"Close\"], errors='coerce') / pd.to_numeric(NEE_prices[\"Basic EPS\"], errors='coerce'))\n",
    "#NEE_price_to_book = (pd.to_numeric(NEE_prices[\"Close\"], errors='coerce') / pd.to_numeric(NEE_prices[\"Book Value Per Share\"], errors='coerce'))\n",
    "#fig, axes = plt.subplots(2, 2, figsize=(12, 8))\n",
    "#axes[0, 0].plot(NEE_prices[\"Price\"], NEE_price_to_earnings)\n",
    "\n",
    "print(\"printing profit margins\\n\",gross_profit_margin, operating_profit_margin, net_profit_margin)\n",
    "print(\"printing liquidity margins\\n\",current_ratio, quick_ratio)\n",
    "print(\"printing solvency margins\\n\",debt_to_equity, interest_coverage_ratio)\n",
    "print(\"printing efficiency margins\\n\",asset_turnover_ratio, inventory_turnover_ratio)\n"
   ]
  },
  {
   "cell_type": "markdown",
   "metadata": {},
   "source": [
    "### Nvidia"
   ]
  },
  {
   "cell_type": "code",
   "execution_count": null,
   "metadata": {},
   "outputs": [],
   "source": [
    "NVDA_prices[\"Close\"] = pd.to_numeric(NVDA_prices[\"Close\"], errors=\"coerce\")\n",
    "NVDA_prices = NVDA_prices.dropna(subset=[\"Close\"]).reset_index(drop=True)\n",
    "NVDA_prices[\"High\"] = pd.to_numeric(NVDA_prices[\"High\"], errors=\"coerce\")\n",
    "NVDA_prices[\"Low\"] = pd.to_numeric(NVDA_prices[\"Low\"], errors=\"coerce\")\n",
    "NVDA_prices[\"Open\"] = pd.to_numeric(NVDA_prices[\"Open\"], errors=\"coerce\")\n",
    "NVDA_prices[\"Volume\"] = pd.to_numeric(NVDA_prices[\"Volume\"], errors=\"coerce\")\n",
    "NVDA_prices[\"Price\"] = pd.to_datetime(NVDA_prices[\"Price\"])"
   ]
  },
  {
   "cell_type": "code",
   "execution_count": null,
   "metadata": {},
   "outputs": [],
   "source": [
    "correlation_matrix = NVDA_prices.corr()\n",
    "sns.heatmap(correlation_matrix, annot=True)\n",
    "plt.title(\"Correlation of NVDA Prices to Volume\")\n",
    "plt.show()"
   ]
  },
  {
   "cell_type": "code",
   "execution_count": null,
   "metadata": {},
   "outputs": [],
   "source": [
    "NVDA_prices[\"Returns\"] = NVDA_prices[\"Close\"].pct_change()\n",
    "NVDA_prices.hist(bins=50, figsize=(10, 7))\n",
    "plt.title(\"Distribution of Daily Returns of Nvidia\")\n",
    "plt.show()"
   ]
  },
  {
   "cell_type": "code",
   "execution_count": null,
   "metadata": {},
   "outputs": [],
   "source": [
    "fig, axes = plt.subplots(1, 2, figsize=(12, 5))\n",
    "plot_acf(NVDA_prices[\"Returns\"].dropna(), lags=20, ax=axes[0])\n",
    "axes[0].set_title(\"Autocorrelation Function (ACF)\")\n",
    "\n",
    "plot_pacf(NVDA_prices[\"Returns\"], ax=axes[1], lags=40)\n",
    "axes[1].set_title(\"Partial Autocorrelation Function (PACF)\")\n",
    "\n",
    "plt.show()"
   ]
  },
  {
   "cell_type": "code",
   "execution_count": null,
   "metadata": {},
   "outputs": [],
   "source": [
    "adf_result = adfuller(NVDA_prices[\"Returns\"].dropna())\n",
    "\n",
    "print(\"ADF Statistic:\", adf_result[0])\n",
    "print(\"p-value:\", adf_result[1])\n",
    "print(\"Critical Values:\", adf_result[4])"
   ]
  },
  {
   "cell_type": "code",
   "execution_count": null,
   "metadata": {},
   "outputs": [],
   "source": [
    "# Extracting column for Nvidia\n",
    "NVDA_balance_sheet.info()\n",
    "print(\"\\n\" + \"=\"*50 + \"\\n\")  # Separator for readability\n",
    "NVDA_cash_flow.info()\n",
    "print(\"\\n\" + \"=\"*50 + \"\\n\")  \n",
    "NVDA_income_statement.info()"
   ]
  },
  {
   "cell_type": "markdown",
   "metadata": {},
   "source": [
    "### Transposing data for Nvidia"
   ]
  },
  {
   "cell_type": "code",
   "execution_count": null,
   "metadata": {},
   "outputs": [],
   "source": [
    "NVDA_balance_sheet_transposed = NVDA_balance_sheet.transpose()\n",
    "NVDA_cash_flow_transposed = NVDA_cash_flow.transpose()\n",
    "NVDA_income_statement_transposed = NVDA_income_statement.transpose()"
   ]
  },
  {
   "cell_type": "code",
   "execution_count": null,
   "metadata": {},
   "outputs": [],
   "source": [
    "# Display transposed columns\n",
    "NVDA_balance_sheet_transposed.columns = NVDA_balance_sheet_transposed.iloc[0]\n",
    "NVDA_income_statement_transposed.columns = NVDA_income_statement_transposed.iloc[0]\n",
    "NVDA_cash_flow_transposed.columns = NVDA_cash_flow_transposed.iloc[0]\n",
    "\n",
    "# Get specific column\n",
    "#print(NVDA_balance_sheet_transposed['Leases'])\n",
    "#print(NVDAincome_statement_transposed['Total Revenue'])\n",
    "#print(NVDA_cash_flow_transposed['Free Cash Flow'])\n",
    "#NVDA_income_statement_transposed.head()"
   ]
  },
  {
   "cell_type": "markdown",
   "metadata": {},
   "source": [
    "### Missing value analysis for Nvidia"
   ]
  },
  {
   "cell_type": "code",
   "execution_count": null,
   "metadata": {},
   "outputs": [],
   "source": [
    "# calculate the percentage of missing values in each column\n",
    "missing_values_balance_sheet = NVDA_balance_sheet_transposed.isnull().sum() / len(NVDA_balance_sheet_transposed)\n",
    "missing_values_cash_flow = NVDA_cash_flow_transposed.isnull().sum() / len(NVDA_cash_flow_transposed)\n",
    "missing_values_income_statement = NVDA_income_statement_transposed.isnull().sum() / len(NVDA_income_statement_transposed)\n",
    "\n",
    "missing_values_df = pd.DataFrame({\n",
    "    \"Balance Sheet\": missing_values_balance_sheet,\n",
    "    \"Cash Flow\": missing_values_cash_flow,\n",
    "    \"Income Statement\": missing_values_income_statement\n",
    "}) \n",
    "# Display only columns with missing values\n",
    "missing_values_df = missing_values_df[missing_values_df.sum(axis=1) > 0]\n",
    "\n",
    "# Print the missing values\n",
    "print(\"Missing Values Percentage:\")\n",
    "print(missing_values_df.round(2))\n"
   ]
  },
  {
   "cell_type": "markdown",
   "metadata": {},
   "source": [
    "### Trend analysis for Nvidia"
   ]
  },
  {
   "cell_type": "code",
   "execution_count": null,
   "metadata": {},
   "outputs": [],
   "source": [
    "# Trend analysis for Nvidia\n",
    "revenue = pd.to_numeric(NVDA_income_statement_transposed['Total Revenue'], errors='coerce')\n",
    "net_income = pd.to_numeric(NVDA_income_statement_transposed['Net Income'], errors='coerce')\n",
    "total_assets = pd.to_numeric(NVDA_balance_sheet_transposed['Total Assets'], errors='coerce')\n",
    "total_liabilities = pd.to_numeric(NVDA_balance_sheet_transposed['Total Liabilities Net Minority Interest'], errors='coerce')\n",
    "cash_flow_from_operations = pd.to_numeric(NVDA_cash_flow_transposed['Operating Cash Flow'], errors='coerce')\n",
    "\n",
    "revenue.plot(label=\"Total Revenue\")\n",
    "net_income.plot(label=\"Net Income\")\n",
    "total_assets.plot(label=\"Total Assets\")\n",
    "total_liabilities.plot(label='Total Liabilities Net Minority Interest') \n",
    "cash_flow_from_operations.plot(label= \"Operating Cashflow\")\n",
    "plt.title(\"Trend Analysis for Nvidia\")\n",
    "plt.legend()\n",
    "plt.show()\n",
    "\n"
   ]
  },
  {
   "cell_type": "markdown",
   "metadata": {},
   "source": [
    "### Ratio analysis for Nvidia"
   ]
  },
  {
   "cell_type": "code",
   "execution_count": null,
   "metadata": {},
   "outputs": [],
   "source": [
    "# Profit margins for Nvidia\n",
    "gross_profit_margin = (pd.to_numeric(NVDA_income_statement_transposed['Total Revenue'], errors='coerce') - pd.to_numeric(NVDA_income_statement_transposed['Cost Of Revenue'], errors='coerce')) / pd.to_numeric(NVDA_income_statement_transposed['Total Revenue'], errors='coerce')\n",
    "operating_profit_margin = (pd.to_numeric(NVDA_income_statement_transposed[\"Operating Income\"], errors='coerce') / pd.to_numeric(NVDA_income_statement_transposed[\"Total Revenue\"], errors='coerce'))\n",
    "net_profit_margin = (pd.to_numeric(NVDA_income_statement_transposed[\"Net Income\"], errors='coerce') / pd.to_numeric(NVDA_income_statement_transposed[\"Total Revenue\"], errors='coerce'))\n",
    "\n",
    "# Liquidity Ratios for Nvidia\n",
    "current_ratio = (pd.to_numeric(NVDA_balance_sheet_transposed[\"Current Assets\"], errors='coerce') / pd.to_numeric(NVDA_balance_sheet_transposed[\"Current Liabilities\"], errors='coerce'))\n",
    "quick_ratio = (pd.to_numeric(NVDA_balance_sheet_transposed[\"Current Assets\"], errors='coerce') - pd.to_numeric(NVDA_balance_sheet_transposed[\"Inventory\"], errors='coerce')) / pd.to_numeric(NVDA_balance_sheet_transposed[\"Current Liabilities\"], errors='coerce')\n",
    "\n",
    "# Solvency Ratios for Nvidia\n",
    "debt_to_equity = (pd.to_numeric(NVDA_balance_sheet_transposed[\"Total Debt\"], errors='coerce') / pd.to_numeric(NVDA_balance_sheet_transposed[\"Total Equity Gross Minority Interest\"], errors='coerce'))\n",
    "interest_coverage_ratio = (pd.to_numeric(NVDA_income_statement_transposed[\"EBIT\"], errors='coerce') / pd.to_numeric(NVDA_income_statement_transposed[\"Interest Expense\"], errors='coerce'))\n",
    "\n",
    "# Efficiency Ratios for Nvidia\n",
    "asset_turnover_ratio = (pd.to_numeric(NVDA_income_statement_transposed[\"Total Revenue\"], errors='coerce') / pd.to_numeric(NVDA_balance_sheet_transposed[\"Total Assets\"], errors='coerce'))\n",
    "inventory_turnover_ratio =(pd.to_numeric(NVDA_income_statement_transposed[\"Cost Of Revenue\"], errors='coerce') / pd.to_numeric(NVDA_balance_sheet_transposed[\"Inventory\"], errors='coerce'))\n",
    "\n",
    "# Valuation Ratios for Nvidia, needs to be calculated\n",
    "#NVDA_price_to_earnings = (pd.to_numeric(NVDA_prices[\"Close\"], errors='coerce') / pd.to_numeric(NVDA_prices[\"Basic EPS\"], errors='coerce'))\n",
    "#NVDA_price_to_book = (pd.to_numeric(NVDA_prices[\"Close\"], errors='coerce') / pd.to_numeric(NVDA_prices[\"Book Value Per Share\"], errors='coerce'))\n",
    "#fig, axes = plt.subplots(2, 2, figsize=(12, 8))\n",
    "#axes[0, 0].plot(NVDA_prices[\"Price\"], NVDA_price_to_earnings)\n",
    "\n",
    "print(\"printing profit margins\\n\",gross_profit_margin, operating_profit_margin, net_profit_margin)\n",
    "print(\"printing liquidity margins\\n\",current_ratio, quick_ratio)\n",
    "print(\"printing solvency margins\\n\",debt_to_equity, interest_coverage_ratio)\n",
    "print(\"printing efficiency margins\\n\",asset_turnover_ratio, inventory_turnover_ratio)\n"
   ]
  },
  {
   "cell_type": "markdown",
   "metadata": {},
   "source": [
    "### Pfizer"
   ]
  },
  {
   "cell_type": "code",
   "execution_count": null,
   "metadata": {},
   "outputs": [],
   "source": [
    "PFE_prices[\"Close\"] = pd.to_numeric(PFE_prices[\"Close\"], errors=\"coerce\")\n",
    "PFE_prices = PFE_prices.dropna(subset=[\"Close\"]).reset_index(drop=True)\n",
    "PFE_prices[\"High\"] = pd.to_numeric(PFE_prices[\"High\"], errors=\"coerce\")\n",
    "PFE_prices[\"Low\"] = pd.to_numeric(PFE_prices[\"Low\"], errors=\"coerce\")\n",
    "PFE_prices[\"Open\"] = pd.to_numeric(PFE_prices[\"Open\"], errors=\"coerce\")\n",
    "PFE_prices[\"Volume\"] = pd.to_numeric(PFE_prices[\"Volume\"], errors=\"coerce\")\n",
    "PFE_prices[\"Price\"] = pd.to_datetime(PFE_prices[\"Price\"])"
   ]
  },
  {
   "cell_type": "code",
   "execution_count": null,
   "metadata": {},
   "outputs": [],
   "source": [
    "correlation_matrix = PFE_prices.corr()\n",
    "sns.heatmap(correlation_matrix, annot=True)\n",
    "plt.title(\"Correlation of PFE Prices to Volume\")\n",
    "plt.show()"
   ]
  },
  {
   "cell_type": "code",
   "execution_count": null,
   "metadata": {},
   "outputs": [],
   "source": [
    "PFE_prices[\"Returns\"] = PFE_prices[\"Close\"].pct_change()\n",
    "PFE_prices.hist(bins=50, figsize=(10, 7))\n",
    "plt.title(\"Distribution of Daily Returns of Pfizer\")\n",
    "plt.show()"
   ]
  },
  {
   "cell_type": "code",
   "execution_count": null,
   "metadata": {},
   "outputs": [],
   "source": [
    "fig, axes = plt.subplots(1, 2, figsize=(12, 5))\n",
    "plot_acf(PFE_prices[\"Returns\"].dropna(), lags=20, ax=axes[0])\n",
    "axes[0].set_title(\"Autocorrelation Function (ACF)\")\n",
    "\n",
    "plot_pacf(PFE_prices[\"Returns\"], ax=axes[1], lags=40)\n",
    "axes[1].set_title(\"Partial Autocorrelation Function (PACF)\")\n",
    "\n",
    "plt.show()"
   ]
  },
  {
   "cell_type": "code",
   "execution_count": null,
   "metadata": {},
   "outputs": [],
   "source": [
    "adf_result = adfuller(PFE_prices[\"Returns\"].dropna())\n",
    "\n",
    "print(\"ADF Statistic:\", adf_result[0])\n",
    "print(\"p-value:\", adf_result[1])\n",
    "print(\"Critical Values:\", adf_result[4])"
   ]
  },
  {
   "cell_type": "code",
   "execution_count": null,
   "metadata": {},
   "outputs": [],
   "source": [
    "# Extracting column for Pfizer\n",
    "PFE_balance_sheet.info()\n",
    "print(\"\\n\" + \"=\"*50 + \"\\n\")  # Separator for readability\n",
    "PFE_cash_flow.info()\n",
    "print(\"\\n\" + \"=\"*50 + \"\\n\") \n",
    "PFE_income_statement.info()"
   ]
  },
  {
   "cell_type": "markdown",
   "metadata": {},
   "source": [
    "### Transposing Data for Pfizer"
   ]
  },
  {
   "cell_type": "code",
   "execution_count": null,
   "metadata": {},
   "outputs": [],
   "source": [
    "PFE_balance_sheet_transposed = PFE_balance_sheet.transpose()\n",
    "PFE_cash_flow_transposed = PFE_cash_flow.transpose()\n",
    "PFE_income_statement_transposed = PFE_income_statement.transpose()"
   ]
  },
  {
   "cell_type": "code",
   "execution_count": null,
   "metadata": {},
   "outputs": [],
   "source": [
    "# Display transposed columns\n",
    "PFE_balance_sheet_transposed.columns = PFE_balance_sheet_transposed.iloc[0]\n",
    "PFE_income_statement_transposed.columns = PFE_income_statement_transposed.iloc[0]\n",
    "PFE_cash_flow_transposed.columns = PFE_cash_flow_transposed.iloc[0]\n",
    "\n",
    "# Get specific column\n",
    "#print(PFE_balance_sheet_transposed['Leases'])\n",
    "#print(PFE_income_statement_transposed['Total Revenue'])\n",
    "#print(PFE_cash_flow_transposed['Free Cash Flow'])\n",
    "#PFE_income_statement_transposed.head()"
   ]
  },
  {
   "cell_type": "markdown",
   "metadata": {},
   "source": [
    "### Missing value analysis for Pfizer"
   ]
  },
  {
   "cell_type": "code",
   "execution_count": null,
   "metadata": {},
   "outputs": [],
   "source": [
    "# calculate the percentage of missing values in each column\n",
    "missing_values_balance_sheet = PFE_balance_sheet_transposed.isnull().sum() / len(PFE_balance_sheet_transposed)\n",
    "missing_values_cash_flow = PFE_cash_flow_transposed.isnull().sum() / len(PFE_cash_flow_transposed)\n",
    "missing_values_income_statement = PFE_income_statement_transposed.isnull().sum() / len(PFE_income_statement_transposed)\n",
    "\n",
    "missing_values_df = pd.DataFrame({\n",
    "    \"Balance Sheet\": missing_values_balance_sheet,\n",
    "    \"Cash Flow\": missing_values_cash_flow,\n",
    "    \"Income Statement\": missing_values_income_statement\n",
    "})\n",
    "\n",
    "# Display only columns with missing values\n",
    "missing_values_df = missing_values_df[missing_values_df.sum(axis=1) > 0]\n",
    "\n",
    "# Print the missing values\n",
    "print(\"Missing Values Percentage:\")\n",
    "print(missing_values_df.round(2))\n"
   ]
  },
  {
   "cell_type": "markdown",
   "metadata": {},
   "source": [
    "### Trend analysis for Pfizer"
   ]
  },
  {
   "cell_type": "code",
   "execution_count": null,
   "metadata": {},
   "outputs": [],
   "source": [
    "# Trend analysis for Pfizer\n",
    "revenue = pd.to_numeric(PFE_income_statement_transposed['Total Revenue'], errors='coerce')\n",
    "net_income = pd.to_numeric(PFE_income_statement_transposed['Net Income'], errors='coerce')\n",
    "total_assets = pd.to_numeric(PFE_balance_sheet_transposed['Total Assets'], errors='coerce')\n",
    "total_liabilities = pd.to_numeric(PFE_balance_sheet_transposed['Total Liabilities Net Minority Interest'], errors='coerce')\n",
    "cash_flow_from_operations = pd.to_numeric(PFE_cash_flow_transposed['Operating Cash Flow'], errors='coerce')\n",
    "\n",
    "revenue.plot(label=\"Total Revenue\")\n",
    "net_income.plot(label=\"Net Income\")\n",
    "total_assets.plot(label=\"Total Assets\")\n",
    "total_liabilities.plot(label='Total Liabilities Net Minority Interest') \n",
    "cash_flow_from_operations.plot(label= \"Operating Cashflow\")\n",
    "plt.title(\"Trend Analysis for Pfizer\")\n",
    "plt.legend()\n",
    "plt.show()\n",
    "\n"
   ]
  },
  {
   "cell_type": "markdown",
   "metadata": {},
   "source": [
    "### Ratio analysis for Pfizer"
   ]
  },
  {
   "cell_type": "code",
   "execution_count": null,
   "metadata": {},
   "outputs": [],
   "source": [
    "# Profit margins for Pfizer\n",
    "gross_profit_margin = (pd.to_numeric(PFE_income_statement_transposed['Total Revenue'], errors='coerce') - pd.to_numeric(PFE_income_statement_transposed['Cost Of Revenue'], errors='coerce')) / pd.to_numeric(PFE_income_statement_transposed['Total Revenue'], errors='coerce')\n",
    "operating_profit_margin = (pd.to_numeric(PFE_income_statement_transposed[\"Operating Income\"], errors='coerce') / pd.to_numeric(PFE_income_statement_transposed[\"Total Revenue\"], errors='coerce'))\n",
    "net_profit_margin = (pd.to_numeric(PFE_income_statement_transposed[\"Net Income\"], errors='coerce') / pd.to_numeric(PFE_income_statement_transposed[\"Total Revenue\"], errors='coerce'))\n",
    "\n",
    "# Liquidity Ratios for Pfizer\n",
    "current_ratio = (pd.to_numeric(PFE_balance_sheet_transposed[\"Current Assets\"], errors='coerce') / pd.to_numeric(PFE_balance_sheet_transposed[\"Current Liabilities\"], errors='coerce'))\n",
    "quick_ratio = (pd.to_numeric(PFE_balance_sheet_transposed[\"Current Assets\"], errors='coerce') - pd.to_numeric(PFE_balance_sheet_transposed[\"Inventory\"], errors='coerce')) / pd.to_numeric(PFE_balance_sheet_transposed[\"Current Liabilities\"], errors='coerce')\n",
    "\n",
    "# Solvency Ratios for Pfizer\n",
    "debt_to_equity = (pd.to_numeric(PFE_balance_sheet_transposed[\"Total Debt\"], errors='coerce') / pd.to_numeric(PFE_balance_sheet_transposed[\"Total Equity Gross Minority Interest\"], errors='coerce'))\n",
    "interest_coverage_ratio = (pd.to_numeric(PFE_income_statement_transposed[\"EBIT\"], errors='coerce') / pd.to_numeric(PFE_income_statement_transposed[\"Interest Expense\"], errors='coerce'))\n",
    "\n",
    "# Efficiency Ratios for Pfizer\n",
    "asset_turnover_ratio = (pd.to_numeric(PFE_income_statement_transposed[\"Total Revenue\"], errors='coerce') / pd.to_numeric(PFE_balance_sheet_transposed[\"Total Assets\"], errors='coerce'))\n",
    "inventory_turnover_ratio =(pd.to_numeric(PFE_income_statement_transposed[\"Cost Of Revenue\"], errors='coerce') / pd.to_numeric(PFE_balance_sheet_transposed[\"Inventory\"], errors='coerce'))\n",
    "\n",
    "# Valuation Ratios for Pfizer, needs to be calculated\n",
    "#PFE_price_to_earnings = (pd.to_numeric(PFE_prices[\"Close\"], errors='coerce') / pd.to_numeric(PFE_prices[\"Basic EPS\"], errors='coerce'))\n",
    "#PFE_price_to_book = (pd.to_numeric(PFE_prices[\"Close\"], errors='coerce') / pd.to_numeric(PFE_prices[\"Book Value Per Share\"], errors='coerce'))\n",
    "#fig, axes = plt.subplots(2, 2, figsize=(12, 8))\n",
    "#axes[0, 0].plot(PFE_prices[\"Price\"], PFE_price_to_earnings)\n",
    "\n",
    "print(\"printing profit margins\\n\",gross_profit_margin, operating_profit_margin, net_profit_margin)\n",
    "print(\"printing liquidity margins\\n\",current_ratio, quick_ratio)\n",
    "print(\"printing solvency margins\\n\",debt_to_equity, interest_coverage_ratio)\n",
    "print(\"printing efficiency margins\\n\",asset_turnover_ratio, inventory_turnover_ratio)\n"
   ]
  },
  {
   "cell_type": "markdown",
   "metadata": {},
   "source": [
    "### Tesla"
   ]
  },
  {
   "cell_type": "code",
   "execution_count": null,
   "metadata": {},
   "outputs": [],
   "source": [
    "TSLA_prices[\"Close\"] = pd.to_numeric(TSLA_prices[\"Close\"], errors=\"coerce\")\n",
    "TSLA_prices = TSLA_prices.dropna(subset=[\"Close\"]).reset_index(drop=True)\n",
    "TSLA_prices[\"High\"] = pd.to_numeric(TSLA_prices[\"High\"], errors=\"coerce\")\n",
    "TSLA_prices[\"Low\"] = pd.to_numeric(TSLA_prices[\"Low\"], errors=\"coerce\")\n",
    "TSLA_prices[\"Open\"] = pd.to_numeric(TSLA_prices[\"Open\"], errors=\"coerce\")\n",
    "TSLA_prices[\"Volume\"] = pd.to_numeric(TSLA_prices[\"Volume\"], errors=\"coerce\")\n",
    "TSLA_prices[\"Price\"] = pd.to_datetime(TSLA_prices[\"Price\"])"
   ]
  },
  {
   "cell_type": "code",
   "execution_count": null,
   "metadata": {},
   "outputs": [],
   "source": [
    "correlation_matrix = TSLA_prices.corr()\n",
    "sns.heatmap(correlation_matrix, annot=True)\n",
    "plt.title(\"Correlation of TSLA Prices to Volume\")\n",
    "plt.show()"
   ]
  },
  {
   "cell_type": "code",
   "execution_count": null,
   "metadata": {},
   "outputs": [],
   "source": [
    "TSLA_prices[\"Returns\"] = TSLA_prices[\"Close\"].pct_change()\n",
    "TSLA_prices.hist(bins=50, figsize=(10, 7))\n",
    "plt.title(\"Distribution of Daily Returns of Tesla\")\n",
    "plt.show()"
   ]
  },
  {
   "cell_type": "code",
   "execution_count": null,
   "metadata": {},
   "outputs": [],
   "source": [
    "fig, axes = plt.subplots(1, 2, figsize=(12, 5))\n",
    "plot_acf(TSLA_prices[\"Returns\"].dropna(), lags=20, ax=axes[0])\n",
    "axes[0].set_title(\"Autocorrelation Function (ACF)\")\n",
    "\n",
    "plot_pacf(TSLA_prices[\"Returns\"], ax=axes[1], lags=40)\n",
    "axes[1].set_title(\"Partial Autocorrelation Function (PACF)\")\n",
    "\n",
    "plt.show()"
   ]
  },
  {
   "cell_type": "code",
   "execution_count": null,
   "metadata": {},
   "outputs": [],
   "source": [
    "adf_result = adfuller(TSLA_prices[\"Returns\"].dropna())\n",
    "\n",
    "print(\"ADF Statistic:\", adf_result[0])\n",
    "print(\"p-value:\", adf_result[1])\n",
    "print(\"Critical Values:\", adf_result[4])"
   ]
  },
  {
   "cell_type": "code",
   "execution_count": null,
   "metadata": {},
   "outputs": [],
   "source": [
    "# Extracting column for Tesla\n",
    "TSLA_balance_sheet.info()\n",
    "print(\"\\n\" + \"=\"*50 + \"\\n\")  # Separator for readability\n",
    "TSLA_cash_flow.info()\n",
    "print(\"\\n\" + \"=\"*50 + \"\\n\") \n",
    "TSLA_income_statement.info()"
   ]
  },
  {
   "cell_type": "markdown",
   "metadata": {},
   "source": [
    "### Transposing Data for Tesla"
   ]
  },
  {
   "cell_type": "code",
   "execution_count": null,
   "metadata": {},
   "outputs": [],
   "source": [
    "TSLA_balance_sheet_transposed = TSLA_balance_sheet.transpose()\n",
    "TSLA_cash_flow_transposed = TSLA_cash_flow.transpose()\n",
    "TSLA_income_statement_transposed = TSLA_income_statement.transpose()"
   ]
  },
  {
   "cell_type": "code",
   "execution_count": null,
   "metadata": {},
   "outputs": [],
   "source": [
    "# Display transposed columns\n",
    "TSLA_balance_sheet_transposed.columns = TSLA_balance_sheet_transposed.iloc[0]\n",
    "TSLA_income_statement_transposed.columns = TSLA_income_statement_transposed.iloc[0]\n",
    "TSLA_cash_flow_transposed.columns = TSLA_cash_flow_transposed.iloc[0]\n",
    "\n",
    "# Get specific column\n",
    "#print(TSLA_balance_sheet_transposed['Leases'])\n",
    "#print(TSLA_income_statement_transposed['Total Revenue'])\n",
    "#print(TSLA_cash_flow_transposed['Free Cash Flow'])\n",
    "#TSLA_income_statement_transposed.head()"
   ]
  },
  {
   "cell_type": "markdown",
   "metadata": {},
   "source": [
    "### Missing value analysis for Tesla"
   ]
  },
  {
   "cell_type": "code",
   "execution_count": null,
   "metadata": {},
   "outputs": [],
   "source": [
    "# calculate the percentage of missing values in each column\n",
    "missing_values_balance_sheet = TSLA_balance_sheet_transposed.isnull().sum() / len(TSLA_balance_sheet_transposed)\n",
    "missing_values_cash_flow = TSLA_cash_flow_transposed.isnull().sum() / len(TSLA_cash_flow_transposed)\n",
    "missing_values_income_statement = TSLA_income_statement_transposed.isnull().sum() / len(TSLA_income_statement_transposed)\n",
    "\n",
    "missing_values_df = pd.DataFrame({\n",
    "    \"Balance Sheet\": missing_values_balance_sheet,\n",
    "    \"Cash Flow\": missing_values_cash_flow,\n",
    "    \"Income Statement\": missing_values_income_statement\n",
    "})\n",
    "\n",
    "# Display only columns with missing values\n",
    "missing_values_df = missing_values_df[missing_values_df.sum(axis=1) > 0]\n",
    "\n",
    "# Print the missing values\n",
    "print(\"Missing Values Percentage:\")\n",
    "print(missing_values_df.round(2))\n"
   ]
  },
  {
   "cell_type": "markdown",
   "metadata": {},
   "source": [
    "### Trend analysis for Tesla"
   ]
  },
  {
   "cell_type": "code",
   "execution_count": null,
   "metadata": {},
   "outputs": [],
   "source": [
    "# Trend analysis for Tesla\n",
    "revenue = pd.to_numeric(TSLA_income_statement_transposed['Total Revenue'], errors='coerce')\n",
    "net_income = pd.to_numeric(TSLA_income_statement_transposed['Net Income'], errors='coerce')\n",
    "total_assets = pd.to_numeric(TSLA_balance_sheet_transposed['Total Assets'], errors='coerce')\n",
    "total_liabilities = pd.to_numeric(TSLA_balance_sheet_transposed['Total Liabilities Net Minority Interest'], errors='coerce')\n",
    "cash_flow_from_operations = pd.to_numeric(TSLA_cash_flow_transposed['Operating Cash Flow'], errors='coerce')\n",
    "\n",
    "revenue.plot(label=\"Total Revenue\")\n",
    "net_income.plot(label=\"Net Income\")\n",
    "total_assets.plot(label=\"Total Assets\")\n",
    "total_liabilities.plot(label='Total Liabilities Net Minority Interest') \n",
    "cash_flow_from_operations.plot(label= \"Operating Cashflow\")\n",
    "plt.title(\"Trend Analysis for Tesla\")\n",
    "plt.legend()\n",
    "plt.show()\n",
    "\n"
   ]
  },
  {
   "cell_type": "markdown",
   "metadata": {},
   "source": [
    "### Ratio analysis for Tesla"
   ]
  },
  {
   "cell_type": "code",
   "execution_count": null,
   "metadata": {},
   "outputs": [],
   "source": [
    "# Profit margins for Tesla\n",
    "gross_profit_margin = (pd.to_numeric(TSLA_income_statement_transposed['Total Revenue'], errors='coerce') - pd.to_numeric(TSLA_income_statement_transposed['Cost Of Revenue'], errors='coerce')) / pd.to_numeric(TSLA_income_statement_transposed['Total Revenue'], errors='coerce')\n",
    "operating_profit_margin = (pd.to_numeric(TSLA_income_statement_transposed[\"Operating Income\"], errors='coerce') / pd.to_numeric(TSLA_income_statement_transposed[\"Total Revenue\"], errors='coerce'))\n",
    "net_profit_margin = (pd.to_numeric(TSLA_income_statement_transposed[\"Net Income\"], errors='coerce') / pd.to_numeric(TSLA_income_statement_transposed[\"Total Revenue\"], errors='coerce'))\n",
    "\n",
    "# Liquidity Ratios for Tesla\n",
    "current_ratio = (pd.to_numeric(TSLA_balance_sheet_transposed[\"Current Assets\"], errors='coerce') / pd.to_numeric(TSLA_balance_sheet_transposed[\"Current Liabilities\"], errors='coerce'))\n",
    "quick_ratio = (pd.to_numeric(TSLA_balance_sheet_transposed[\"Current Assets\"], errors='coerce') - pd.to_numeric(TSLA_balance_sheet_transposed[\"Inventory\"], errors='coerce')) / pd.to_numeric(TSLA_balance_sheet_transposed[\"Current Liabilities\"], errors='coerce')\n",
    "\n",
    "# Solvency Ratios for Tesla\n",
    "debt_to_equity = (pd.to_numeric(TSLA_balance_sheet_transposed[\"Total Debt\"], errors='coerce') / pd.to_numeric(TSLA_balance_sheet_transposed[\"Total Equity Gross Minority Interest\"], errors='coerce'))\n",
    "interest_coverage_ratio = (pd.to_numeric(TSLA_income_statement_transposed[\"EBIT\"], errors='coerce') / pd.to_numeric(TSLA_income_statement_transposed[\"Interest Expense\"], errors='coerce'))\n",
    "\n",
    "# Efficiency Ratios for Tesla\n",
    "asset_turnover_ratio = (pd.to_numeric(TSLA_income_statement_transposed[\"Total Revenue\"], errors='coerce') / pd.to_numeric(TSLA_balance_sheet_transposed[\"Total Assets\"], errors='coerce'))\n",
    "inventory_turnover_ratio =(pd.to_numeric(TSLA_income_statement_transposed[\"Cost Of Revenue\"], errors='coerce') / pd.to_numeric(TSLA_balance_sheet_transposed[\"Inventory\"], errors='coerce'))\n",
    "\n",
    "# Valuation Ratios for Tesla, needs to be calculated\n",
    "#TSLA_price_to_earnings = (pd.to_numeric(TSLA_prices[\"Close\"], errors='coerce') / pd.to_numeric(TSLA_prices[\"Basic EPS\"], errors='coerce'))\n",
    "#TSLA_price_to_book = (pd.to_numeric(TSLA_prices[\"Close\"], errors='coerce') / pd.to_numeric(TSLA_prices[\"Book Value Per Share\"], errors='coerce'))\n",
    "#fig, axes = plt.subplots(2, 2, figsize=(12, 8))\n",
    "#axes[0, 0].plot(TSLA_prices[\"Price\"], TSLA_price_to_earnings)\n",
    "\n",
    "print(\"printing profit margins\\n\",gross_profit_margin, operating_profit_margin, net_profit_margin)\n",
    "print(\"printing liquidity margins\\n\",current_ratio, quick_ratio)\n",
    "print(\"printing solvency margins\\n\",debt_to_equity, interest_coverage_ratio)\n",
    "print(\"printing efficiency margins\\n\",asset_turnover_ratio, inventory_turnover_ratio)\n"
   ]
  },
  {
   "cell_type": "markdown",
   "metadata": {},
   "source": [
    "### Exxon Mobil"
   ]
  },
  {
   "cell_type": "code",
   "execution_count": null,
   "metadata": {},
   "outputs": [],
   "source": [
    "XOM_prices[\"Close\"] = pd.to_numeric(XOM_prices[\"Close\"], errors=\"coerce\")\n",
    "XOM_prices = XOM_prices.dropna(subset=[\"Close\"]).reset_index(drop=True)\n",
    "XOM_prices[\"High\"] = pd.to_numeric(XOM_prices[\"High\"], errors=\"coerce\")\n",
    "XOM_prices[\"Low\"] = pd.to_numeric(XOM_prices[\"Low\"], errors=\"coerce\")\n",
    "XOM_prices[\"Open\"] = pd.to_numeric(XOM_prices[\"Open\"], errors=\"coerce\")\n",
    "XOM_prices[\"Volume\"] = pd.to_numeric(XOM_prices[\"Volume\"], errors=\"coerce\")\n",
    "XOM_prices[\"Price\"] = pd.to_datetime(XOM_prices[\"Price\"])"
   ]
  },
  {
   "cell_type": "code",
   "execution_count": null,
   "metadata": {},
   "outputs": [],
   "source": [
    "correlation_matrix = XOM_prices.corr()\n",
    "sns.heatmap(correlation_matrix, annot=True)\n",
    "plt.title(\"Correlation of XOM Prices to Volume\")\n",
    "plt.show()"
   ]
  },
  {
   "cell_type": "code",
   "execution_count": null,
   "metadata": {},
   "outputs": [],
   "source": [
    "XOM_prices[\"Returns\"] = XOM_prices[\"Close\"].pct_change()\n",
    "XOM_prices.hist(bins=50, figsize=(10, 7))\n",
    "plt.title(\"Distribution of Daily Returns of Exxon Mobil\")\n",
    "plt.show()"
   ]
  },
  {
   "cell_type": "code",
   "execution_count": null,
   "metadata": {},
   "outputs": [],
   "source": [
    "fig, axes = plt.subplots(1, 2, figsize=(12, 5))\n",
    "plot_acf(XOM_prices[\"Returns\"].dropna(), lags=20, ax=axes[0])\n",
    "axes[0].set_title(\"Autocorrelation Function (ACF)\")\n",
    "\n",
    "plot_pacf(XOM_prices[\"Returns\"], ax=axes[1], lags=40)\n",
    "axes[1].set_title(\"Partial Autocorrelation Function (PACF)\")\n",
    "\n",
    "plt.show()"
   ]
  },
  {
   "cell_type": "code",
   "execution_count": null,
   "metadata": {},
   "outputs": [],
   "source": [
    "adf_result = adfuller(XOM_prices[\"Returns\"].dropna())\n",
    "\n",
    "print(\"ADF Statistic:\", adf_result[0])\n",
    "print(\"p-value:\", adf_result[1])\n",
    "print(\"Critical Values:\", adf_result[4])"
   ]
  },
  {
   "cell_type": "code",
   "execution_count": null,
   "metadata": {},
   "outputs": [],
   "source": [
    "# Extracting column for Exxon Mobil\n",
    "XOM_balance_sheet.info()\n",
    "print(\"\\n\" + \"=\"*50 + \"\\n\")  # Separator for readability\n",
    "XOM_cash_flow.info()\n",
    "print(\"\\n\" + \"=\"*50 + \"\\n\")  \n",
    "XOM_income_statement.info()"
   ]
  },
  {
   "cell_type": "markdown",
   "metadata": {},
   "source": [
    "### Transposing Data for Exon Mobil"
   ]
  },
  {
   "cell_type": "code",
   "execution_count": null,
   "metadata": {},
   "outputs": [],
   "source": [
    "XOM_balance_sheet_transposed = XOM_balance_sheet.transpose()\n",
    "XOM_cash_flow_transposed = XOM_cash_flow.transpose()\n",
    "XOM_income_statement_transposed = XOM_income_statement.transpose()"
   ]
  },
  {
   "cell_type": "code",
   "execution_count": null,
   "metadata": {},
   "outputs": [],
   "source": [
    "# Display transposed columns\n",
    "XOM_balance_sheet_transposed.columns = XOM_balance_sheet_transposed.iloc[0]\n",
    "XOM_income_statement_transposed.columns = XOM_income_statement_transposed.iloc[0]\n",
    "XOM_cash_flow_transposed.columns = XOM_cash_flow_transposed.iloc[0]\n",
    "\n",
    "# Get specific column\n",
    "#print(XOM_balance_sheet_transposed['Leases'])\n",
    "#print(XOM_income_statement_transposed['Total Revenue'])\n",
    "#print(XOM_cash_flow_transposed['Free Cash Flow'])\n",
    "#XOM_income_statement_transposed.head()"
   ]
  },
  {
   "cell_type": "markdown",
   "metadata": {},
   "source": [
    "### Missing value analysis for Exon Mobil"
   ]
  },
  {
   "cell_type": "code",
   "execution_count": null,
   "metadata": {},
   "outputs": [],
   "source": [
    "# calculating the percentage of missing values in each column\n",
    "missing_values_balance_sheet = XOM_balance_sheet_transposed.isnull().sum() / len(XOM_balance_sheet_transposed)\n",
    "missing_values_cash_flow = XOM_cash_flow_transposed.isnull().sum() / len(XOM_cash_flow_transposed)\n",
    "missing_values_income_statement = XOM_income_statement_transposed.isnull().sum() / len(XOM_income_statement_transposed)\n",
    "\n",
    "missing_values_df = pd.DataFrame({\n",
    "    \"Balance Sheet\": missing_values_balance_sheet,\n",
    "    \"Cash Flow\": missing_values_cash_flow,\n",
    "    \"Income Statement\": missing_values_income_statement\n",
    "})\n",
    "\n",
    "# Display only columns with missing values\n",
    "missing_values_df = missing_values_df[missing_values_df.sum(axis=1) > 0]\n",
    "\n",
    "# Print the missing values\n",
    "print(\"Missing Values Percentage:\")\n",
    "print(missing_values_df.round(2))\n"
   ]
  },
  {
   "cell_type": "markdown",
   "metadata": {},
   "source": [
    "### Trend analysis for Exxon Mobil"
   ]
  },
  {
   "cell_type": "code",
   "execution_count": null,
   "metadata": {},
   "outputs": [],
   "source": [
    "# Trend analysis for Exxon Mobil\n",
    "revenue = pd.to_numeric(XOM_income_statement_transposed['Total Revenue'], errors='coerce')\n",
    "net_income = pd.to_numeric(XOM_income_statement_transposed['Net Income'], errors='coerce')\n",
    "total_assets = pd.to_numeric(XOM_balance_sheet_transposed['Total Assets'], errors='coerce')\n",
    "total_liabilities = pd.to_numeric(XOM_balance_sheet_transposed['Total Liabilities Net Minority Interest'], errors='coerce')\n",
    "cash_flow_from_operations = pd.to_numeric(XOM_cash_flow_transposed['Operating Cash Flow'], errors='coerce')\n",
    "\n",
    "revenue.plot(label=\"Total Revenue\")\n",
    "net_income.plot(label=\"Net Income\")\n",
    "total_assets.plot(label=\"Total Assets\")\n",
    "total_liabilities.plot(label='Total Liabilities Net Minority Interest') \n",
    "cash_flow_from_operations.plot(label= \"Operating Cashflow\")\n",
    "plt.title(\"Trend Analysis for XOM\")\n",
    "plt.legend()\n",
    "plt.show()\n",
    "\n"
   ]
  },
  {
   "cell_type": "markdown",
   "metadata": {},
   "source": [
    "### Ratio analysis for Exxon Mobil"
   ]
  },
  {
   "cell_type": "code",
   "execution_count": null,
   "metadata": {},
   "outputs": [],
   "source": [
    "# Profit margins for Exxon Mobil\n",
    "gross_profit_margin = (pd.to_numeric(XOM_income_statement_transposed['Total Revenue'], errors='coerce') - pd.to_numeric(XOM_income_statement_transposed['Cost Of Revenue'], errors='coerce')) / pd.to_numeric(XOM_income_statement_transposed['Total Revenue'], errors='coerce')\n",
    "operating_profit_margin = (pd.to_numeric(XOM_income_statement_transposed[\"Operating Income\"], errors='coerce') / pd.to_numeric(XOM_income_statement_transposed[\"Total Revenue\"], errors='coerce'))\n",
    "net_profit_margin = (pd.to_numeric(XOM_income_statement_transposed[\"Net Income\"], errors='coerce') / pd.to_numeric(XOM_income_statement_transposed[\"Total Revenue\"], errors='coerce'))\n",
    "\n",
    "# Liquidity Ratios for Exxon Mobil\n",
    "current_ratio = (pd.to_numeric(XOM_balance_sheet_transposed[\"Current Assets\"], errors='coerce') / pd.to_numeric(XOM_balance_sheet_transposed[\"Current Liabilities\"], errors='coerce'))\n",
    "quick_ratio = (pd.to_numeric(XOM_balance_sheet_transposed[\"Current Assets\"], errors='coerce') - pd.to_numeric(XOM_balance_sheet_transposed[\"Inventory\"], errors='coerce')) / pd.to_numeric(XOM_balance_sheet_transposed[\"Current Liabilities\"], errors='coerce')\n",
    "\n",
    "# Solvency Ratios for Exxon Mobil\n",
    "debt_to_equity = (pd.to_numeric(XOM_balance_sheet_transposed[\"Total Debt\"], errors='coerce') / pd.to_numeric(XOM_balance_sheet_transposed[\"Total Equity Gross Minority Interest\"], errors='coerce'))\n",
    "interest_coverage_ratio = (pd.to_numeric(XOM_income_statement_transposed[\"EBIT\"], errors='coerce') / pd.to_numeric(XOM_income_statement_transposed[\"Interest Expense\"], errors='coerce'))\n",
    "\n",
    "# Efficiency Ratios for Exxon Mobil\n",
    "asset_turnover_ratio = (pd.to_numeric(XOM_income_statement_transposed[\"Total Revenue\"], errors='coerce') / pd.to_numeric(XOM_balance_sheet_transposed[\"Total Assets\"], errors='coerce'))\n",
    "inventory_turnover_ratio =(pd.to_numeric(XOM_income_statement_transposed[\"Cost Of Revenue\"], errors='coerce') / pd.to_numeric(XOM_balance_sheet_transposed[\"Inventory\"], errors='coerce'))\n",
    "\n",
    "# Valuation Ratios for Exxon Mobil, needs to be calculated\n",
    "#XOM_price_to_earnings = (pd.to_numeric(XOM_prices[\"Close\"], errors='coerce') / pd.to_numeric(XOM_prices[\"Basic EPS\"], errors='coerce'))\n",
    "#XOM_price_to_book = (pd.to_numeric(XOM_prices[\"Close\"], errors='coerce') / pd.to_numeric(XOM_prices[\"Book Value Per Share\"], errors='coerce'))\n",
    "#fig, axes = plt.subplots(2, 2, figsize=(12, 8))\n",
    "#axes[0, 0].plot(XOM_prices[\"Price\"], XOM_price_to_earnings)\n",
    "\n",
    "print(\"printing profit margins\\n\",gross_profit_margin, operating_profit_margin, net_profit_margin)\n",
    "print(\"printing liquidity margins\\n\",current_ratio, quick_ratio)\n",
    "print(\"printing solvency margins\\n\",debt_to_equity, interest_coverage_ratio)\n",
    "print(\"printing efficiency margins\\n\",asset_turnover_ratio, inventory_turnover_ratio)\n"
   ]
  }
 ],
 "metadata": {
  "kernelspec": {
   "display_name": ".venv",
   "language": "python",
   "name": "python3"
  },
  "language_info": {
   "codemirror_mode": {
    "name": "ipython",
    "version": 3
   },
   "file_extension": ".py",
   "mimetype": "text/x-python",
   "name": "python",
   "nbconvert_exporter": "python",
   "pygments_lexer": "ipython3",
   "version": "3.12.8"
  }
 },
 "nbformat": 4,
 "nbformat_minor": 2
}
