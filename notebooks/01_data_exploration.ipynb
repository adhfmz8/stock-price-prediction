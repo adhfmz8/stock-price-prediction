{
 "cells": [
  {
   "cell_type": "markdown",
   "metadata": {},
   "source": [
    "Put all imports up here"
   ]
  },
  {
   "cell_type": "code",
   "execution_count": null,
   "metadata": {},
   "outputs": [],
   "source": [
    "import pandas as pd\n",
    "import matplotlib.pyplot as plt\n",
    "import seaborn as sns\n",
    "from statsmodels.graphics.tsaplots import plot_acf, plot_pacf\n",
    "from statsmodels.tsa.stattools import adfuller"
   ]
  },
  {
   "cell_type": "markdown",
   "metadata": {},
   "source": [
    "# Data Exploration"
   ]
  },
  {
   "cell_type": "markdown",
   "metadata": {},
   "source": [
    "## The Purpose of this notebook\n",
    "\n",
    "The purpose of this notebooks is to explore the various datasets given from the yahoo finance API. Here are the stock tickers being analyzed: AAPL, MSFT, NVDA, JNJ, PFE, JPM, GS, XOM, CVX, TSLA, AMZN, NEE, CAT, BA\n",
    "\n",
    "Here are the datasets for each being analyzed: prices from 2020 Jan. 1st - 2025 Jan. 1st, balance sheet, cash flow, and income statement."
   ]
  },
  {
   "cell_type": "markdown",
   "metadata": {},
   "source": [
    "### Lets load the notebooks"
   ]
  },
  {
   "cell_type": "code",
   "execution_count": null,
   "metadata": {},
   "outputs": [],
   "source": [
    "AAPL_prices = pd.read_csv(\"../data/raw/yf_prices/AAPL.csv\")\n",
    "AAPL_balance_sheet = pd.read_csv(\"../data/raw/yf_fundimentals/AAPL/balance_sheet.csv\")\n",
    "AAPL_cash_flow = pd.read_csv(\"../data/raw/yf_fundimentals/AAPL/cash_flow.csv\")\n",
    "AAPL_income_statement = pd.read_csv(\n",
    "    \"../data/raw/yf_fundimentals/AAPL/income_statement.csv\"\n",
    ")\n",
    "AMZN_prices = pd.read_csv(\"../data/raw/yf_prices/AMZN.csv\")\n",
    "AMZN_balance_sheet = pd.read_csv(\"../data/raw/yf_fundimentals/AMZN/balance_sheet.csv\")\n",
    "AMZN_cash_flow = pd.read_csv(\"../data/raw/yf_fundimentals/AMZN/cash_flow.csv\")\n",
    "AMZN_income_statement = pd.read_csv(\n",
    "    \"../data/raw/yf_fundimentals/AMZN/income_statement.csv\"\n",
    ")\n",
    "BA_prices = pd.read_csv(\"../data/raw/yf_prices/BA.csv\")\n",
    "BA_balance_sheet = pd.read_csv(\"../data/raw/yf_fundimentals/BA/balance_sheet.csv\")\n",
    "BA_cash_flow = pd.read_csv(\"../data/raw/yf_fundimentals/BA/cash_flow.csv\")\n",
    "BA_income_statement = pd.read_csv(\"../data/raw/yf_fundimentals/BA/income_statement.csv\")\n",
    "CAT_prices = pd.read_csv(\"../data/raw/yf_prices/CAT.csv\")\n",
    "CAT_balance_sheet = pd.read_csv(\"../data/raw/yf_fundimentals/CAT/balance_sheet.csv\")\n",
    "CAT_cash_flow = pd.read_csv(\"../data/raw/yf_fundimentals/CAT/cash_flow.csv\")\n",
    "CAT_income_statement = pd.read_csv(\n",
    "    \"../data/raw/yf_fundimentals/CAT/income_statement.csv\"\n",
    ")\n",
    "CVX_prices = pd.read_csv(\"../data/raw/yf_prices/CVX.csv\")\n",
    "CVX_balance_sheet = pd.read_csv(\"../data/raw/yf_fundimentals/CVX/balance_sheet.csv\")\n",
    "CVX_cash_flow = pd.read_csv(\"../data/raw/yf_fundimentals/CVX/cash_flow.csv\")\n",
    "CVX_income_statement = pd.read_csv(\n",
    "    \"../data/raw/yf_fundimentals/CVX/income_statement.csv\"\n",
    ")\n",
    "GS_prices = pd.read_csv(\"../data/raw/yf_prices/GS.csv\")\n",
    "GS_balance_sheet = pd.read_csv(\"../data/raw/yf_fundimentals/GS/balance_sheet.csv\")\n",
    "GS_cash_flow = pd.read_csv(\"../data/raw/yf_fundimentals/GS/cash_flow.csv\")\n",
    "GS_income_statement = pd.read_csv(\"../data/raw/yf_fundimentals/GS/income_statement.csv\")\n",
    "JNJ_prices = pd.read_csv(\"../data/raw/yf_prices/JNJ.csv\")\n",
    "JNJ_balance_sheet = pd.read_csv(\"../data/raw/yf_fundimentals/JNJ/balance_sheet.csv\")\n",
    "JNJ_cash_flow = pd.read_csv(\"../data/raw/yf_fundimentals/JNJ/cash_flow.csv\")\n",
    "JNJ_income_statement = pd.read_csv(\n",
    "    \"../data/raw/yf_fundimentals/JNJ/income_statement.csv\"\n",
    ")\n",
    "JPM_prices = pd.read_csv(\"../data/raw/yf_prices/JPM.csv\")\n",
    "JPM_balance_sheet = pd.read_csv(\"../data/raw/yf_fundimentals/JPM/balance_sheet.csv\")\n",
    "JPM_cash_flow = pd.read_csv(\"../data/raw/yf_fundimentals/JPM/cash_flow.csv\")\n",
    "JPM_income_statement = pd.read_csv(\n",
    "    \"../data/raw/yf_fundimentals/JPM/income_statement.csv\"\n",
    ")\n",
    "MSFT_prices = pd.read_csv(\"../data/raw/yf_prices/MSFT.csv\")\n",
    "MSFT_balance_sheet = pd.read_csv(\"../data/raw/yf_fundimentals/MSFT/balance_sheet.csv\")\n",
    "MSFT_cash_flow = pd.read_csv(\"../data/raw/yf_fundimentals/MSFT/cash_flow.csv\")\n",
    "MSFT_income_statement = pd.read_csv(\n",
    "    \"../data/raw/yf_fundimentals/MSFT/income_statement.csv\"\n",
    ")\n",
    "NEE_prices = pd.read_csv(\"../data/raw/yf_prices/NEE.csv\")\n",
    "NEE_balance_sheet = pd.read_csv(\"../data/raw/yf_fundimentals/NEE/balance_sheet.csv\")\n",
    "NEE_cash_flow = pd.read_csv(\"../data/raw/yf_fundimentals/NEE/cash_flow.csv\")\n",
    "NEE_income_statement = pd.read_csv(\n",
    "    \"../data/raw/yf_fundimentals/NEE/income_statement.csv\"\n",
    ")\n",
    "NVDA_prices = pd.read_csv(\"../data/raw/yf_prices/NVDA.csv\")\n",
    "NVDA_balance_sheet = pd.read_csv(\"../data/raw/yf_fundimentals/NVDA/balance_sheet.csv\")\n",
    "NVDA_cash_flow = pd.read_csv(\"../data/raw/yf_fundimentals/NVDA/cash_flow.csv\")\n",
    "NVDA_income_statement = pd.read_csv(\n",
    "    \"../data/raw/yf_fundimentals/NVDA/income_statement.csv\"\n",
    ")\n",
    "PFE_prices = pd.read_csv(\"../data/raw/yf_prices/PFE.csv\")\n",
    "PFE_balance_sheet = pd.read_csv(\"../data/raw/yf_fundimentals/PFE/balance_sheet.csv\")\n",
    "PFE_cash_flow = pd.read_csv(\"../data/raw/yf_fundimentals/PFE/cash_flow.csv\")\n",
    "PFE_income_statement = pd.read_csv(\n",
    "    \"../data/raw/yf_fundimentals/PFE/income_statement.csv\"\n",
    ")\n",
    "TSLA_prices = pd.read_csv(\"../data/raw/yf_prices/TSLA.csv\")\n",
    "TSLA_balance_sheet = pd.read_csv(\"../data/raw/yf_fundimentals/TSLA/balance_sheet.csv\")\n",
    "TSLA_cash_flow = pd.read_csv(\"../data/raw/yf_fundimentals/TSLA/cash_flow.csv\")\n",
    "TSLA_income_statement = pd.read_csv(\n",
    "    \"../data/raw/yf_fundimentals/TSLA/income_statement.csv\"\n",
    ")\n",
    "XOM_prices = pd.read_csv(\"../data/raw/yf_prices/XOM.csv\")\n",
    "XOM_balance_sheet = pd.read_csv(\"../data/raw/yf_fundimentals/XOM/balance_sheet.csv\")\n",
    "XOM_cash_flow = pd.read_csv(\"../data/raw/yf_fundimentals/XOM/cash_flow.csv\")\n",
    "XOM_income_statement = pd.read_csv(\n",
    "    \"../data/raw/yf_fundimentals/XOM/income_statement.csv\"\n",
    ")"
   ]
  },
  {
   "cell_type": "markdown",
   "metadata": {},
   "source": [
    "Now lets take a look at the shape of the data"
   ]
  },
  {
   "cell_type": "markdown",
   "metadata": {},
   "source": [
    "### Prices DF"
   ]
  },
  {
   "cell_type": "code",
   "execution_count": null,
   "metadata": {},
   "outputs": [],
   "source": [
    "AAPL_prices.head()"
   ]
  },
  {
   "cell_type": "markdown",
   "metadata": {},
   "source": [
    "The Prices df has 2 useless rows, lets get rid of them, and make the columns numeric for analysis"
   ]
  },
  {
   "cell_type": "code",
   "execution_count": null,
   "metadata": {},
   "outputs": [],
   "source": [
    "AAPL_prices[\"Close\"] = pd.to_numeric(AAPL_prices[\"Close\"], errors=\"coerce\")\n",
    "AAPL_prices = AAPL_prices.dropna(subset=[\"Close\"]).reset_index(drop=True)\n",
    "AAPL_prices[\"High\"] = pd.to_numeric(AAPL_prices[\"High\"], errors=\"coerce\")\n",
    "AAPL_prices[\"Low\"] = pd.to_numeric(AAPL_prices[\"Low\"], errors=\"coerce\")\n",
    "AAPL_prices[\"Open\"] = pd.to_numeric(AAPL_prices[\"Open\"], errors=\"coerce\")\n",
    "AAPL_prices[\"Volume\"] = pd.to_numeric(AAPL_prices[\"Volume\"], errors=\"coerce\")"
   ]
  },
  {
   "cell_type": "code",
   "execution_count": null,
   "metadata": {},
   "outputs": [],
   "source": [
    "AAPL_prices.head()"
   ]
  },
  {
   "cell_type": "markdown",
   "metadata": {},
   "source": [
    "Much better."
   ]
  },
  {
   "cell_type": "markdown",
   "metadata": {},
   "source": [
    "### Balance Sheet DF"
   ]
  },
  {
   "cell_type": "code",
   "execution_count": null,
   "metadata": {},
   "outputs": [],
   "source": [
    "AAPL_balance_sheet.head()"
   ]
  },
  {
   "cell_type": "markdown",
   "metadata": {},
   "source": [
    "### Cash Flow DF"
   ]
  },
  {
   "cell_type": "code",
   "execution_count": null,
   "metadata": {},
   "outputs": [],
   "source": [
    "AAPL_cash_flow.head()"
   ]
  },
  {
   "cell_type": "markdown",
   "metadata": {},
   "source": [
    "### Income Statement DF"
   ]
  },
  {
   "cell_type": "code",
   "execution_count": null,
   "metadata": {},
   "outputs": [],
   "source": [
    "AAPL_income_statement.head()"
   ]
  },
  {
   "cell_type": "markdown",
   "metadata": {},
   "source": [
    "## Stock Price Data Exploration"
   ]
  },
  {
   "cell_type": "markdown",
   "metadata": {},
   "source": [
    "### Apple"
   ]
  },
  {
   "cell_type": "code",
   "execution_count": null,
   "metadata": {},
   "outputs": [],
   "source": [
    "AAPL_prices.info()"
   ]
  },
  {
   "cell_type": "code",
   "execution_count": null,
   "metadata": {},
   "outputs": [],
   "source": [
    "AAPL_prices.describe()"
   ]
  },
  {
   "cell_type": "code",
   "execution_count": null,
   "metadata": {},
   "outputs": [],
   "source": [
    "series = pd.Series(AAPL_prices[\"Close\"])\n",
    "plt.boxplot(series)"
   ]
  },
  {
   "cell_type": "markdown",
   "metadata": {},
   "source": [
    "Lets look for null values"
   ]
  },
  {
   "cell_type": "code",
   "execution_count": null,
   "metadata": {},
   "outputs": [],
   "source": [
    "AAPL_prices.isnull().sum()"
   ]
  },
  {
   "cell_type": "markdown",
   "metadata": {},
   "source": [
    "Set the prices to datetime"
   ]
  },
  {
   "cell_type": "code",
   "execution_count": null,
   "metadata": {},
   "outputs": [],
   "source": [
    "AAPL_prices[\"Price\"] = pd.to_datetime(AAPL_prices[\"Price\"])"
   ]
  },
  {
   "cell_type": "markdown",
   "metadata": {},
   "source": [
    "Check if dates in correct order -> should return True"
   ]
  },
  {
   "cell_type": "code",
   "execution_count": null,
   "metadata": {},
   "outputs": [],
   "source": [
    "print(AAPL_prices[\"Price\"].index.is_monotonic_increasing)"
   ]
  },
  {
   "cell_type": "code",
   "execution_count": null,
   "metadata": {},
   "outputs": [],
   "source": [
    "plt.plot(AAPL_prices[\"Price\"], AAPL_prices[\"Close\"])\n",
    "plt.xlabel(\"Date\")\n",
    "plt.ylabel(\"Closing Price of Apple\")"
   ]
  },
  {
   "cell_type": "code",
   "execution_count": null,
   "metadata": {},
   "outputs": [],
   "source": [
    "correlation_matrix = AAPL_prices.corr()\n",
    "sns.heatmap(correlation_matrix, annot=True)\n",
    "plt.title(\"Correlation of AAPL Prices to Volume\")\n",
    "plt.show()"
   ]
  },
  {
   "cell_type": "markdown",
   "metadata": {},
   "source": [
    "Notice that volume and price have a correlation of *-0.64*, this suggests a strong negative relationship."
   ]
  },
  {
   "cell_type": "markdown",
   "metadata": {},
   "source": [
    "Lets compute the 7 day SMA"
   ]
  },
  {
   "cell_type": "code",
   "execution_count": null,
   "metadata": {},
   "outputs": [],
   "source": [
    "AAPL_prices[\"Close\"] = pd.to_numeric(AAPL_prices[\"Close\"], errors=\"coerce\")\n",
    "AAPL_prices = AAPL_prices.dropna(subset=[\"Close\"]).reset_index(drop=True)\n",
    "\n",
    "AAPL_prices[\"close_7d_ma\"] = AAPL_prices[\"Close\"].rolling(window=7).mean()\n",
    "AAPL_prices[[\"Close\", \"close_7d_ma\"]].plot()\n",
    "plt.title(\"Closing Price of Apple with 7 Day SMA\")\n",
    "plt.show()"
   ]
  },
  {
   "cell_type": "markdown",
   "metadata": {},
   "source": [
    "Lets analyze the volatility"
   ]
  },
  {
   "cell_type": "code",
   "execution_count": null,
   "metadata": {},
   "outputs": [],
   "source": [
    "AAPL_prices[\"Returns\"] = AAPL_prices[\"Close\"].pct_change()\n",
    "AAPL_prices.hist(bins=50, figsize=(10, 7))\n",
    "plt.title(\"Distribution of Daily Returns of Apple\")\n",
    "plt.show()"
   ]
  },
  {
   "cell_type": "markdown",
   "metadata": {},
   "source": [
    "Notice the odd behavior of open and close, with many days returning much lower and much higher than normal, this suggests that the returns should be modeled with a fat tail distribution like Levy or students T."
   ]
  },
  {
   "cell_type": "code",
   "execution_count": null,
   "metadata": {},
   "outputs": [],
   "source": [
    "AAPL_prices[\"Volume\"].plot(kind=\"hist\", bins=50, figsize=(10, 5))\n",
    "plt.title(\"Trading Volume Distribution\")\n",
    "plt.show()"
   ]
  },
  {
   "cell_type": "markdown",
   "metadata": {},
   "source": [
    "Most trading days are low volume, as seen by the positive skew of the graph above"
   ]
  },
  {
   "cell_type": "code",
   "execution_count": null,
   "metadata": {},
   "outputs": [],
   "source": [
    "fig, axes = plt.subplots(1, 2, figsize=(12, 5))\n",
    "plot_acf(AAPL_prices[\"Returns\"].dropna(), lags=20, ax=axes[0])\n",
    "axes[0].set_title(\"Autocorrelation Function (ACF)\")\n",
    "\n",
    "plot_pacf(AAPL_prices[\"Returns\"], ax=axes[1], lags=40)\n",
    "axes[1].set_title(\"Partial Autocorrelation Function (PACF)\")\n",
    "\n",
    "plt.show()"
   ]
  },
  {
   "cell_type": "markdown",
   "metadata": {},
   "source": [
    "The ACF chart shows that past values have little correlation with future returns, the PACF chart says the same, but over a time lag. This should be somewhat expected, ARIMA is not a good choice, possible white noise process, daily returns seem to be independant."
   ]
  },
  {
   "cell_type": "code",
   "execution_count": null,
   "metadata": {},
   "outputs": [],
   "source": [
    "adf_result = adfuller(AAPL_prices[\"Returns\"].dropna())\n",
    "\n",
    "print(\"ADF Statistic:\", adf_result[0])\n",
    "print(\"p-value:\", adf_result[1])\n",
    "print(\"Critical Values:\", adf_result[4])"
   ]
  },
  {
   "cell_type": "markdown",
   "metadata": {},
   "source": [
    "The ADF results suggest that Apple stock is stationary, there is no trend that changes over time."
   ]
  }
 ],
 "metadata": {
  "kernelspec": {
   "display_name": ".venv",
   "language": "python",
   "name": "python3"
  },
  "language_info": {
   "codemirror_mode": {
    "name": "ipython",
    "version": 3
   },
   "file_extension": ".py",
   "mimetype": "text/x-python",
   "name": "python",
   "nbconvert_exporter": "python",
   "pygments_lexer": "ipython3",
   "version": "3.12.0"
  }
 },
 "nbformat": 4,
 "nbformat_minor": 2
}
