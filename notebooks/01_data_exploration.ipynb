{
 "cells": [
  {
   "cell_type": "markdown",
   "metadata": {},
   "source": [
    "Put all imports up here"
   ]
  },
  {
   "cell_type": "code",
   "execution_count": null,
   "metadata": {},
   "outputs": [],
   "source": [
    "import pandas as pd\n",
    "import matplotlib.pyplot as plt\n",
    "import seaborn as sns\n",
    "from statsmodels.graphics.tsaplots import plot_acf, plot_pacf\n",
    "from statsmodels.tsa.stattools import adfuller"
   ]
  },
  {
   "cell_type": "markdown",
   "metadata": {},
   "source": [
    "# Data Exploration"
   ]
  },
  {
   "cell_type": "markdown",
   "metadata": {},
   "source": [
    "## The Purpose of this notebook\n",
    "\n",
    "The purpose of this notebooks is to explore the various datasets given from the yahoo finance API. Here are the stock tickers being analyzed: AAPL, MSFT, NVDA, JNJ, PFE, JPM, GS, XOM, CVX, TSLA, AMZN, NEE, CAT, BA\n",
    "\n",
    "Here are the datasets for each being analyzed: prices from 2020 Jan. 1st - 2025 Jan. 1st, balance sheet, cash flow, and income statement."
   ]
  },
  {
   "cell_type": "markdown",
   "metadata": {},
   "source": [
    "### Lets load the notebooks"
   ]
  },
  {
   "cell_type": "code",
   "execution_count": null,
   "metadata": {},
   "outputs": [],
   "source": [
    "AAPL_prices = pd.read_csv(\"../data/raw/yf_prices/AAPL.csv\")\n",
    "AAPL_balance_sheet = pd.read_csv(\"../data/raw/yf_fundimentals/AAPL/balance_sheet.csv\")\n",
    "AAPL_cash_flow = pd.read_csv(\"../data/raw/yf_fundimentals/AAPL/cash_flow.csv\")\n",
    "AAPL_income_statement = pd.read_csv(\n",
    "    \"../data/raw/yf_fundimentals/AAPL/income_statement.csv\"\n",
    ")\n",
    "AMZN_prices = pd.read_csv(\"../data/raw/yf_prices/AMZN.csv\")\n",
    "AMZN_balance_sheet = pd.read_csv(\"../data/raw/yf_fundimentals/AMZN/balance_sheet.csv\")\n",
    "AMZN_cash_flow = pd.read_csv(\"../data/raw/yf_fundimentals/AMZN/cash_flow.csv\")\n",
    "AMZN_income_statement = pd.read_csv(\n",
    "    \"../data/raw/yf_fundimentals/AMZN/income_statement.csv\"\n",
    ")\n",
    "BA_prices = pd.read_csv(\"../data/raw/yf_prices/BA.csv\")\n",
    "BA_balance_sheet = pd.read_csv(\"../data/raw/yf_fundimentals/BA/balance_sheet.csv\")\n",
    "BA_cash_flow = pd.read_csv(\"../data/raw/yf_fundimentals/BA/cash_flow.csv\")\n",
    "BA_income_statement = pd.read_csv(\"../data/raw/yf_fundimentals/BA/income_statement.csv\")\n",
    "CAT_prices = pd.read_csv(\"../data/raw/yf_prices/CAT.csv\")\n",
    "CAT_balance_sheet = pd.read_csv(\"../data/raw/yf_fundimentals/CAT/balance_sheet.csv\")\n",
    "CAT_cash_flow = pd.read_csv(\"../data/raw/yf_fundimentals/CAT/cash_flow.csv\")\n",
    "CAT_income_statement = pd.read_csv(\n",
    "    \"../data/raw/yf_fundimentals/CAT/income_statement.csv\"\n",
    ")\n",
    "CVX_prices = pd.read_csv(\"../data/raw/yf_prices/CVX.csv\")\n",
    "CVX_balance_sheet = pd.read_csv(\"../data/raw/yf_fundimentals/CVX/balance_sheet.csv\")\n",
    "CVX_cash_flow = pd.read_csv(\"../data/raw/yf_fundimentals/CVX/cash_flow.csv\")\n",
    "CVX_income_statement = pd.read_csv(\n",
    "    \"../data/raw/yf_fundimentals/CVX/income_statement.csv\"\n",
    ")\n",
    "GS_prices = pd.read_csv(\"../data/raw/yf_prices/GS.csv\")\n",
    "GS_balance_sheet = pd.read_csv(\"../data/raw/yf_fundimentals/GS/balance_sheet.csv\")\n",
    "GS_cash_flow = pd.read_csv(\"../data/raw/yf_fundimentals/GS/cash_flow.csv\")\n",
    "GS_income_statement = pd.read_csv(\"../data/raw/yf_fundimentals/GS/income_statement.csv\")\n",
    "JNJ_prices = pd.read_csv(\"../data/raw/yf_prices/JNJ.csv\")\n",
    "JNJ_balance_sheet = pd.read_csv(\"../data/raw/yf_fundimentals/JNJ/balance_sheet.csv\")\n",
    "JNJ_cash_flow = pd.read_csv(\"../data/raw/yf_fundimentals/JNJ/cash_flow.csv\")\n",
    "JNJ_income_statement = pd.read_csv(\n",
    "    \"../data/raw/yf_fundimentals/JNJ/income_statement.csv\"\n",
    ")\n",
    "JPM_prices = pd.read_csv(\"../data/raw/yf_prices/JPM.csv\")\n",
    "JPM_balance_sheet = pd.read_csv(\"../data/raw/yf_fundimentals/JPM/balance_sheet.csv\")\n",
    "JPM_cash_flow = pd.read_csv(\"../data/raw/yf_fundimentals/JPM/cash_flow.csv\")\n",
    "JPM_income_statement = pd.read_csv(\n",
    "    \"../data/raw/yf_fundimentals/JPM/income_statement.csv\"\n",
    ")\n",
    "MSFT_prices = pd.read_csv(\"../data/raw/yf_prices/MSFT.csv\")\n",
    "MSFT_balance_sheet = pd.read_csv(\"../data/raw/yf_fundimentals/MSFT/balance_sheet.csv\")\n",
    "MSFT_cash_flow = pd.read_csv(\"../data/raw/yf_fundimentals/MSFT/cash_flow.csv\")\n",
    "MSFT_income_statement = pd.read_csv(\n",
    "    \"../data/raw/yf_fundimentals/MSFT/income_statement.csv\"\n",
    ")\n",
    "NEE_prices = pd.read_csv(\"../data/raw/yf_prices/NEE.csv\")\n",
    "NEE_balance_sheet = pd.read_csv(\"../data/raw/yf_fundimentals/NEE/balance_sheet.csv\")\n",
    "NEE_cash_flow = pd.read_csv(\"../data/raw/yf_fundimentals/NEE/cash_flow.csv\")\n",
    "NEE_income_statement = pd.read_csv(\n",
    "    \"../data/raw/yf_fundimentals/NEE/income_statement.csv\"\n",
    ")\n",
    "NVDA_prices = pd.read_csv(\"../data/raw/yf_prices/NVDA.csv\")\n",
    "NVDA_balance_sheet = pd.read_csv(\"../data/raw/yf_fundimentals/NVDA/balance_sheet.csv\")\n",
    "NVDA_cash_flow = pd.read_csv(\"../data/raw/yf_fundimentals/NVDA/cash_flow.csv\")\n",
    "NVDA_income_statement = pd.read_csv(\n",
    "    \"../data/raw/yf_fundimentals/NVDA/income_statement.csv\"\n",
    ")\n",
    "PFE_prices = pd.read_csv(\"../data/raw/yf_prices/PFE.csv\")\n",
    "PFE_balance_sheet = pd.read_csv(\"../data/raw/yf_fundimentals/PFE/balance_sheet.csv\")\n",
    "PFE_cash_flow = pd.read_csv(\"../data/raw/yf_fundimentals/PFE/cash_flow.csv\")\n",
    "PFE_income_statement = pd.read_csv(\n",
    "    \"../data/raw/yf_fundimentals/PFE/income_statement.csv\"\n",
    ")\n",
    "TSLA_prices = pd.read_csv(\"../data/raw/yf_prices/TSLA.csv\")\n",
    "TSLA_balance_sheet = pd.read_csv(\"../data/raw/yf_fundimentals/TSLA/balance_sheet.csv\")\n",
    "TSLA_cash_flow = pd.read_csv(\"../data/raw/yf_fundimentals/TSLA/cash_flow.csv\")\n",
    "TSLA_income_statement = pd.read_csv(\n",
    "    \"../data/raw/yf_fundimentals/TSLA/income_statement.csv\"\n",
    ")\n",
    "XOM_prices = pd.read_csv(\"../data/raw/yf_prices/XOM.csv\")\n",
    "XOM_balance_sheet = pd.read_csv(\"../data/raw/yf_fundimentals/XOM/balance_sheet.csv\")\n",
    "XOM_cash_flow = pd.read_csv(\"../data/raw/yf_fundimentals/XOM/cash_flow.csv\")\n",
    "XOM_income_statement = pd.read_csv(\n",
    "    \"../data/raw/yf_fundimentals/XOM/income_statement.csv\"\n",
    ")"
   ]
  },
  {
   "cell_type": "markdown",
   "metadata": {},
   "source": [
    "Now lets take a look at the shape of the data"
   ]
  },
  {
   "cell_type": "markdown",
   "metadata": {},
   "source": [
    "### Prices DF"
   ]
  },
  {
   "cell_type": "code",
   "execution_count": null,
   "metadata": {},
   "outputs": [],
   "source": [
    "AAPL_prices.head()"
   ]
  },
  {
   "cell_type": "markdown",
   "metadata": {},
   "source": [
    "The Prices df has 2 useless rows, lets get rid of them, and make the columns numeric for analysis"
   ]
  },
  {
   "cell_type": "code",
   "execution_count": null,
   "metadata": {},
   "outputs": [],
   "source": [
    "AAPL_prices[\"Close\"] = pd.to_numeric(AAPL_prices[\"Close\"], errors=\"coerce\")\n",
    "AAPL_prices = AAPL_prices.dropna(subset=[\"Close\"]).reset_index(drop=True)\n",
    "AAPL_prices[\"High\"] = pd.to_numeric(AAPL_prices[\"High\"], errors=\"coerce\")\n",
    "AAPL_prices[\"Low\"] = pd.to_numeric(AAPL_prices[\"Low\"], errors=\"coerce\")\n",
    "AAPL_prices[\"Open\"] = pd.to_numeric(AAPL_prices[\"Open\"], errors=\"coerce\")\n",
    "AAPL_prices[\"Volume\"] = pd.to_numeric(AAPL_prices[\"Volume\"], errors=\"coerce\")"
   ]
  },
  {
   "cell_type": "code",
   "execution_count": null,
   "metadata": {},
   "outputs": [],
   "source": [
    "AAPL_prices.head()"
   ]
  },
  {
   "cell_type": "markdown",
   "metadata": {},
   "source": [
    "Much better."
   ]
  },
  {
   "cell_type": "markdown",
   "metadata": {},
   "source": [
    "### Balance Sheet DF"
   ]
  },
  {
   "cell_type": "code",
   "execution_count": null,
   "metadata": {},
   "outputs": [],
   "source": [
    "AAPL_balance_sheet.head()"
   ]
  },
  {
   "cell_type": "markdown",
   "metadata": {},
   "source": [
    "### Cash Flow DF"
   ]
  },
  {
   "cell_type": "code",
   "execution_count": null,
   "metadata": {},
   "outputs": [],
   "source": [
    "AAPL_cash_flow.head()"
   ]
  },
  {
   "cell_type": "markdown",
   "metadata": {},
   "source": [
    "### Income Statement DF"
   ]
  },
  {
   "cell_type": "code",
   "execution_count": null,
   "metadata": {},
   "outputs": [],
   "source": [
    "AAPL_income_statement.head()"
   ]
  },
  {
   "cell_type": "markdown",
   "metadata": {},
   "source": [
    "## Stock Price Data Exploration"
   ]
  },
  {
   "cell_type": "markdown",
   "metadata": {},
   "source": [
    "### Apple"
   ]
  },
  {
   "cell_type": "code",
   "execution_count": null,
   "metadata": {},
   "outputs": [],
   "source": [
    "AAPL_prices.info()"
   ]
  },
  {
   "cell_type": "code",
   "execution_count": null,
   "metadata": {},
   "outputs": [],
   "source": [
    "AAPL_prices.describe()"
   ]
  },
  {
   "cell_type": "code",
   "execution_count": null,
   "metadata": {},
   "outputs": [],
   "source": [
    "series = pd.Series(AAPL_prices[\"Close\"])\n",
    "plt.boxplot(series)"
   ]
  },
  {
   "cell_type": "markdown",
   "metadata": {},
   "source": [
    "Lets look for null values"
   ]
  },
  {
   "cell_type": "code",
   "execution_count": null,
   "metadata": {},
   "outputs": [],
   "source": [
    "AAPL_prices.isnull().sum()"
   ]
  },
  {
   "cell_type": "markdown",
   "metadata": {},
   "source": [
    "Set the prices to datetime"
   ]
  },
  {
   "cell_type": "code",
   "execution_count": null,
   "metadata": {},
   "outputs": [],
   "source": [
    "AAPL_prices[\"Price\"] = pd.to_datetime(AAPL_prices[\"Price\"])"
   ]
  },
  {
   "cell_type": "markdown",
   "metadata": {},
   "source": [
    "Check if dates in correct order -> should return True"
   ]
  },
  {
   "cell_type": "code",
   "execution_count": null,
   "metadata": {},
   "outputs": [],
   "source": [
    "print(AAPL_prices[\"Price\"].index.is_monotonic_increasing)"
   ]
  },
  {
   "cell_type": "code",
   "execution_count": null,
   "metadata": {},
   "outputs": [],
   "source": [
    "plt.plot(AAPL_prices[\"Price\"], AAPL_prices[\"Close\"])\n",
    "plt.xlabel(\"Date\")\n",
    "plt.ylabel(\"Closing Price of Apple\")"
   ]
  },
  {
   "cell_type": "code",
   "execution_count": null,
   "metadata": {},
   "outputs": [],
   "source": [
    "correlation_matrix = AAPL_prices.corr()\n",
    "sns.heatmap(correlation_matrix, annot=True)\n",
    "plt.title(\"Correlation of AAPL Prices to Volume\")\n",
    "plt.show()"
   ]
  },
  {
   "cell_type": "markdown",
   "metadata": {},
   "source": [
    "Notice that volume and price have a correlation of *-0.64*, this suggests a strong negative relationship."
   ]
  },
  {
   "cell_type": "markdown",
   "metadata": {},
   "source": [
    "Lets compute the 7 day SMA"
   ]
  },
  {
   "cell_type": "code",
   "execution_count": null,
   "metadata": {},
   "outputs": [],
   "source": [
    "AAPL_prices[\"Close\"] = pd.to_numeric(AAPL_prices[\"Close\"], errors=\"coerce\")\n",
    "AAPL_prices = AAPL_prices.dropna(subset=[\"Close\"]).reset_index(drop=True)\n",
    "\n",
    "AAPL_prices[\"close_7d_ma\"] = AAPL_prices[\"Close\"].rolling(window=7).mean()\n",
    "AAPL_prices[[\"Close\", \"close_7d_ma\"]].plot()\n",
    "plt.title(\"Closing Price of Apple with 7 Day SMA\")\n",
    "plt.show()"
   ]
  },
  {
   "cell_type": "markdown",
   "metadata": {},
   "source": [
    "Lets analyze the volatility"
   ]
  },
  {
   "cell_type": "code",
   "execution_count": null,
   "metadata": {},
   "outputs": [],
   "source": [
    "AAPL_prices[\"Returns\"] = AAPL_prices[\"Close\"].pct_change()\n",
    "AAPL_prices.hist(bins=50, figsize=(10, 7))\n",
    "plt.title(\"Distribution of Daily Returns of Apple\")\n",
    "plt.show()"
   ]
  },
  {
   "cell_type": "markdown",
   "metadata": {},
   "source": [
    "Notice the odd behavior of open and close, with many days returning much lower and much higher than normal, this suggests that the returns should be modeled with a fat tail distribution like Levy or students T."
   ]
  },
  {
   "cell_type": "code",
   "execution_count": null,
   "metadata": {},
   "outputs": [],
   "source": [
    "AAPL_prices[\"Volume\"].plot(kind=\"hist\", bins=50, figsize=(10, 5))\n",
    "plt.title(\"Trading Volume Distribution\")\n",
    "plt.show()"
   ]
  },
  {
   "cell_type": "markdown",
   "metadata": {},
   "source": [
    "Most trading days are low volume, as seen by the positive skew of the graph above"
   ]
  },
  {
   "cell_type": "code",
   "execution_count": null,
   "metadata": {},
   "outputs": [],
   "source": [
    "fig, axes = plt.subplots(1, 2, figsize=(12, 5))\n",
    "plot_acf(AAPL_prices[\"Returns\"].dropna(), lags=20, ax=axes[0])\n",
    "axes[0].set_title(\"Autocorrelation Function (ACF)\")\n",
    "\n",
    "plot_pacf(AAPL_prices[\"Returns\"], ax=axes[1], lags=40)\n",
    "axes[1].set_title(\"Partial Autocorrelation Function (PACF)\")\n",
    "\n",
    "plt.show()"
   ]
  },
  {
   "cell_type": "markdown",
   "metadata": {},
   "source": [
    "The ACF chart shows that past values have little correlation with future returns, the PACF chart says the same, but over a time lag. This should be somewhat expected, ARIMA is not a good choice, possible white noise process, daily returns seem to be independant."
   ]
  },
  {
   "cell_type": "code",
   "execution_count": null,
   "metadata": {},
   "outputs": [],
   "source": [
    "adf_result = adfuller(AAPL_prices[\"Returns\"].dropna())\n",
    "\n",
    "print(\"ADF Statistic:\", adf_result[0])\n",
    "print(\"p-value:\", adf_result[1])\n",
    "print(\"Critical Values:\", adf_result[4])"
   ]
  },
  {
   "cell_type": "markdown",
   "metadata": {},
   "source": [
    "The ADF results suggest that Apple stock is stationary, there is no trend that changes over time."
   ]
  },
  {
   "cell_type": "markdown",
   "metadata": {},
   "source": [
    "### Amazon"
   ]
  },
  {
   "cell_type": "code",
   "execution_count": null,
   "metadata": {},
   "outputs": [],
   "source": [
    "AMZN_prices[\"Close\"] = pd.to_numeric(AMZN_prices[\"Close\"], errors=\"coerce\")\n",
    "AMZN_prices = AMZN_prices.dropna(subset=[\"Close\"]).reset_index(drop=True)\n",
    "AMZN_prices[\"High\"] = pd.to_numeric(AMZN_prices[\"High\"], errors=\"coerce\")\n",
    "AMZN_prices[\"Low\"] = pd.to_numeric(AMZN_prices[\"Low\"], errors=\"coerce\")\n",
    "AMZN_prices[\"Open\"] = pd.to_numeric(AMZN_prices[\"Open\"], errors=\"coerce\")\n",
    "AMZN_prices[\"Volume\"] = pd.to_numeric(AMZN_prices[\"Volume\"], errors=\"coerce\")\n",
    "AMZN_prices[\"Price\"] = pd.to_datetime(AMZN_prices[\"Price\"])"
   ]
  },
  {
   "cell_type": "code",
   "execution_count": null,
   "metadata": {},
   "outputs": [],
   "source": [
    "correlation_matrix = AMZN_prices.corr()\n",
    "sns.heatmap(correlation_matrix, annot=True)\n",
    "plt.title(\"Correlation of AMZN Prices to Volume\")\n",
    "plt.show()"
   ]
  },
  {
   "cell_type": "code",
   "execution_count": null,
   "metadata": {},
   "outputs": [],
   "source": [
    "AMZN_prices[\"Returns\"] = AMZN_prices[\"Close\"].pct_change()\n",
    "AMZN_prices.hist(bins=50, figsize=(10, 7))\n",
    "plt.title(\"Distribution of Daily Returns of Amazon\")\n",
    "plt.show()"
   ]
  },
  {
   "cell_type": "code",
   "execution_count": null,
   "metadata": {},
   "outputs": [],
   "source": [
    "AMZN_prices[\"Volume\"].plot(kind=\"hist\", bins=50, figsize=(10, 5))\n",
    "plt.title(\"Trading Volume Distribution\")\n",
    "plt.show()"
   ]
  },
  {
   "cell_type": "code",
   "execution_count": null,
   "metadata": {},
   "outputs": [],
   "source": [
    "fig, axes = plt.subplots(1, 2, figsize=(12, 5))\n",
    "plot_acf(AMZN_prices[\"Returns\"].dropna(), lags=20, ax=axes[0])\n",
    "axes[0].set_title(\"Autocorrelation Function (ACF)\")\n",
    "\n",
    "plot_pacf(AMZN_prices[\"Returns\"], ax=axes[1], lags=40)\n",
    "axes[1].set_title(\"Partial Autocorrelation Function (PACF)\")\n",
    "\n",
    "plt.show()"
   ]
  },
  {
   "cell_type": "code",
   "execution_count": null,
   "metadata": {},
   "outputs": [],
   "source": [
    "adf_result = adfuller(AMZN_prices[\"Returns\"].dropna())\n",
    "\n",
    "print(\"ADF Statistic:\", adf_result[0])\n",
    "print(\"p-value:\", adf_result[1])\n",
    "print(\"Critical Values:\", adf_result[4])"
   ]
  },
  {
   "cell_type": "markdown",
   "metadata": {},
   "source": [
    "### Boeing"
   ]
  },
  {
   "cell_type": "markdown",
   "metadata": {},
   "source": [
    "Preprocessing"
   ]
  },
  {
   "cell_type": "code",
   "execution_count": null,
   "metadata": {},
   "outputs": [],
   "source": [
    "BA_prices[\"Close\"] = pd.to_numeric(BA_prices[\"Close\"], errors=\"coerce\")\n",
    "BA_prices = BA_prices.dropna(subset=[\"Close\"]).reset_index(drop=True)\n",
    "BA_prices[\"High\"] = pd.to_numeric(BA_prices[\"High\"], errors=\"coerce\")\n",
    "BA_prices[\"Low\"] = pd.to_numeric(BA_prices[\"Low\"], errors=\"coerce\")\n",
    "BA_prices[\"Open\"] = pd.to_numeric(BA_prices[\"Open\"], errors=\"coerce\")\n",
    "BA_prices[\"Volume\"] = pd.to_numeric(BA_prices[\"Volume\"], errors=\"coerce\")\n",
    "BA_prices[\"Price\"] = pd.to_datetime(BA_prices[\"Price\"])"
   ]
  },
  {
   "cell_type": "code",
   "execution_count": null,
   "metadata": {},
   "outputs": [],
   "source": [
    "correlation_matrix = BA_prices.corr()\n",
    "sns.heatmap(correlation_matrix, annot=True)\n",
    "plt.title(\"Correlation of BA Prices to Volume\")\n",
    "plt.show()"
   ]
  },
  {
   "cell_type": "code",
   "execution_count": null,
   "metadata": {},
   "outputs": [],
   "source": [
    "BA_prices[\"Returns\"] = BA_prices[\"Close\"].pct_change()\n",
    "BA_prices.hist(bins=50, figsize=(10, 7))\n",
    "plt.title(\"Distribution of Daily Returns of Boeing\")\n",
    "plt.show()"
   ]
  },
  {
   "cell_type": "code",
   "execution_count": null,
   "metadata": {},
   "outputs": [],
   "source": [
    "BA_prices[\"Volume\"].plot(kind=\"hist\", bins=50, figsize=(10, 5))\n",
    "plt.title(\"Trading Volume Distribution\")\n",
    "plt.show()"
   ]
  },
  {
   "cell_type": "code",
   "execution_count": null,
   "metadata": {},
   "outputs": [],
   "source": [
    "fig, axes = plt.subplots(1, 2, figsize=(12, 5))\n",
    "plot_acf(BA_prices[\"Returns\"].dropna(), lags=20, ax=axes[0])\n",
    "axes[0].set_title(\"Autocorrelation Function (ACF)\")\n",
    "\n",
    "plot_pacf(BA_prices[\"Returns\"], ax=axes[1], lags=40)\n",
    "axes[1].set_title(\"Partial Autocorrelation Function (PACF)\")\n",
    "\n",
    "plt.show()"
   ]
  },
  {
   "cell_type": "code",
   "execution_count": null,
   "metadata": {},
   "outputs": [],
   "source": [
    "adf_result = adfuller(BA_prices[\"Returns\"].dropna())\n",
    "\n",
    "print(\"ADF Statistic:\", adf_result[0])\n",
    "print(\"p-value:\", adf_result[1])\n",
    "print(\"Critical Values:\", adf_result[4])"
   ]
  },
  {
   "cell_type": "markdown",
   "metadata": {},
   "source": [
    "### Caterpillar"
   ]
  },
  {
   "cell_type": "code",
   "execution_count": null,
   "metadata": {},
   "outputs": [],
   "source": [
    "CAT_prices[\"Close\"] = pd.to_numeric(CAT_prices[\"Close\"], errors=\"coerce\")\n",
    "CAT_prices = CAT_prices.dropna(subset=[\"Close\"]).reset_index(drop=True)\n",
    "CAT_prices[\"High\"] = pd.to_numeric(CAT_prices[\"High\"], errors=\"coerce\")\n",
    "CAT_prices[\"Low\"] = pd.to_numeric(CAT_prices[\"Low\"], errors=\"coerce\")\n",
    "CAT_prices[\"Open\"] = pd.to_numeric(CAT_prices[\"Open\"], errors=\"coerce\")\n",
    "CAT_prices[\"Volume\"] = pd.to_numeric(CAT_prices[\"Volume\"], errors=\"coerce\")\n",
    "CAT_prices[\"Price\"] = pd.to_datetime(CAT_prices[\"Price\"])"
   ]
  },
  {
   "cell_type": "code",
   "execution_count": null,
   "metadata": {},
   "outputs": [],
   "source": [
    "correlation_matrix = CAT_prices.corr()\n",
    "sns.heatmap(correlation_matrix, annot=True)\n",
    "plt.title(\"Correlation of BA Prices to Volume\")\n",
    "plt.show()"
   ]
  },
  {
   "cell_type": "code",
   "execution_count": null,
   "metadata": {},
   "outputs": [],
   "source": [
    "CAT_prices[\"Returns\"] = CAT_prices[\"Close\"].pct_change()\n",
    "CAT_prices.hist(bins=50, figsize=(10, 7))\n",
    "plt.title(\"Distribution of Daily Returns of Boeing\")\n",
    "plt.show()"
   ]
  },
  {
   "cell_type": "code",
   "execution_count": null,
   "metadata": {},
   "outputs": [],
   "source": [
    "CAT_prices[\"Volume\"].plot(kind=\"hist\", bins=50, figsize=(10, 5))\n",
    "plt.title(\"Trading Volume Distribution\")\n",
    "plt.show()"
   ]
  },
  {
   "cell_type": "code",
   "execution_count": null,
   "metadata": {},
   "outputs": [],
   "source": [
    "fig, axes = plt.subplots(1, 2, figsize=(12, 5))\n",
    "plot_acf(CAT_prices[\"Returns\"].dropna(), lags=20, ax=axes[0])\n",
    "axes[0].set_title(\"Autocorrelation Function (ACF)\")\n",
    "\n",
    "plot_pacf(CAT_prices[\"Returns\"], ax=axes[1], lags=40)\n",
    "axes[1].set_title(\"Partial Autocorrelation Function (PACF)\")\n",
    "\n",
    "plt.show()"
   ]
  },
  {
   "cell_type": "code",
   "execution_count": null,
   "metadata": {},
   "outputs": [],
   "source": [
    "adf_result = adfuller(CAT_prices[\"Returns\"].dropna())\n",
    "\n",
    "print(\"ADF Statistic:\", adf_result[0])\n",
    "print(\"p-value:\", adf_result[1])\n",
    "print(\"Critical Values:\", adf_result[4])"
   ]
  },
  {
   "cell_type": "markdown",
   "metadata": {},
   "source": [
    "### Chevron"
   ]
  },
  {
   "cell_type": "code",
   "execution_count": null,
   "metadata": {},
   "outputs": [],
   "source": [
    "CVX_prices[\"Close\"] = pd.to_numeric(CVX_prices[\"Close\"], errors=\"coerce\")\n",
    "CVX_prices = CVX_prices.dropna(subset=[\"Close\"]).reset_index(drop=True)\n",
    "CVX_prices[\"High\"] = pd.to_numeric(CVX_prices[\"High\"], errors=\"coerce\")\n",
    "CVX_prices[\"Low\"] = pd.to_numeric(CVX_prices[\"Low\"], errors=\"coerce\")\n",
    "CVX_prices[\"Open\"] = pd.to_numeric(CVX_prices[\"Open\"], errors=\"coerce\")\n",
    "CVX_prices[\"Volume\"] = pd.to_numeric(CVX_prices[\"Volume\"], errors=\"coerce\")\n",
    "CVX_prices[\"Price\"] = pd.to_datetime(CVX_prices[\"Price\"])"
   ]
  },
  {
   "cell_type": "code",
   "execution_count": null,
   "metadata": {},
   "outputs": [],
   "source": [
    "correlation_matrix = CVX_prices.corr()\n",
    "sns.heatmap(correlation_matrix, annot=True)\n",
    "plt.title(\"Correlation of CVX Prices to Volume\")\n",
    "plt.show()"
   ]
  },
  {
   "cell_type": "code",
   "execution_count": null,
   "metadata": {},
   "outputs": [],
   "source": [
    "CVX_prices[\"Returns\"] = CVX_prices[\"Close\"].pct_change()\n",
    "CVX_prices.hist(bins=50, figsize=(10, 7))\n",
    "plt.title(\"Distribution of Daily Returns of Boeing\")\n",
    "plt.show()"
   ]
  },
  {
   "cell_type": "code",
   "execution_count": null,
   "metadata": {},
   "outputs": [],
   "source": [
    "CVX_prices[\"Volume\"].plot(kind=\"hist\", bins=50, figsize=(10, 5))\n",
    "plt.title(\"Trading Volume Distribution\")\n",
    "plt.show()"
   ]
  },
  {
   "cell_type": "code",
   "execution_count": null,
   "metadata": {},
   "outputs": [],
   "source": [
    "fig, axes = plt.subplots(1, 2, figsize=(12, 5))\n",
    "plot_acf(CVX_prices[\"Returns\"].dropna(), lags=20, ax=axes[0])\n",
    "axes[0].set_title(\"Autocorrelation Function (ACF)\")\n",
    "\n",
    "plot_pacf(CVX_prices[\"Returns\"], ax=axes[1], lags=40)\n",
    "axes[1].set_title(\"Partial Autocorrelation Function (PACF)\")\n",
    "\n",
    "plt.show()"
   ]
  },
  {
   "cell_type": "code",
   "execution_count": null,
   "metadata": {},
   "outputs": [],
   "source": [
    "adf_result = adfuller(CVX_prices[\"Returns\"].dropna())\n",
    "\n",
    "print(\"ADF Statistic:\", adf_result[0])\n",
    "print(\"p-value:\", adf_result[1])\n",
    "print(\"Critical Values:\", adf_result[4])"
   ]
  },
  {
   "cell_type": "markdown",
   "metadata": {},
   "source": [
    "### Goldman Sachs"
   ]
  },
  {
   "cell_type": "code",
   "execution_count": null,
   "metadata": {},
   "outputs": [],
   "source": [
    "GS_prices[\"Close\"] = pd.to_numeric(GS_prices[\"Close\"], errors=\"coerce\")\n",
    "GS_prices = GS_prices.dropna(subset=[\"Close\"]).reset_index(drop=True)\n",
    "GS_prices[\"High\"] = pd.to_numeric(GS_prices[\"High\"], errors=\"coerce\")\n",
    "GS_prices[\"Low\"] = pd.to_numeric(GS_prices[\"Low\"], errors=\"coerce\")\n",
    "GS_prices[\"Open\"] = pd.to_numeric(GS_prices[\"Open\"], errors=\"coerce\")\n",
    "GS_prices[\"Volume\"] = pd.to_numeric(GS_prices[\"Volume\"], errors=\"coerce\")\n",
    "GS_prices[\"Price\"] = pd.to_datetime(GS_prices[\"Price\"])"
   ]
  },
  {
   "cell_type": "code",
   "execution_count": null,
   "metadata": {},
   "outputs": [],
   "source": [
    "correlation_matrix = GS_prices.corr()\n",
    "sns.heatmap(correlation_matrix, annot=True)\n",
    "plt.title(\"Correlation of GS Prices to Volume\")\n",
    "plt.show()"
   ]
  },
  {
   "cell_type": "code",
   "execution_count": null,
   "metadata": {},
   "outputs": [],
   "source": [
    "GS_prices[\"Returns\"] = GS_prices[\"Close\"].pct_change()\n",
    "GS_prices.hist(bins=50, figsize=(10, 7))\n",
    "plt.title(\"Distribution of Daily Returns of Goldman Sachs\")\n",
    "plt.show()"
   ]
  },
  {
   "cell_type": "code",
   "execution_count": null,
   "metadata": {},
   "outputs": [],
   "source": [
    "GS_prices[\"Volume\"].plot(kind=\"hist\", bins=50, figsize=(10, 5))\n",
    "plt.title(\"Trading Volume Distribution\")\n",
    "plt.show()"
   ]
  },
  {
   "cell_type": "code",
   "execution_count": null,
   "metadata": {},
   "outputs": [],
   "source": [
    "fig, axes = plt.subplots(1, 2, figsize=(12, 5))\n",
    "plot_acf(GS_prices[\"Returns\"].dropna(), lags=20, ax=axes[0])\n",
    "axes[0].set_title(\"Autocorrelation Function (ACF)\")\n",
    "\n",
    "plot_pacf(GS_prices[\"Returns\"], ax=axes[1], lags=40)\n",
    "axes[1].set_title(\"Partial Autocorrelation Function (PACF)\")\n",
    "\n",
    "plt.show()"
   ]
  },
  {
   "cell_type": "code",
   "execution_count": null,
   "metadata": {},
   "outputs": [],
   "source": [
    "adf_result = adfuller(GS_prices[\"Returns\"].dropna())\n",
    "\n",
    "print(\"ADF Statistic:\", adf_result[0])\n",
    "print(\"p-value:\", adf_result[1])\n",
    "print(\"Critical Values:\", adf_result[4])"
   ]
  },
  {
   "cell_type": "markdown",
   "metadata": {},
   "source": [
    "### Johnson and Johnson"
   ]
  },
  {
   "cell_type": "code",
   "execution_count": null,
   "metadata": {},
   "outputs": [],
   "source": [
    "JNJ_prices[\"Close\"] = pd.to_numeric(JNJ_prices[\"Close\"], errors=\"coerce\")\n",
    "JNJ_prices = JNJ_prices.dropna(subset=[\"Close\"]).reset_index(drop=True)\n",
    "JNJ_prices[\"High\"] = pd.to_numeric(JNJ_prices[\"High\"], errors=\"coerce\")\n",
    "JNJ_prices[\"Low\"] = pd.to_numeric(JNJ_prices[\"Low\"], errors=\"coerce\")\n",
    "JNJ_prices[\"Open\"] = pd.to_numeric(JNJ_prices[\"Open\"], errors=\"coerce\")\n",
    "JNJ_prices[\"Volume\"] = pd.to_numeric(JNJ_prices[\"Volume\"], errors=\"coerce\")\n",
    "JNJ_prices[\"Price\"] = pd.to_datetime(JNJ_prices[\"Price\"])"
   ]
  },
  {
   "cell_type": "code",
   "execution_count": null,
   "metadata": {},
   "outputs": [],
   "source": [
    "correlation_matrix = JNJ_prices.corr()\n",
    "sns.heatmap(correlation_matrix, annot=True)\n",
    "plt.title(\"Correlation of JNJ Prices to Volume\")\n",
    "plt.show()"
   ]
  },
  {
   "cell_type": "code",
   "execution_count": null,
   "metadata": {},
   "outputs": [],
   "source": [
    "JNJ_prices[\"Returns\"] = JNJ_prices[\"Close\"].pct_change()\n",
    "JNJ_prices.hist(bins=50, figsize=(10, 7))\n",
    "plt.title(\"Distribution of Daily Returns of Johnson and Johnson\")\n",
    "plt.show()"
   ]
  },
  {
   "cell_type": "code",
   "execution_count": null,
   "metadata": {},
   "outputs": [],
   "source": [
    "JNJ_prices[\"Volume\"].plot(kind=\"hist\", bins=50, figsize=(10, 5))\n",
    "plt.title(\"Trading Volume Distribution\")\n",
    "plt.show()"
   ]
  },
  {
   "cell_type": "code",
   "execution_count": null,
   "metadata": {},
   "outputs": [],
   "source": [
    "fig, axes = plt.subplots(1, 2, figsize=(12, 5))\n",
    "plot_acf(JNJ_prices[\"Returns\"].dropna(), lags=20, ax=axes[0])\n",
    "axes[0].set_title(\"Autocorrelation Function (ACF)\")\n",
    "\n",
    "plot_pacf(JNJ_prices[\"Returns\"], ax=axes[1], lags=40)\n",
    "axes[1].set_title(\"Partial Autocorrelation Function (PACF)\")\n",
    "\n",
    "plt.show()"
   ]
  },
  {
   "cell_type": "code",
   "execution_count": null,
   "metadata": {},
   "outputs": [],
   "source": [
    "adf_result = adfuller(JNJ_prices[\"Returns\"].dropna())\n",
    "\n",
    "print(\"ADF Statistic:\", adf_result[0])\n",
    "print(\"p-value:\", adf_result[1])\n",
    "print(\"Critical Values:\", adf_result[4])"
   ]
  },
  {
   "cell_type": "markdown",
   "metadata": {},
   "source": [
    "### JP Morgan"
   ]
  },
  {
   "cell_type": "code",
   "execution_count": null,
   "metadata": {},
   "outputs": [],
   "source": [
    "JPM_prices[\"Close\"] = pd.to_numeric(JPM_prices[\"Close\"], errors=\"coerce\")\n",
    "JPM_prices = JPM_prices.dropna(subset=[\"Close\"]).reset_index(drop=True)\n",
    "JPM_prices[\"High\"] = pd.to_numeric(JPM_prices[\"High\"], errors=\"coerce\")\n",
    "JPM_prices[\"Low\"] = pd.to_numeric(JPM_prices[\"Low\"], errors=\"coerce\")\n",
    "JPM_prices[\"Open\"] = pd.to_numeric(JPM_prices[\"Open\"], errors=\"coerce\")\n",
    "JPM_prices[\"Volume\"] = pd.to_numeric(JPM_prices[\"Volume\"], errors=\"coerce\")\n",
    "JPM_prices[\"Price\"] = pd.to_datetime(JPM_prices[\"Price\"])"
   ]
  },
  {
   "cell_type": "code",
   "execution_count": null,
   "metadata": {},
   "outputs": [],
   "source": [
    "correlation_matrix = JPM_prices.corr()\n",
    "sns.heatmap(correlation_matrix, annot=True)\n",
    "plt.title(\"Correlation of JPM Prices to Volume\")\n",
    "plt.show()"
   ]
  },
  {
   "cell_type": "code",
   "execution_count": null,
   "metadata": {},
   "outputs": [],
   "source": [
    "JPM_prices[\"Returns\"] = JPM_prices[\"Close\"].pct_change()\n",
    "JPM_prices.hist(bins=50, figsize=(10, 7))\n",
    "plt.title(\"Distribution of Daily Returns of JP Morgan\")\n",
    "plt.show()"
   ]
  },
  {
   "cell_type": "code",
   "execution_count": null,
   "metadata": {},
   "outputs": [],
   "source": [
    "JPM_prices[\"Volume\"].plot(kind=\"hist\", bins=50, figsize=(10, 5))\n",
    "plt.title(\"Trading Volume Distribution\")\n",
    "plt.show()"
   ]
  },
  {
   "cell_type": "code",
   "execution_count": null,
   "metadata": {},
   "outputs": [],
   "source": [
    "fig, axes = plt.subplots(1, 2, figsize=(12, 5))\n",
    "plot_acf(JPM_prices[\"Returns\"].dropna(), lags=20, ax=axes[0])\n",
    "axes[0].set_title(\"Autocorrelation Function (ACF)\")\n",
    "\n",
    "plot_pacf(JPM_prices[\"Returns\"], ax=axes[1], lags=40)\n",
    "axes[1].set_title(\"Partial Autocorrelation Function (PACF)\")\n",
    "\n",
    "plt.show()"
   ]
  },
  {
   "cell_type": "code",
   "execution_count": null,
   "metadata": {},
   "outputs": [],
   "source": [
    "adf_result = adfuller(JPM_prices[\"Returns\"].dropna())\n",
    "\n",
    "print(\"ADF Statistic:\", adf_result[0])\n",
    "print(\"p-value:\", adf_result[1])\n",
    "print(\"Critical Values:\", adf_result[4])"
   ]
  },
  {
   "cell_type": "markdown",
   "metadata": {},
   "source": [
    "### Microsoft"
   ]
  },
  {
   "cell_type": "code",
   "execution_count": null,
   "metadata": {},
   "outputs": [],
   "source": [
    "MSFT_prices[\"Close\"] = pd.to_numeric(MSFT_prices[\"Close\"], errors=\"coerce\")\n",
    "MSFT_prices = MSFT_prices.dropna(subset=[\"Close\"]).reset_index(drop=True)\n",
    "MSFT_prices[\"High\"] = pd.to_numeric(MSFT_prices[\"High\"], errors=\"coerce\")\n",
    "MSFT_prices[\"Low\"] = pd.to_numeric(MSFT_prices[\"Low\"], errors=\"coerce\")\n",
    "MSFT_prices[\"Open\"] = pd.to_numeric(MSFT_prices[\"Open\"], errors=\"coerce\")\n",
    "MSFT_prices[\"Volume\"] = pd.to_numeric(MSFT_prices[\"Volume\"], errors=\"coerce\")\n",
    "MSFT_prices[\"Price\"] = pd.to_datetime(MSFT_prices[\"Price\"])"
   ]
  },
  {
   "cell_type": "code",
   "execution_count": null,
   "metadata": {},
   "outputs": [],
   "source": [
    "correlation_matrix = MSFT_prices.corr()\n",
    "sns.heatmap(correlation_matrix, annot=True)\n",
    "plt.title(\"Correlation of MSFT Prices to Volume\")\n",
    "plt.show()"
   ]
  },
  {
   "cell_type": "code",
   "execution_count": null,
   "metadata": {},
   "outputs": [],
   "source": [
    "MSFT_prices[\"Returns\"] = MSFT_prices[\"Close\"].pct_change()\n",
    "MSFT_prices.hist(bins=50, figsize=(10, 7))\n",
    "plt.title(\"Distribution of Daily Returns of Microsoft\")\n",
    "plt.show()"
   ]
  },
  {
   "cell_type": "code",
   "execution_count": null,
   "metadata": {},
   "outputs": [],
   "source": [
    "MSFT_prices[\"Volume\"].plot(kind=\"hist\", bins=50, figsize=(10, 5))\n",
    "plt.title(\"Trading Volume Distribution\")\n",
    "plt.show()"
   ]
  },
  {
   "cell_type": "code",
   "execution_count": null,
   "metadata": {},
   "outputs": [],
   "source": [
    "fig, axes = plt.subplots(1, 2, figsize=(12, 5))\n",
    "plot_acf(MSFT_prices[\"Returns\"].dropna(), lags=20, ax=axes[0])\n",
    "axes[0].set_title(\"Autocorrelation Function (ACF)\")\n",
    "\n",
    "plot_pacf(MSFT_prices[\"Returns\"], ax=axes[1], lags=40)\n",
    "axes[1].set_title(\"Partial Autocorrelation Function (PACF)\")\n",
    "\n",
    "plt.show()"
   ]
  },
  {
   "cell_type": "code",
   "execution_count": null,
   "metadata": {},
   "outputs": [],
   "source": [
    "adf_result = adfuller(MSFT_prices[\"Returns\"].dropna())\n",
    "\n",
    "print(\"ADF Statistic:\", adf_result[0])\n",
    "print(\"p-value:\", adf_result[1])\n",
    "print(\"Critical Values:\", adf_result[4])"
   ]
  },
  {
   "cell_type": "markdown",
   "metadata": {},
   "source": [
    "### NextEra Energy"
   ]
  },
  {
   "cell_type": "code",
   "execution_count": null,
   "metadata": {},
   "outputs": [],
   "source": [
    "NEE_prices[\"Close\"] = pd.to_numeric(NEE_prices[\"Close\"], errors=\"coerce\")\n",
    "NEE_prices = NEE_prices.dropna(subset=[\"Close\"]).reset_index(drop=True)\n",
    "NEE_prices[\"High\"] = pd.to_numeric(NEE_prices[\"High\"], errors=\"coerce\")\n",
    "NEE_prices[\"Low\"] = pd.to_numeric(NEE_prices[\"Low\"], errors=\"coerce\")\n",
    "NEE_prices[\"Open\"] = pd.to_numeric(NEE_prices[\"Open\"], errors=\"coerce\")\n",
    "NEE_prices[\"Volume\"] = pd.to_numeric(NEE_prices[\"Volume\"], errors=\"coerce\")\n",
    "NEE_prices[\"Price\"] = pd.to_datetime(NEE_prices[\"Price\"])"
   ]
  },
  {
   "cell_type": "code",
   "execution_count": null,
   "metadata": {},
   "outputs": [],
   "source": [
    "correlation_matrix = NEE_prices.corr()\n",
    "sns.heatmap(correlation_matrix, annot=True)\n",
    "plt.title(\"Correlation of NEE Prices to Volume\")\n",
    "plt.show()"
   ]
  },
  {
   "cell_type": "code",
   "execution_count": null,
   "metadata": {},
   "outputs": [],
   "source": [
    "NEE_prices[\"Returns\"] = NEE_prices[\"Close\"].pct_change()\n",
    "NEE_prices.hist(bins=50, figsize=(10, 7))\n",
    "plt.title(\"Distribution of Daily Returns of NextEra Energy\")\n",
    "plt.show()"
   ]
  },
  {
   "cell_type": "code",
   "execution_count": null,
   "metadata": {},
   "outputs": [],
   "source": [
    "NEE_prices[\"Volume\"].plot(kind=\"hist\", bins=50, figsize=(10, 5))\n",
    "plt.title(\"Trading Volume Distribution\")\n",
    "plt.show()"
   ]
  },
  {
   "cell_type": "code",
   "execution_count": null,
   "metadata": {},
   "outputs": [],
   "source": [
    "fig, axes = plt.subplots(1, 2, figsize=(12, 5))\n",
    "plot_acf(NEE_prices[\"Returns\"].dropna(), lags=20, ax=axes[0])\n",
    "axes[0].set_title(\"Autocorrelation Function (ACF)\")\n",
    "\n",
    "plot_pacf(NEE_prices[\"Returns\"], ax=axes[1], lags=40)\n",
    "axes[1].set_title(\"Partial Autocorrelation Function (PACF)\")\n",
    "\n",
    "plt.show()"
   ]
  },
  {
   "cell_type": "code",
   "execution_count": null,
   "metadata": {},
   "outputs": [],
   "source": [
    "adf_result = adfuller(NEE_prices[\"Returns\"].dropna())\n",
    "\n",
    "print(\"ADF Statistic:\", adf_result[0])\n",
    "print(\"p-value:\", adf_result[1])\n",
    "print(\"Critical Values:\", adf_result[4])"
   ]
  },
  {
   "cell_type": "markdown",
   "metadata": {},
   "source": [
    "### Nvidia"
   ]
  },
  {
   "cell_type": "code",
   "execution_count": null,
   "metadata": {},
   "outputs": [],
   "source": [
    "NVDA_prices[\"Close\"] = pd.to_numeric(NVDA_prices[\"Close\"], errors=\"coerce\")\n",
    "NVDA_prices = NVDA_prices.dropna(subset=[\"Close\"]).reset_index(drop=True)\n",
    "NVDA_prices[\"High\"] = pd.to_numeric(NVDA_prices[\"High\"], errors=\"coerce\")\n",
    "NVDA_prices[\"Low\"] = pd.to_numeric(NVDA_prices[\"Low\"], errors=\"coerce\")\n",
    "NVDA_prices[\"Open\"] = pd.to_numeric(NVDA_prices[\"Open\"], errors=\"coerce\")\n",
    "NVDA_prices[\"Volume\"] = pd.to_numeric(NVDA_prices[\"Volume\"], errors=\"coerce\")\n",
    "NVDA_prices[\"Price\"] = pd.to_datetime(NVDA_prices[\"Price\"])"
   ]
  },
  {
   "cell_type": "code",
   "execution_count": null,
   "metadata": {},
   "outputs": [],
   "source": [
    "correlation_matrix = NVDA_prices.corr()\n",
    "sns.heatmap(correlation_matrix, annot=True)\n",
    "plt.title(\"Correlation of NVDA Prices to Volume\")\n",
    "plt.show()"
   ]
  },
  {
   "cell_type": "code",
   "execution_count": null,
   "metadata": {},
   "outputs": [],
   "source": [
    "NVDA_prices[\"Returns\"] = NVDA_prices[\"Close\"].pct_change()\n",
    "NVDA_prices.hist(bins=50, figsize=(10, 7))\n",
    "plt.title(\"Distribution of Daily Returns of Nvidia\")\n",
    "plt.show()"
   ]
  },
  {
   "cell_type": "code",
   "execution_count": null,
   "metadata": {},
   "outputs": [],
   "source": [
    "fig, axes = plt.subplots(1, 2, figsize=(12, 5))\n",
    "plot_acf(NVDA_prices[\"Returns\"].dropna(), lags=20, ax=axes[0])\n",
    "axes[0].set_title(\"Autocorrelation Function (ACF)\")\n",
    "\n",
    "plot_pacf(NVDA_prices[\"Returns\"], ax=axes[1], lags=40)\n",
    "axes[1].set_title(\"Partial Autocorrelation Function (PACF)\")\n",
    "\n",
    "plt.show()"
   ]
  },
  {
   "cell_type": "code",
   "execution_count": null,
   "metadata": {},
   "outputs": [],
   "source": [
    "adf_result = adfuller(NVDA_prices[\"Returns\"].dropna())\n",
    "\n",
    "print(\"ADF Statistic:\", adf_result[0])\n",
    "print(\"p-value:\", adf_result[1])\n",
    "print(\"Critical Values:\", adf_result[4])"
   ]
  },
  {
   "cell_type": "markdown",
   "metadata": {},
   "source": [
    "### Pfizer"
   ]
  },
  {
   "cell_type": "code",
   "execution_count": null,
   "metadata": {},
   "outputs": [],
   "source": [
    "PFE_prices[\"Close\"] = pd.to_numeric(PFE_prices[\"Close\"], errors=\"coerce\")\n",
    "PFE_prices = PFE_prices.dropna(subset=[\"Close\"]).reset_index(drop=True)\n",
    "PFE_prices[\"High\"] = pd.to_numeric(PFE_prices[\"High\"], errors=\"coerce\")\n",
    "PFE_prices[\"Low\"] = pd.to_numeric(PFE_prices[\"Low\"], errors=\"coerce\")\n",
    "PFE_prices[\"Open\"] = pd.to_numeric(PFE_prices[\"Open\"], errors=\"coerce\")\n",
    "PFE_prices[\"Volume\"] = pd.to_numeric(PFE_prices[\"Volume\"], errors=\"coerce\")\n",
    "PFE_prices[\"Price\"] = pd.to_datetime(PFE_prices[\"Price\"])"
   ]
  },
  {
   "cell_type": "code",
   "execution_count": null,
   "metadata": {},
   "outputs": [],
   "source": [
    "correlation_matrix = PFE_prices.corr()\n",
    "sns.heatmap(correlation_matrix, annot=True)\n",
    "plt.title(\"Correlation of PFE Prices to Volume\")\n",
    "plt.show()"
   ]
  },
  {
   "cell_type": "code",
   "execution_count": null,
   "metadata": {},
   "outputs": [],
   "source": [
    "PFE_prices[\"Returns\"] = PFE_prices[\"Close\"].pct_change()\n",
    "PFE_prices.hist(bins=50, figsize=(10, 7))\n",
    "plt.title(\"Distribution of Daily Returns of Pfizer\")\n",
    "plt.show()"
   ]
  },
  {
   "cell_type": "code",
   "execution_count": null,
   "metadata": {},
   "outputs": [],
   "source": [
    "fig, axes = plt.subplots(1, 2, figsize=(12, 5))\n",
    "plot_acf(PFE_prices[\"Returns\"].dropna(), lags=20, ax=axes[0])\n",
    "axes[0].set_title(\"Autocorrelation Function (ACF)\")\n",
    "\n",
    "plot_pacf(PFE_prices[\"Returns\"], ax=axes[1], lags=40)\n",
    "axes[1].set_title(\"Partial Autocorrelation Function (PACF)\")\n",
    "\n",
    "plt.show()"
   ]
  },
  {
   "cell_type": "code",
   "execution_count": null,
   "metadata": {},
   "outputs": [],
   "source": [
    "adf_result = adfuller(PFE_prices[\"Returns\"].dropna())\n",
    "\n",
    "print(\"ADF Statistic:\", adf_result[0])\n",
    "print(\"p-value:\", adf_result[1])\n",
    "print(\"Critical Values:\", adf_result[4])"
   ]
  },
  {
   "cell_type": "markdown",
   "metadata": {},
   "source": [
    "### Tesla"
   ]
  },
  {
   "cell_type": "code",
   "execution_count": null,
   "metadata": {},
   "outputs": [],
   "source": [
    "TSLA_prices[\"Close\"] = pd.to_numeric(TSLA_prices[\"Close\"], errors=\"coerce\")\n",
    "TSLA_prices = TSLA_prices.dropna(subset=[\"Close\"]).reset_index(drop=True)\n",
    "TSLA_prices[\"High\"] = pd.to_numeric(TSLA_prices[\"High\"], errors=\"coerce\")\n",
    "TSLA_prices[\"Low\"] = pd.to_numeric(TSLA_prices[\"Low\"], errors=\"coerce\")\n",
    "TSLA_prices[\"Open\"] = pd.to_numeric(TSLA_prices[\"Open\"], errors=\"coerce\")\n",
    "TSLA_prices[\"Volume\"] = pd.to_numeric(TSLA_prices[\"Volume\"], errors=\"coerce\")\n",
    "TSLA_prices[\"Price\"] = pd.to_datetime(TSLA_prices[\"Price\"])"
   ]
  },
  {
   "cell_type": "code",
   "execution_count": null,
   "metadata": {},
   "outputs": [],
   "source": [
    "correlation_matrix = TSLA_prices.corr()\n",
    "sns.heatmap(correlation_matrix, annot=True)\n",
    "plt.title(\"Correlation of TSLA Prices to Volume\")\n",
    "plt.show()"
   ]
  },
  {
   "cell_type": "code",
   "execution_count": null,
   "metadata": {},
   "outputs": [],
   "source": [
    "TSLA_prices[\"Returns\"] = TSLA_prices[\"Close\"].pct_change()\n",
    "TSLA_prices.hist(bins=50, figsize=(10, 7))\n",
    "plt.title(\"Distribution of Daily Returns of Tesla\")\n",
    "plt.show()"
   ]
  },
  {
   "cell_type": "code",
   "execution_count": null,
   "metadata": {},
   "outputs": [],
   "source": [
    "fig, axes = plt.subplots(1, 2, figsize=(12, 5))\n",
    "plot_acf(TSLA_prices[\"Returns\"].dropna(), lags=20, ax=axes[0])\n",
    "axes[0].set_title(\"Autocorrelation Function (ACF)\")\n",
    "\n",
    "plot_pacf(TSLA_prices[\"Returns\"], ax=axes[1], lags=40)\n",
    "axes[1].set_title(\"Partial Autocorrelation Function (PACF)\")\n",
    "\n",
    "plt.show()"
   ]
  },
  {
   "cell_type": "code",
   "execution_count": null,
   "metadata": {},
   "outputs": [],
   "source": [
    "adf_result = adfuller(TSLA_prices[\"Returns\"].dropna())\n",
    "\n",
    "print(\"ADF Statistic:\", adf_result[0])\n",
    "print(\"p-value:\", adf_result[1])\n",
    "print(\"Critical Values:\", adf_result[4])"
   ]
  },
  {
   "cell_type": "markdown",
   "metadata": {},
   "source": [
    "### Exxon Mobil"
   ]
  },
  {
   "cell_type": "code",
   "execution_count": null,
   "metadata": {},
   "outputs": [],
   "source": [
    "XOM_prices[\"Close\"] = pd.to_numeric(XOM_prices[\"Close\"], errors=\"coerce\")\n",
    "XOM_prices = XOM_prices.dropna(subset=[\"Close\"]).reset_index(drop=True)\n",
    "XOM_prices[\"High\"] = pd.to_numeric(XOM_prices[\"High\"], errors=\"coerce\")\n",
    "XOM_prices[\"Low\"] = pd.to_numeric(XOM_prices[\"Low\"], errors=\"coerce\")\n",
    "XOM_prices[\"Open\"] = pd.to_numeric(XOM_prices[\"Open\"], errors=\"coerce\")\n",
    "XOM_prices[\"Volume\"] = pd.to_numeric(XOM_prices[\"Volume\"], errors=\"coerce\")\n",
    "XOM_prices[\"Price\"] = pd.to_datetime(XOM_prices[\"Price\"])"
   ]
  },
  {
   "cell_type": "code",
   "execution_count": null,
   "metadata": {},
   "outputs": [],
   "source": [
    "correlation_matrix = XOM_prices.corr()\n",
    "sns.heatmap(correlation_matrix, annot=True)\n",
    "plt.title(\"Correlation of XOM Prices to Volume\")\n",
    "plt.show()"
   ]
  },
  {
   "cell_type": "code",
   "execution_count": null,
   "metadata": {},
   "outputs": [],
   "source": [
    "XOM_prices[\"Returns\"] = XOM_prices[\"Close\"].pct_change()\n",
    "XOM_prices.hist(bins=50, figsize=(10, 7))\n",
    "plt.title(\"Distribution of Daily Returns of Exxon Mobil\")\n",
    "plt.show()"
   ]
  },
  {
   "cell_type": "code",
   "execution_count": null,
   "metadata": {},
   "outputs": [],
   "source": [
    "fig, axes = plt.subplots(1, 2, figsize=(12, 5))\n",
    "plot_acf(XOM_prices[\"Returns\"].dropna(), lags=20, ax=axes[0])\n",
    "axes[0].set_title(\"Autocorrelation Function (ACF)\")\n",
    "\n",
    "plot_pacf(XOM_prices[\"Returns\"], ax=axes[1], lags=40)\n",
    "axes[1].set_title(\"Partial Autocorrelation Function (PACF)\")\n",
    "\n",
    "plt.show()"
   ]
  },
  {
   "cell_type": "code",
   "execution_count": null,
   "metadata": {},
   "outputs": [],
   "source": [
    "adf_result = adfuller(XOM_prices[\"Returns\"].dropna())\n",
    "\n",
    "print(\"ADF Statistic:\", adf_result[0])\n",
    "print(\"p-value:\", adf_result[1])\n",
    "print(\"Critical Values:\", adf_result[4])"
   ]
  }
 ],
 "metadata": {
  "kernelspec": {
   "display_name": ".venv",
   "language": "python",
   "name": "python3"
  },
  "language_info": {
   "codemirror_mode": {
    "name": "ipython",
    "version": 3
   },
   "file_extension": ".py",
   "mimetype": "text/x-python",
   "name": "python",
   "nbconvert_exporter": "python",
   "pygments_lexer": "ipython3",
   "version": "3.12.0"
  }
 },
 "nbformat": 4,
 "nbformat_minor": 2
}
