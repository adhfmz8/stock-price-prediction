{
 "cells": [
  {
   "cell_type": "code",
   "execution_count": null,
   "id": "be0a9d23",
   "metadata": {},
   "outputs": [],
   "source": [
    "import numpy as np\n",
    "import pandas as pd\n",
    "import matplotlib.pyplot as plt\n",
    "from sklearn.model_selection import TimeSeriesSplit\n",
    "from sklearn.preprocessing import MinMaxScaler\n",
    "from sklearn.metrics import mean_squared_error\n",
    "from tensorflow.keras.models import Sequential\n",
    "from tensorflow.keras.layers import LSTM, Dense, Dropout\n",
    "from tensorflow.keras.optimizers import Adam\n",
    "from tensorflow.keras.callbacks import EarlyStopping"
   ]
  },
  {
   "cell_type": "code",
   "execution_count": null,
   "id": "0598f7b6",
   "metadata": {},
   "outputs": [],
   "source": [
    "columns = [\"Date\", \"Close\", \"High\", \"Low\", \"Open\", \"Volume\"]\n",
    "\n",
    "AAPL_prices = pd.read_csv(\"../data/raw/yf_prices/AAPL.csv\")\n",
    "AMZN_prices = pd.read_csv(\"../data/raw/yf_prices/AMZN.csv\")\n",
    "BA_prices = pd.read_csv(\"../data/raw/yf_prices/BA.csv\")\n",
    "CAT_prices = pd.read_csv(\"../data/raw/yf_prices/CAT.csv\")\n",
    "CVX_prices = pd.read_csv(\"../data/raw/yf_prices/CVX.csv\")\n",
    "GS_prices = pd.read_csv(\"../data/raw/yf_prices/GS.csv\")\n",
    "JNJ_prices = pd.read_csv(\"../data/raw/yf_prices/JNJ.csv\")\n",
    "JPM_prices = pd.read_csv(\"../data/raw/yf_prices/JPM.csv\")\n",
    "MSFT_prices = pd.read_csv(\"../data/raw/yf_prices/MSFT.csv\")\n",
    "NEE_prices = pd.read_csv(\"../data/raw/yf_prices/NEE.csv\")\n",
    "NVDA_prices = pd.read_csv(\"../data/raw/yf_prices/NVDA.csv\")\n",
    "PFE_prices = pd.read_csv(\"../data/raw/yf_prices/PFE.csv\")\n",
    "TSLA_prices = pd.read_csv(\"../data/raw/yf_prices/TSLA.csv\")\n",
    "XOM_prices = pd.read_csv(\"../data/raw/yf_prices/XOM.csv\")"
   ]
  },
  {
   "cell_type": "code",
   "execution_count": null,
   "id": "d68a3d8f",
   "metadata": {},
   "outputs": [],
   "source": [
    "def clean_prices_df(df):\n",
    "    df = df.copy()\n",
    "    df.rename(columns={\"Price\": \"Date\"}, inplace=True)\n",
    "    df[\"Close\"] = pd.to_numeric(df[\"Close\"], errors=\"coerce\")\n",
    "    df = df.dropna(subset=[\"Close\"]).reset_index(drop=True)\n",
    "    for col in [\"High\", \"Low\", \"Open\", \"Volume\"]:\n",
    "        df[col] = pd.to_numeric(df[col], errors=\"coerce\")\n",
    "    df[\"Date\"] = pd.to_datetime(df[\"Date\"], errors=\"coerce\")\n",
    "    return df"
   ]
  },
  {
   "cell_type": "code",
   "execution_count": null,
   "id": "ec482adf",
   "metadata": {},
   "outputs": [],
   "source": [
    "AAPL_prices = clean_prices_df(AAPL_prices)\n",
    "AMZN_prices = clean_prices_df(AMZN_prices)\n",
    "BA_prices = clean_prices_df(BA_prices)\n",
    "CAT_prices = clean_prices_df(CAT_prices)\n",
    "CVX_prices = clean_prices_df(CVX_prices)\n",
    "GS_prices = clean_prices_df(GS_prices)\n",
    "JNJ_prices = clean_prices_df(JNJ_prices)\n",
    "JPM_prices = clean_prices_df(JPM_prices)\n",
    "MSFT_prices = clean_prices_df(MSFT_prices)\n",
    "NEE_prices = clean_prices_df(NEE_prices)\n",
    "NVDA_prices = clean_prices_df(NVDA_prices)\n",
    "PFE_prices = clean_prices_df(PFE_prices)\n",
    "TSLA_prices = clean_prices_df(TSLA_prices)\n",
    "XOM_prices = clean_prices_df(XOM_prices)"
   ]
  },
  {
   "cell_type": "code",
   "execution_count": null,
   "id": "8e290935",
   "metadata": {},
   "outputs": [],
   "source": [
    "def feature_engineer_prices_df(df):\n",
    "    df = df.copy()\n",
    "\n",
    "    # --- Basic price change features ---\n",
    "    df[\"Return_1d\"] = df[\"Close\"].pct_change()\n",
    "    df[\"Return_7d\"] = df[\"Close\"].pct_change(7)\n",
    "\n",
    "    # --- Moving averages ---\n",
    "    df[\"MA_7\"] = df[\"Close\"].rolling(window=7).mean()\n",
    "    df[\"MA_14\"] = df[\"Close\"].rolling(window=14).mean()\n",
    "    df[\"MA_30\"] = df[\"Close\"].rolling(window=30).mean()\n",
    "\n",
    "    # --- Volatility ---\n",
    "    df[\"Volatility_7d\"] = df[\"Return_1d\"].rolling(window=7).std()\n",
    "    df[\"Volatility_14d\"] = df[\"Return_1d\"].rolling(window=14).std()\n",
    "\n",
    "    # --- Volume features ---\n",
    "    df[\"Volume_MA_7\"] = df[\"Volume\"].rolling(window=7).mean()\n",
    "    df[\"Volume_Change_1d\"] = df[\"Volume\"].pct_change()\n",
    "\n",
    "    # --- Lag features (previous close prices) ---\n",
    "    df[\"Close_Lag_1\"] = df[\"Close\"].shift(1)\n",
    "    df[\"Close_Lag_2\"] = df[\"Close\"].shift(2)\n",
    "    df[\"Close_Lag_3\"] = df[\"Close\"].shift(3)\n",
    "    df[\"Close_Lag_5\"] = df[\"Close\"].shift(5)\n",
    "    df[\"Close_Lag_7\"] = df[\"Close\"].shift(7)\n",
    "    df[\"Close_Lag_14\"] = df[\"Close\"].shift(14)\n",
    "    df[\"Close_Lag_21\"] = df[\"Close\"].shift(21)\n",
    "\n",
    "    # --- RSI (Relative Strength Index) ---\n",
    "    delta = df[\"Close\"].diff(1)\n",
    "    gain = delta.where(delta > 0, 0)\n",
    "    loss = -delta.where(delta < 0, 0)\n",
    "\n",
    "    avg_gain = gain.rolling(window=14).mean()\n",
    "    avg_loss = loss.rolling(window=14).mean()\n",
    "\n",
    "    rs = avg_gain / avg_loss\n",
    "    df[\"RSI_14\"] = 100 - (100 / (1 + rs))\n",
    "\n",
    "    # --- MACD (Moving Average Convergence Divergence) ---\n",
    "    # Fast and Slow Exponential Moving Averages\n",
    "    df[\"EMA_12\"] = df[\"Close\"].ewm(span=12, adjust=False).mean()\n",
    "    df[\"EMA_26\"] = df[\"Close\"].ewm(span=26, adjust=False).mean()\n",
    "\n",
    "    # MACD Line\n",
    "    df[\"MACD\"] = df[\"EMA_12\"] - df[\"EMA_26\"]\n",
    "\n",
    "    # Signal Line (9-day EMA of MACD)\n",
    "    df[\"MACD_Signal\"] = df[\"MACD\"].ewm(span=9, adjust=False).mean()\n",
    "\n",
    "    # interaction features\n",
    "    df[\"Price_vs_MA30\"] = df[\"Close\"] / df[\"MA_30\"]\n",
    "    df[\"Vol_x_Return\"] = df[\"Volume_Change_1d\"] * df[\"Return_1d\"]\n",
    "\n",
    "    # Bollinger Bands\n",
    "    df[\"MA_20\"] = df[\"Close\"].rolling(window=20).mean()\n",
    "    df[\"Std_Dev_20\"] = df[\"Close\"].rolling(window=20).std()\n",
    "    df[\"Bollinger_Upper\"] = df[\"MA_20\"] + (2 * df[\"Std_Dev_20\"])\n",
    "    df[\"Bollinger_Lower\"] = df[\"MA_20\"] - (2 * df[\"Std_Dev_20\"])\n",
    "    df[\"Price_vs_Bollinger\"] = (df[\"Close\"] - df[\"MA_20\"]) / (\n",
    "        2 * df[\"Std_Dev_20\"]\n",
    "    )  # Normalize position within bands\n",
    "\n",
    "    # date features\n",
    "    df[\"DayOfWeek\"] = df[\"Date\"].dt.dayofweek\n",
    "    df[\"Month\"] = df[\"Date\"].dt.month\n",
    "    df[\"WeekOfYear\"] = df[\"Date\"].dt.isocalendar().week.astype(int)\n",
    "    df[\"Year\"] = df[\"Date\"].dt.year\n",
    "\n",
    "    # range features\n",
    "    df[\"Price_Range_HL\"] = df[\"High\"] - df[\"Low\"]\n",
    "    df[\"Price_Change_OC\"] = df[\"Close\"] - df[\"Open\"]\n",
    "\n",
    "    # --- Drop very early rows that have NaNs due to rolling windows ---\n",
    "    df = df.dropna().reset_index(drop=True)\n",
    "\n",
    "    return df"
   ]
  },
  {
   "cell_type": "code",
   "execution_count": null,
   "id": "50aa6168",
   "metadata": {},
   "outputs": [],
   "source": [
    "def prepare_lstm_data(df, target_col=\"Close\", target_days=7, window_size=30):\n",
    "    df = df.copy()\n",
    "    \n",
    "    # Target and base price setup\n",
    "    df[\"Prediction_Base_Price\"] = df[target_col].shift(target_days)\n",
    "    df[\"Target_Return\"] = df[target_col].pct_change(periods=target_days).shift(-target_days)\n",
    "    df.dropna(subset=[\"Target_Return\", \"Prediction_Base_Price\", target_col], inplace=True)\n",
    "\n",
    "    # Scale the 'Close' prices\n",
    "    scaler = MinMaxScaler()\n",
    "    df[\"Close_scaled\"] = scaler.fit_transform(df[[target_col]])\n",
    "\n",
    "    # Create sequences\n",
    "    data = df[\"Close_scaled\"].values\n",
    "    X, y = [], []\n",
    "    for i in range(len(data) - window_size):\n",
    "        X.append(data[i:i + window_size])\n",
    "        y.append(df[\"Target_Return\"].values[i + window_size])\n",
    "    X, y = np.array(X), np.array(y)\n",
    "    X = X.reshape((X.shape[0], X.shape[1], 1))  # LSTM expects 3D input\n",
    "\n",
    "    # Align base prices and dates\n",
    "    df = df.iloc[window_size:]  # Align to match sequence start\n",
    "    base_prices = df[\"Prediction_Base_Price\"].values\n",
    "    dates = df[\"Date\"].values\n",
    "\n",
    "    # Train/test split\n",
    "    split_idx = int(0.8 * len(X))\n",
    "    X_train, X_test = X[:split_idx], X[split_idx:]\n",
    "    y_train, y_test = y[:split_idx], y[split_idx:]\n",
    "    base_prices_train, base_prices_test = base_prices[:split_idx], base_prices[split_idx:]\n",
    "    dates_train, dates_test = dates[:split_idx], dates[split_idx:]\n",
    "\n",
    "    return X_train, X_test, y_train, y_test, base_prices_test, dates_test, scaler\n"
   ]
  },
  {
   "cell_type": "code",
   "execution_count": null,
   "id": "e6b0369f",
   "metadata": {},
   "outputs": [],
   "source": [
    "def create_model(units=50, dropout_rate=0.2, learning_rate=0.001, input_shape=(30, 1)):\n",
    "    model = Sequential()\n",
    "    model.add(LSTM(units, input_shape=input_shape))\n",
    "    model.add(Dropout(dropout_rate))\n",
    "    model.add(Dense(1))\n",
    "    model.compile(optimizer=Adam(learning_rate=learning_rate), loss=\"mean_squared_error\")\n",
    "    return model"
   ]
  },
  {
   "cell_type": "code",
   "execution_count": null,
   "id": "021d5a41",
   "metadata": {},
   "outputs": [],
   "source": [
    "def cross_validate_lstm(X_train, y_train):\n",
    "    tscv = TimeSeriesSplit(n_splits=5)\n",
    "    val_losses = []\n",
    "\n",
    "    for fold, (train_idx, val_idx) in enumerate(tscv.split(X_train)):\n",
    "        print(f\"\\nFold {fold+1}\")\n",
    "        \n",
    "        X_train_cv, X_val_cv = X_train[train_idx], X_train[val_idx]\n",
    "        y_train_cv, y_val_cv = y_train[train_idx], y_train[val_idx]\n",
    "\n",
    "        model = create_model(input_shape=(X_train.shape[1], X_train.shape[2]))\n",
    "        early_stop = EarlyStopping(monitor=\"val_loss\", patience=5, restore_best_weights=True)\n",
    "        \n",
    "        history = model.fit(\n",
    "            X_train_cv, y_train_cv,\n",
    "            validation_data=(X_val_cv, y_val_cv),\n",
    "            epochs=50,\n",
    "            batch_size=32,\n",
    "            callbacks=[early_stop],\n",
    "            verbose=1\n",
    "        )\n",
    "        \n",
    "        val_loss = min(history.history[\"val_loss\"])\n",
    "        val_losses.append(val_loss)\n",
    "        print(f\"Fold {fold+1} Validation Loss: {val_loss:.4f}\")\n",
    "    \n",
    "    return val_losses"
   ]
  },
  {
   "cell_type": "code",
   "execution_count": null,
   "id": "3ac926bc",
   "metadata": {},
   "outputs": [],
   "source": [
    "def rmse(y_true, y_pred):\n",
    "    return np.sqrt(mean_squared_error(y_true, y_pred))\n",
    "\n",
    "def train_lstm_model(X_train, y_train, X_test, y_test, base_prices_test, dates_test, scaler, stock_name): \n",
    "    print(f\"\\nTraining LSTM model for {stock_name}...\")\n",
    "    model = create_model(input_shape=(X_train.shape[1], X_train.shape[2]))\n",
    "    early_stop = EarlyStopping(monitor='val_loss', patience=5, restore_best_weights=True)\n",
    "\n",
    "    model.fit(\n",
    "        X_train, y_train,\n",
    "        validation_data=(X_test, y_test),\n",
    "        epochs=50,\n",
    "        batch_size=32,\n",
    "        callbacks=[early_stop],\n",
    "        verbose=1\n",
    "    )\n",
    "\n",
    "    y_pred = model.predict(X_test).flatten()\n",
    "    predicted_prices = base_prices_test * (1 + y_pred)\n",
    "    actual_prices = base_prices_test * (1 + y_test)\n",
    "\n",
    "    # Plot predictions\n",
    "    plt.figure(figsize=(12, 6))\n",
    "    plt.plot(dates_test, actual_prices, label=\"Actual Prices\")\n",
    "    plt.plot(dates_test, predicted_prices, label=\"Predicted Prices\")\n",
    "    plt.xlabel(\"Date\")\n",
    "    plt.ylabel(\"Price\")\n",
    "    plt.title(f\"{stock_name} Price Prediction\")\n",
    "    plt.legend()\n",
    "    plt.xticks(rotation=45)\n",
    "    plt.tight_layout()\n",
    "    plt.show()\n",
    "\n",
    "    # RMSE on predicted percentage changes\n",
    "    rmse_percentage_change = rmse(y_test, y_pred)\n",
    "    print(f\"RMSE on Percentage Change: {rmse_percentage_change:.4f}\")\n",
    "\n",
    "    # RMSE on predicted prices\n",
    "    rmse_prices = rmse(actual_prices, predicted_prices)\n",
    "    print(f\"RMSE on Prices: {rmse_prices:.4f}\")\n",
    "\n",
    "    return model"
   ]
  },
  {
   "cell_type": "code",
   "execution_count": null,
   "id": "538beec6",
   "metadata": {},
   "outputs": [],
   "source": [
    "# Apple LSTM Model\n",
    "X_train, X_test, y_train, y_test, base_prices_test, dates_test, scaler = prepare_lstm_data(AAPL_prices)\n",
    "model = train_lstm_model(X_train, y_train, X_test, y_test, base_prices_test, dates_test, scaler, \"Apple\")\n"
   ]
  },
  {
   "cell_type": "code",
   "execution_count": null,
   "id": "026f6aac",
   "metadata": {},
   "outputs": [],
   "source": [
    "# AMZN LSTM Model\n",
    "X_train, X_test, y_train, y_test, base_prices_test, dates_test, scaler = prepare_lstm_data(AMZN_prices)\n",
    "model = train_lstm_model(X_train, y_train, X_test, y_test, base_prices_test, dates_test, scaler, \"Amazon\")\n",
    "\n"
   ]
  },
  {
   "cell_type": "code",
   "execution_count": null,
   "id": "bdfc479c",
   "metadata": {},
   "outputs": [],
   "source": [
    "# BA LSTM Model\n",
    "X_train, X_test, y_train, y_test, base_prices_test, dates_test, scaler = prepare_lstm_data(BA_prices)\n",
    "model = train_lstm_model(X_train, y_train, X_test, y_test, base_prices_test, dates_test, scaler, \"Boeing\")\n",
    "\n"
   ]
  },
  {
   "cell_type": "code",
   "execution_count": null,
   "id": "05baa211",
   "metadata": {},
   "outputs": [],
   "source": [
    "# CAT LSTM Model\n",
    "X_train, X_test, y_train, y_test, base_prices_test, dates_test, scaler = prepare_lstm_data(CAT_prices)\n",
    "model = train_lstm_model(X_train, y_train, X_test, y_test, base_prices_test, dates_test, scaler, \"Caterpillar\")\n",
    "\n"
   ]
  },
  {
   "cell_type": "code",
   "execution_count": null,
   "id": "1854271f",
   "metadata": {},
   "outputs": [],
   "source": [
    "# CVX LSTM Model\n",
    "X_train, X_test, y_train, y_test, base_prices_test, dates_test, scaler = prepare_lstm_data(CVX_prices)\n",
    "model = train_lstm_model(X_train, y_train, X_test, y_test, base_prices_test, dates_test, scaler, \"Chevron\")\n",
    "\n"
   ]
  },
  {
   "cell_type": "code",
   "execution_count": null,
   "id": "44b87e73",
   "metadata": {},
   "outputs": [],
   "source": [
    "# GS LSTM Model\n",
    "X_train, X_test, y_train, y_test, base_prices_test, dates_test, scaler = prepare_lstm_data(GS_prices)\n",
    "model = train_lstm_model(X_train, y_train, X_test, y_test, base_prices_test, dates_test, scaler, \"Goldman Sachs\")\n",
    "\n"
   ]
  },
  {
   "cell_type": "code",
   "execution_count": null,
   "id": "d928b8e2",
   "metadata": {},
   "outputs": [],
   "source": [
    "# JNJ LSTM Model\n",
    "X_train, X_test, y_train, y_test, base_prices_test, dates_test, scaler = prepare_lstm_data(JNJ_prices)\n",
    "model = train_lstm_model(X_train, y_train, X_test, y_test, base_prices_test, dates_test, scaler, \"Johnson & Johnson\")\n",
    "\n"
   ]
  },
  {
   "cell_type": "code",
   "execution_count": null,
   "id": "c402c438",
   "metadata": {},
   "outputs": [],
   "source": [
    "# JPM LSTM Model\n",
    "X_train, X_test, y_train, y_test, base_prices_test, dates_test, scaler = prepare_lstm_data(JPM_prices)\n",
    "model = train_lstm_model(X_train, y_train, X_test, y_test, base_prices_test, dates_test, scaler, \"JPMorgan Chase\")\n",
    "\n"
   ]
  },
  {
   "cell_type": "code",
   "execution_count": null,
   "id": "dcf8f046",
   "metadata": {},
   "outputs": [],
   "source": [
    "# MSFT LSTM Model\n",
    "X_train, X_test, y_train, y_test, base_prices_test, dates_test, scaler = prepare_lstm_data(MSFT_prices)\n",
    "model = train_lstm_model(X_train, y_train, X_test, y_test, base_prices_test, dates_test, scaler, \"Microsoft\")\n",
    "\n"
   ]
  },
  {
   "cell_type": "code",
   "execution_count": null,
   "id": "c7b6860b",
   "metadata": {},
   "outputs": [],
   "source": [
    "# NEE LSTM Model\n",
    "X_train, X_test, y_train, y_test, base_prices_test, dates_test, scaler = prepare_lstm_data(NEE_prices)\n",
    "model = train_lstm_model(X_train, y_train, X_test, y_test, base_prices_test, dates_test, scaler, \"NextEra Energy\")\n",
    "\n"
   ]
  },
  {
   "cell_type": "code",
   "execution_count": null,
   "id": "8502af48",
   "metadata": {},
   "outputs": [],
   "source": [
    "# NVDA LSTM Model\n",
    "X_train, X_test, y_train, y_test, base_prices_test, dates_test, scaler = prepare_lstm_data(NVDA_prices)\n",
    "model = train_lstm_model(X_train, y_train, X_test, y_test, base_prices_test, dates_test, scaler, \"Nvidia\")\n",
    "\n"
   ]
  },
  {
   "cell_type": "code",
   "execution_count": null,
   "id": "980bffca",
   "metadata": {},
   "outputs": [],
   "source": [
    "# PFE LSTM Model\n",
    "X_train, X_test, y_train, y_test, base_prices_test, dates_test, scaler = prepare_lstm_data(PFE_prices)\n",
    "model = train_lstm_model(X_train, y_train, X_test, y_test, base_prices_test, dates_test, scaler, \"Pfizer\")\n",
    "\n"
   ]
  },
  {
   "cell_type": "code",
   "execution_count": null,
   "id": "2484e5f2",
   "metadata": {},
   "outputs": [],
   "source": [
    "# TSLA LSTM Model\n",
    "X_train, X_test, y_train, y_test, base_prices_test, dates_test, scaler = prepare_lstm_data(TSLA_prices)\n",
    "model = train_lstm_model(X_train, y_train, X_test, y_test, base_prices_test, dates_test, scaler, \"Tesla\")\n",
    "\n"
   ]
  },
  {
   "cell_type": "code",
   "execution_count": null,
   "id": "ca500fe1",
   "metadata": {},
   "outputs": [],
   "source": [
    "# XOM LSTM Model\n",
    "X_train, X_test, y_train, y_test, base_prices_test, dates_test, scaler = prepare_lstm_data(XOM_prices)\n",
    "model = train_lstm_model(X_train, y_train, X_test, y_test, base_prices_test, dates_test, scaler, \"Exxon Mobil\")\n",
    "\n"
   ]
  }
 ],
 "metadata": {
  "kernelspec": {
   "display_name": ".venv",
   "language": "python",
   "name": "python3"
  },
  "language_info": {
   "codemirror_mode": {
    "name": "ipython",
    "version": 3
   },
   "file_extension": ".py",
   "mimetype": "text/x-python",
   "name": "python",
   "nbconvert_exporter": "python",
   "pygments_lexer": "ipython3",
   "version": "3.12.10"
  }
 },
 "nbformat": 4,
 "nbformat_minor": 5
}
