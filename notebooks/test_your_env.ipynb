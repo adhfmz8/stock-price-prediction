{
 "cells": [
  {
   "cell_type": "code",
   "execution_count": 2,
   "metadata": {},
   "outputs": [
    {
     "name": "stdout",
     "output_type": "stream",
     "text": [
      "Make sure you are using the correct python kernel in venv/bin/python3\n",
      "If you import a package, add it to uv with uv add, then import into the notebook\n"
     ]
    }
   ],
   "source": [
    "print(\"Make sure you are using the correct python kernel in venv/bin/python3\")\n",
    "print(\"If you import a package, add it to uv with uv add, then import into the notebook\")"
   ]
  }
 ],
 "metadata": {
  "kernelspec": {
   "display_name": ".venv",
   "language": "python",
   "name": "python3"
  },
  "language_info": {
   "codemirror_mode": {
    "name": "ipython",
    "version": 3
   },
   "file_extension": ".py",
   "mimetype": "text/x-python",
   "name": "python",
   "nbconvert_exporter": "python",
   "pygments_lexer": "ipython3",
   "version": "3.12.0"
  },
  "orig_nbformat": 4
 },
 "nbformat": 4,
 "nbformat_minor": 2
}
